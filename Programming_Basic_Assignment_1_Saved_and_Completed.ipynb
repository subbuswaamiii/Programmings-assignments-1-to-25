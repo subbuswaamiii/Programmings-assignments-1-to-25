{
  "nbformat": 4,
  "nbformat_minor": 0,
  "metadata": {
    "colab": {
      "provenance": []
    },
    "kernelspec": {
      "name": "python3",
      "display_name": "Python 3"
    },
    "language_info": {
      "name": "python"
    }
  },
  "cells": [
    {
      "cell_type": "code",
      "execution_count": null,
      "metadata": {
        "id": "_wm3vUufm-fS"
      },
      "outputs": [],
      "source": []
    },
    {
      "cell_type": "markdown",
      "source": [
        "**Question 1 - *Write* a Python program to print \"Hello Python\"?**\n",
        "\n",
        "\n",
        "**Answer 1 -**"
      ],
      "metadata": {
        "id": "SlMv_MpfnL8-"
      }
    },
    {
      "cell_type": "code",
      "source": [
        "print (\"Hello Python\")"
      ],
      "metadata": {
        "id": "DYW2NoSsoGY6"
      },
      "execution_count": null,
      "outputs": []
    },
    {
      "cell_type": "code",
      "source": [
        "###############################################################################################################################################################"
      ],
      "metadata": {
        "id": "YEqhLvsrt9gM"
      },
      "execution_count": null,
      "outputs": []
    },
    {
      "cell_type": "markdown",
      "source": [
        "**Question 2 - Write a Python program to do arithmetical operations addition and division.?**\n",
        "\n",
        "\n",
        "**Answer 2 -**"
      ],
      "metadata": {
        "id": "1tMoeO-ynMAq"
      }
    },
    {
      "cell_type": "code",
      "source": [
        "def add(x,y):\n",
        "    return x+y\n",
        "    #print(f\"addition of {x} and {y} is = {add(x,y)}\")\n",
        "\n",
        "def divide(x,y):\n",
        "    return x/y\n",
        "    #print(f\"divison of {x} and {y} is = {divide(x,y)}\")"
      ],
      "metadata": {
        "id": "JZI4b4XPoG6U"
      },
      "execution_count": 13,
      "outputs": []
    },
    {
      "cell_type": "code",
      "source": [
        "print(f\"addition of {x} and {y} is = \", add(40,10))\n",
        "print(f\"divison of {x} and {y} is = \", divide(40,10))"
      ],
      "metadata": {
        "colab": {
          "base_uri": "https://localhost:8080/"
        },
        "id": "eAAwKYfYqtw-",
        "outputId": "5c8c69b4-a955-4208-b963-ebe3c0036e14"
      },
      "execution_count": 24,
      "outputs": [
        {
          "output_type": "stream",
          "name": "stdout",
          "text": [
            "addition of 20 and 10 is =  50\n",
            "divison of 20 and 10 is =  4.0\n"
          ]
        }
      ]
    },
    {
      "cell_type": "code",
      "source": [
        "###############################################################################################################################################################"
      ],
      "metadata": {
        "id": "eJX_8SjwuCAm"
      },
      "execution_count": null,
      "outputs": []
    },
    {
      "cell_type": "markdown",
      "source": [
        "**Question 3 - Write a Python program to find the area of a triangle?**\n",
        "\n",
        "\n",
        "**Answer 3 -**"
      ],
      "metadata": {
        "id": "-r_YF1GTnMEd"
      }
    },
    {
      "cell_type": "code",
      "source": [
        "base = int(input(\"base = \"))\n",
        "height = int(input(\"height = \"))\n",
        "AreaFormula = (height*base)/2\n",
        "print(\"The Area of Triangle of Base {} meter and height {} meter is {} square-meter\".format(base , height , AreaFormula))"
      ],
      "metadata": {
        "colab": {
          "base_uri": "https://localhost:8080/"
        },
        "id": "dPt1OXbWoHaD",
        "outputId": "fd6adbbf-2666-41b1-ba43-72a585753220"
      },
      "execution_count": 28,
      "outputs": [
        {
          "output_type": "stream",
          "name": "stdout",
          "text": [
            "base = 40\n",
            "height = 10\n",
            "The Area of Triangle of Base 40 meter and height 10 meter is 200.0 square-meter\n"
          ]
        }
      ]
    },
    {
      "cell_type": "code",
      "source": [
        "###############################################################################################################################################################"
      ],
      "metadata": {
        "id": "E3UV03OJuC7B"
      },
      "execution_count": null,
      "outputs": []
    },
    {
      "cell_type": "markdown",
      "source": [
        "**Question 4 - Write a Python program to swap two variables?**\n",
        "\n",
        "\n",
        "\n",
        "**Answer 4 -**"
      ],
      "metadata": {
        "id": "Lqw-i2qRnMHS"
      }
    },
    {
      "cell_type": "code",
      "source": [
        "a = 10\n",
        "b = 20\n",
        "print(\" Before swapping , value of a and b are as follows:\")\n",
        "print(f\" Value of a is  {a}\")\n",
        "print(f\" Value of b is  {b}\")\n",
        "\n",
        "temp = a\n",
        "a = b \n",
        "b = temp\n",
        "print(\" After swapping , value of a and b are as follows:\")\n",
        "print(f\" Value of a is  {a}\")\n",
        "print(f\" Value of b is  {b}\")"
      ],
      "metadata": {
        "colab": {
          "base_uri": "https://localhost:8080/"
        },
        "id": "RNBA0QLmoH70",
        "outputId": "8a01d5c4-3fa4-43d2-8ec9-9a6b12c32e43"
      },
      "execution_count": 31,
      "outputs": [
        {
          "output_type": "stream",
          "name": "stdout",
          "text": [
            " Before swapping , value of a and b are as follows:\n",
            " Value of a is  10\n",
            " Value of b is  20\n",
            " After swapping , value of a and b are as follows:\n",
            " Value of a is  20\n",
            " Value of b is  10\n"
          ]
        }
      ]
    },
    {
      "cell_type": "code",
      "source": [
        "###############################################################################################################################################################"
      ],
      "metadata": {
        "id": "FePpy1MvuDpB"
      },
      "execution_count": null,
      "outputs": []
    },
    {
      "cell_type": "markdown",
      "source": [
        "**Question 5 - Write a Python program to generate a random number?**\n",
        "\n",
        "\n",
        "\n",
        "**Answer 5 -**"
      ],
      "metadata": {
        "id": "UZpjaZ_cnMKl"
      }
    },
    {
      "cell_type": "code",
      "source": [
        "\n",
        "import random\n",
        "print(random.randint(0,9))"
      ],
      "metadata": {
        "colab": {
          "base_uri": "https://localhost:8080/"
        },
        "id": "Pc-JtoRYoIoc",
        "outputId": "c3d689ce-38cc-4ca0-bf78-b86299444c99"
      },
      "execution_count": 32,
      "outputs": [
        {
          "output_type": "stream",
          "name": "stdout",
          "text": [
            "2\n"
          ]
        }
      ]
    },
    {
      "cell_type": "code",
      "source": [
        "import random  \n",
        "n = random.random()  \n",
        "print(n)  "
      ],
      "metadata": {
        "colab": {
          "base_uri": "https://localhost:8080/"
        },
        "id": "_AfSFhirtTJf",
        "outputId": "011b33fe-eb24-4aad-9d7c-b4a64a216775"
      },
      "execution_count": 33,
      "outputs": [
        {
          "output_type": "stream",
          "name": "stdout",
          "text": [
            "0.7081200238412052\n"
          ]
        }
      ]
    },
    {
      "cell_type": "code",
      "source": [
        "###############################################################################################################################################################"
      ],
      "metadata": {
        "id": "PnLp7Js6uElz"
      },
      "execution_count": null,
      "outputs": []
    }
  ]
}