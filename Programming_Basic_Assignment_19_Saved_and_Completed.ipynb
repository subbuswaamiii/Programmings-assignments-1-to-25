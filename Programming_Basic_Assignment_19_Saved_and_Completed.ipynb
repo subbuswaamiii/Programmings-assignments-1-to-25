{
  "nbformat": 4,
  "nbformat_minor": 0,
  "metadata": {
    "colab": {
      "provenance": []
    },
    "kernelspec": {
      "name": "python3",
      "display_name": "Python 3"
    },
    "language_info": {
      "name": "python"
    }
  },
  "cells": [
    {
      "cell_type": "code",
      "execution_count": null,
      "metadata": {
        "id": "_POOk7m4CUvi"
      },
      "outputs": [],
      "source": []
    },
    {
      "cell_type": "markdown",
      "source": [
        "**Question1**\n",
        "\n",
        "**Create a function that takes a string and returns a string in which each character is repeated once.**\n",
        "\n",
        "**Examples**\n",
        "\n",
        "double_char(\"String\") ➞ \"SSttrriinngg\"\n",
        "\n",
        "double_char(\"Hello World!\") ➞ \"HHeelllloo  WWoorrlldd!!\"\n",
        "\n",
        "double_char(\"1234!_ \") ➞ \"11223344!!__  \"\n",
        "\n",
        "\n",
        "\n",
        "**Answer 1 -**"
      ],
      "metadata": {
        "id": "uBZnOGlECesG"
      }
    },
    {
      "cell_type": "code",
      "source": [
        "## Final Result\n",
        "\n",
        "def double(s):\n",
        "\n",
        "  print(f\"double_char ({s}) ➞ \",end=\" \")\n",
        "  #s = \"Hello World!\"\n",
        "  for i in s:\n",
        "    #j  = i+i\n",
        "    #print(j)\n",
        "\n",
        "    print(\"\".join((i,i)),end=\"\")"
      ],
      "metadata": {
        "id": "ZRevPIw1JTVe"
      },
      "execution_count": 5,
      "outputs": []
    },
    {
      "cell_type": "code",
      "source": [
        "double(\"String\")"
      ],
      "metadata": {
        "colab": {
          "base_uri": "https://localhost:8080/"
        },
        "id": "JAd5TuX5JWbV",
        "outputId": "54f29520-a488-41e3-b949-90ccdb13b21b"
      },
      "execution_count": 6,
      "outputs": [
        {
          "output_type": "stream",
          "name": "stdout",
          "text": [
            "double_char (String) ➞  SSttrriinngg"
          ]
        }
      ]
    },
    {
      "cell_type": "code",
      "source": [
        "double(\"Hello World!\")"
      ],
      "metadata": {
        "colab": {
          "base_uri": "https://localhost:8080/"
        },
        "id": "WepZJZwNJWe1",
        "outputId": "0c519e8b-fa29-490e-c34f-3ab5fecc592f"
      },
      "execution_count": 7,
      "outputs": [
        {
          "output_type": "stream",
          "name": "stdout",
          "text": [
            "double_char (Hello World!) ➞  HHeelllloo  WWoorrlldd!!"
          ]
        }
      ]
    },
    {
      "cell_type": "code",
      "source": [
        "double(\"1234!_ \")"
      ],
      "metadata": {
        "colab": {
          "base_uri": "https://localhost:8080/"
        },
        "id": "n3yA3z_MJWia",
        "outputId": "586f2f4a-6fac-401e-f1a7-bbc908c970b3"
      },
      "execution_count": 8,
      "outputs": [
        {
          "output_type": "stream",
          "name": "stdout",
          "text": [
            "double_char (1234!_ ) ➞  11223344!!__  "
          ]
        }
      ]
    },
    {
      "cell_type": "markdown",
      "source": [
        "**##########################################################################################################**"
      ],
      "metadata": {
        "id": "yJ0YkFRzCev-"
      }
    },
    {
      "cell_type": "markdown",
      "source": [
        "**Question2**\n",
        "\n",
        "**Create a function that reverses a boolean value and returns the string \"boolean expected\" if another variable type is given**.\n",
        "\n",
        "**Examples**\n",
        "\n",
        "reverse(True) ➞ False\n",
        "\n",
        "reverse(False) ➞ True\n",
        "\n",
        "reverse(0) ➞ \"boolean expected\"\n",
        "\n",
        "reverse(None) ➞ \"boolean expected\"\n",
        "\n",
        "\n",
        "**Answer 2 -**\n"
      ],
      "metadata": {
        "id": "Vkm-OyL3Cezj"
      }
    },
    {
      "cell_type": "code",
      "source": [
        "## final Result\n",
        "\n",
        "def checking(value):\n",
        "  #value = True\n",
        "  if type(value) == bool:\n",
        "    print(f\"reverse({value}) ➞\", end=\"\")\n",
        "    return not value\n",
        "\n",
        "  else:\n",
        "    print(f\"reverse({value}) ➞\",end=\"\")\n",
        "    return \"boolean expected\""
      ],
      "metadata": {
        "id": "A7o3HiQpPMWN"
      },
      "execution_count": 14,
      "outputs": []
    },
    {
      "cell_type": "code",
      "source": [
        "checking(True)"
      ],
      "metadata": {
        "colab": {
          "base_uri": "https://localhost:8080/"
        },
        "id": "it2jF_QxPMb4",
        "outputId": "6e2b29d9-32d4-4134-eb49-49b9628e4fdf"
      },
      "execution_count": 15,
      "outputs": [
        {
          "output_type": "stream",
          "name": "stdout",
          "text": [
            "reverse(True) ➞"
          ]
        },
        {
          "output_type": "execute_result",
          "data": {
            "text/plain": [
              "False"
            ]
          },
          "metadata": {},
          "execution_count": 15
        }
      ]
    },
    {
      "cell_type": "code",
      "source": [
        "checking(False)"
      ],
      "metadata": {
        "colab": {
          "base_uri": "https://localhost:8080/"
        },
        "id": "hog4yD-wPMe_",
        "outputId": "0152206a-2d35-442f-c0d3-915839463b55"
      },
      "execution_count": 16,
      "outputs": [
        {
          "output_type": "stream",
          "name": "stdout",
          "text": [
            "reverse(False) ➞"
          ]
        },
        {
          "output_type": "execute_result",
          "data": {
            "text/plain": [
              "True"
            ]
          },
          "metadata": {},
          "execution_count": 16
        }
      ]
    },
    {
      "cell_type": "code",
      "source": [
        "checking(0)"
      ],
      "metadata": {
        "colab": {
          "base_uri": "https://localhost:8080/",
          "height": 35
        },
        "id": "_OcP941FPMhz",
        "outputId": "8efadee4-9a9c-40ad-8406-66b54a2cff7d"
      },
      "execution_count": 17,
      "outputs": [
        {
          "output_type": "stream",
          "name": "stdout",
          "text": [
            "reverse(0) ➞"
          ]
        },
        {
          "output_type": "execute_result",
          "data": {
            "text/plain": [
              "'boolean expected'"
            ],
            "application/vnd.google.colaboratory.intrinsic+json": {
              "type": "string"
            }
          },
          "metadata": {},
          "execution_count": 17
        }
      ]
    },
    {
      "cell_type": "code",
      "source": [
        "checking(None)"
      ],
      "metadata": {
        "colab": {
          "base_uri": "https://localhost:8080/",
          "height": 35
        },
        "id": "3mPmA1C_PMlX",
        "outputId": "6b73853c-e886-4593-98a8-b8805801739c"
      },
      "execution_count": 18,
      "outputs": [
        {
          "output_type": "stream",
          "name": "stdout",
          "text": [
            "reverse(None) ➞"
          ]
        },
        {
          "output_type": "execute_result",
          "data": {
            "text/plain": [
              "'boolean expected'"
            ],
            "application/vnd.google.colaboratory.intrinsic+json": {
              "type": "string"
            }
          },
          "metadata": {},
          "execution_count": 18
        }
      ]
    },
    {
      "cell_type": "code",
      "source": [],
      "metadata": {
        "id": "dbRGUpPBPMpV"
      },
      "execution_count": null,
      "outputs": []
    },
    {
      "cell_type": "markdown",
      "source": [
        "**##########################################################################################################**"
      ],
      "metadata": {
        "id": "hMzASUbmCe21"
      }
    },
    {
      "cell_type": "markdown",
      "source": [
        "**Question3**\n",
        "\n",
        "**Create a function that returns the thickness (in meters) of a piece of paper after folding it n number of times. The paper starts off with a thickness of 0.5mm.**\n",
        "\n",
        "**Examples**\n",
        "\n",
        "num_layers(1) ➞ \"0.001m\"\n",
        "\n",
        "*Paper folded once is 1mm (equal to 0.001m)\n",
        "\n",
        "num_layers(4) ➞ \"0.008m\"\n",
        "\n",
        "*Paper folded 4 times is 8mm (equal to 0.008m)\n",
        "\n",
        "num_layers(21) ➞ \"1048.576m\"\n",
        "\n",
        "*Paper folded 21 times is 1048576mm (equal to 1048.576m)\n",
        "\n",
        "**Answer 3 -**"
      ],
      "metadata": {
        "id": "U-EROkAJCe6m"
      }
    },
    {
      "cell_type": "code",
      "source": [
        "## final Result\n",
        "def fold(n):\n",
        "\n",
        "  i = 0.5\n",
        "  for j in range(n):\n",
        "    i = i *2\n",
        "  #print(i,'m')\n",
        "  # 1mm =  0.001m\n",
        "  print(f\"num_layers({n}) ➞\",end=\" \")\n",
        "  return str(i/1000)+'mm'"
      ],
      "metadata": {
        "id": "XGMOtd-jpzp2"
      },
      "execution_count": 19,
      "outputs": []
    },
    {
      "cell_type": "code",
      "source": [
        "fold(1)"
      ],
      "metadata": {
        "colab": {
          "base_uri": "https://localhost:8080/",
          "height": 35
        },
        "id": "uRZPZ3mXp23_",
        "outputId": "92d1dd88-ea87-4054-e2a3-c6fd106b5ae9"
      },
      "execution_count": 20,
      "outputs": [
        {
          "output_type": "stream",
          "name": "stdout",
          "text": [
            "num_layers(1) ➞ "
          ]
        },
        {
          "output_type": "execute_result",
          "data": {
            "text/plain": [
              "'0.001mm'"
            ],
            "application/vnd.google.colaboratory.intrinsic+json": {
              "type": "string"
            }
          },
          "metadata": {},
          "execution_count": 20
        }
      ]
    },
    {
      "cell_type": "code",
      "source": [
        "fold(4)"
      ],
      "metadata": {
        "colab": {
          "base_uri": "https://localhost:8080/",
          "height": 35
        },
        "id": "_gf-dlLlpzzw",
        "outputId": "468b3542-c2ba-43b5-bc78-58e2203689ec"
      },
      "execution_count": 21,
      "outputs": [
        {
          "output_type": "stream",
          "name": "stdout",
          "text": [
            "num_layers(4) ➞ "
          ]
        },
        {
          "output_type": "execute_result",
          "data": {
            "text/plain": [
              "'0.008mm'"
            ],
            "application/vnd.google.colaboratory.intrinsic+json": {
              "type": "string"
            }
          },
          "metadata": {},
          "execution_count": 21
        }
      ]
    },
    {
      "cell_type": "code",
      "source": [
        "fold(21)"
      ],
      "metadata": {
        "colab": {
          "base_uri": "https://localhost:8080/",
          "height": 35
        },
        "id": "uavQ0XAWpz22",
        "outputId": "e4c868a2-f332-4a1e-ae23-6a8f35c747e8"
      },
      "execution_count": 22,
      "outputs": [
        {
          "output_type": "stream",
          "name": "stdout",
          "text": [
            "num_layers(21) ➞ "
          ]
        },
        {
          "output_type": "execute_result",
          "data": {
            "text/plain": [
              "'1048.576mm'"
            ],
            "application/vnd.google.colaboratory.intrinsic+json": {
              "type": "string"
            }
          },
          "metadata": {},
          "execution_count": 22
        }
      ]
    },
    {
      "cell_type": "markdown",
      "source": [
        "**##########################################################################################################**"
      ],
      "metadata": {
        "id": "_FzNsNsFCe-R"
      }
    },
    {
      "cell_type": "markdown",
      "source": [
        "**Question4**\n",
        "\n",
        "**Create a function that takes a single string as argument and returns an ordered list containing the indices of all capital letters in the string.**\n",
        "\n",
        "**Examples**\n",
        "\n",
        "index_of_caps(\"eDaBiT\") ➞ [1, 3, 5]\n",
        "\n",
        "index_of_caps(\"eQuINoX\") ➞ [1, 3, 4, 6]\n",
        "\n",
        "index_of_caps(\"determine\") ➞ []\n",
        "\n",
        "index_of_caps(\"STRIKE\") ➞ [0, 1, 2, 3, 4, 5]\n",
        "\n",
        "index_of_caps(\"sUn\") ➞ [1]\n",
        "\n",
        "\n",
        "\n",
        "**Answer 4 -**"
      ],
      "metadata": {
        "id": "md-yyvBfCfCD"
      }
    },
    {
      "cell_type": "code",
      "source": [
        "## Final Result\n",
        "\n",
        "def upperletterindex(str1):\n",
        "\n",
        "  #str1 = \"eDaBiT\"\n",
        "  empty = []\n",
        "\n",
        "  for i in str1 :\n",
        "    if i.isupper():\n",
        "\n",
        "      #print(i)\n",
        "      #print(str1.index(i))\n",
        "\n",
        "      indices =str1.index(i)\n",
        "      empty.append(indices)\n",
        "\n",
        "  print(f\"index_of_caps({str}) ➞\", end=\" \")\n",
        "  print(empty)\n",
        "\n"
      ],
      "metadata": {
        "id": "aOSq6hONIBhI"
      },
      "execution_count": null,
      "outputs": []
    },
    {
      "cell_type": "code",
      "source": [
        "upperletterindex(\"eDaBiT\")"
      ],
      "metadata": {
        "id": "jytyXtgkIBnv"
      },
      "execution_count": null,
      "outputs": []
    },
    {
      "cell_type": "code",
      "source": [
        "upperletterindex(\"eQuINoX\")"
      ],
      "metadata": {
        "id": "CXOnLKHSIBq9"
      },
      "execution_count": null,
      "outputs": []
    },
    {
      "cell_type": "code",
      "source": [
        "upperletterindex(\"determine\")"
      ],
      "metadata": {
        "id": "rVEmI3L0IBt3"
      },
      "execution_count": null,
      "outputs": []
    },
    {
      "cell_type": "code",
      "source": [
        "upperletterindex(\"STRIKE\")"
      ],
      "metadata": {
        "id": "qq8RrdT8IBxR"
      },
      "execution_count": null,
      "outputs": []
    },
    {
      "cell_type": "code",
      "source": [
        "upperletterindex(\"sUn\")"
      ],
      "metadata": {
        "id": "b4-1RE04IB1w"
      },
      "execution_count": null,
      "outputs": []
    },
    {
      "cell_type": "markdown",
      "source": [
        "**##########################################################################################################**"
      ],
      "metadata": {
        "id": "ym87JnDaCfG2"
      }
    },
    {
      "cell_type": "markdown",
      "source": [
        "**Question5**\n",
        "\n",
        "**Using list comprehensions, create a function that finds all even numbers from 1 to the given number.**\n",
        "\n",
        "**Examples**\n",
        "\n",
        "find_even_nums(8) ➞ [2, 4, 6, 8]\n",
        "\n",
        "find_even_nums(4) ➞ [2, 4]\n",
        "\n",
        "find_even_nums(2) ➞ [2]\n",
        "\n",
        "\n",
        "**Answer 5 -**"
      ],
      "metadata": {
        "id": "V-fM13AmCfLr"
      }
    },
    {
      "cell_type": "code",
      "source": [
        "## Final Result:\n",
        "def even(n):\n",
        "\n",
        "  #n = 8 \n",
        "  empty = []\n",
        "\n",
        "  for i in range(1,n+1):\n",
        "    if i%2 == 0 :\n",
        "      empty.append(i)\n",
        "\n",
        "  print(f\"find_even_nums({n}) ➞\", end=\" \")    \n",
        "  print(empty)"
      ],
      "metadata": {
        "id": "jr3SpDEk7mXh"
      },
      "execution_count": 23,
      "outputs": []
    },
    {
      "cell_type": "code",
      "source": [
        "even(8)"
      ],
      "metadata": {
        "colab": {
          "base_uri": "https://localhost:8080/"
        },
        "id": "mcYK_hJm7maj",
        "outputId": "afc91f75-9b2c-4cde-9326-7f33d34c6958"
      },
      "execution_count": 24,
      "outputs": [
        {
          "output_type": "stream",
          "name": "stdout",
          "text": [
            "find_even_nums(8) ➞ [2, 4, 6, 8]\n"
          ]
        }
      ]
    },
    {
      "cell_type": "code",
      "source": [
        "even(4)"
      ],
      "metadata": {
        "colab": {
          "base_uri": "https://localhost:8080/"
        },
        "id": "LKWNq57i7mdX",
        "outputId": "837ae8cc-b2ae-4c6e-c84e-17e963cc9e94"
      },
      "execution_count": 25,
      "outputs": [
        {
          "output_type": "stream",
          "name": "stdout",
          "text": [
            "find_even_nums(4) ➞ [2, 4]\n"
          ]
        }
      ]
    },
    {
      "cell_type": "code",
      "source": [
        "even(2)"
      ],
      "metadata": {
        "colab": {
          "base_uri": "https://localhost:8080/"
        },
        "id": "1OClaf6K7mgi",
        "outputId": "4100bb58-d4e2-4125-ecb2-037b72e357dd"
      },
      "execution_count": 26,
      "outputs": [
        {
          "output_type": "stream",
          "name": "stdout",
          "text": [
            "find_even_nums(2) ➞ [2]\n"
          ]
        }
      ]
    },
    {
      "cell_type": "markdown",
      "source": [
        "**##########################################################################################################**"
      ],
      "metadata": {
        "id": "abJ-GeSQCfQU"
      }
    }
  ]
}