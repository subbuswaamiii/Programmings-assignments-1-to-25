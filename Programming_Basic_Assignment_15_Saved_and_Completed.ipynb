{
  "nbformat": 4,
  "nbformat_minor": 0,
  "metadata": {
    "colab": {
      "provenance": []
    },
    "kernelspec": {
      "name": "python3",
      "display_name": "Python 3"
    },
    "language_info": {
      "name": "python"
    }
  },
  "cells": [
    {
      "cell_type": "markdown",
      "source": [
        "\n",
        "**Question 1 -Please write a program using generator to print the numbers which can be divisible by 5 and 7 between 0 and n in comma separated form while n is input by console.**\n",
        "\n",
        "**Example:**\n",
        "\n",
        "If the following n is given as input to the program:\n",
        "\n",
        "100\n",
        "\n",
        "Then, the output of the program should be:\n",
        "\n",
        "0,35,70\n",
        "\n",
        "\n",
        "\n",
        "**Answer 1 -**"
      ],
      "metadata": {
        "id": "BaUx40Ky91P5"
      }
    },
    {
      "cell_type": "code",
      "source": [
        "## Final Result\n",
        "\n",
        "\n",
        "n = int(input(\" enter n =\"))\n",
        "x= ( i for i in range(n+1) if i%5 == 0 and i%7 ==0)\n",
        "print(x)"
      ],
      "metadata": {
        "colab": {
          "base_uri": "https://localhost:8080/"
        },
        "id": "zk7tBe8bAI5-",
        "outputId": "3de44e7b-0722-4901-c453-33f2f5ea1b1c"
      },
      "execution_count": null,
      "outputs": [
        {
          "output_type": "stream",
          "name": "stdout",
          "text": [
            " enter n =100\n",
            "<generator object <genexpr> at 0x7fac49bf4c10>\n"
          ]
        }
      ]
    },
    {
      "cell_type": "code",
      "source": [
        "for j in x:\n",
        "  print(j, end=\",\")"
      ],
      "metadata": {
        "colab": {
          "base_uri": "https://localhost:8080/"
        },
        "id": "UokApa2uCkst",
        "outputId": "486bc080-692d-4e39-d421-46c1ea03c948"
      },
      "execution_count": null,
      "outputs": [
        {
          "output_type": "stream",
          "name": "stdout",
          "text": [
            "0,35,70,"
          ]
        }
      ]
    },
    {
      "cell_type": "markdown",
      "source": [
        "**##########################################################################################################**"
      ],
      "metadata": {
        "id": "A-ISSaMf91TR"
      }
    },
    {
      "cell_type": "markdown",
      "source": [
        "**Question 2 -Please write a program using generator to print the even numbers between 0 and n in comma separated form while n is input by console.**\n",
        "\n",
        "**Example:**\n",
        "\n",
        "If the following n is given as input to the program:\n",
        "\n",
        "10\n",
        "\n",
        "Then, the output of the program should be:\n",
        "\n",
        "0,2,4,6,8,10\n",
        "\n",
        "\n",
        "\n",
        "**Answer 2 -**"
      ],
      "metadata": {
        "id": "mVZcUqvr91cq"
      }
    },
    {
      "cell_type": "code",
      "source": [
        "## Final Result\n",
        "\n",
        "\n",
        "n = int(input(\" enter n =\"))\n",
        "x= ( i for i in range(n+1) if i%2 == 0 )\n",
        "print(x)"
      ],
      "metadata": {
        "colab": {
          "base_uri": "https://localhost:8080/"
        },
        "id": "1OMFKQcSAJg8",
        "outputId": "d77ff897-dd0b-4add-c162-a96c819fdcb7"
      },
      "execution_count": null,
      "outputs": [
        {
          "output_type": "stream",
          "name": "stdout",
          "text": [
            " enter n =10\n",
            "<generator object <genexpr> at 0x7fac49bf4430>\n"
          ]
        }
      ]
    },
    {
      "cell_type": "code",
      "source": [
        "for j in x:\n",
        "  print(j, end=\",\")"
      ],
      "metadata": {
        "colab": {
          "base_uri": "https://localhost:8080/"
        },
        "id": "8MNiReVHGavH",
        "outputId": "fdc140db-7ebe-476c-c42e-a5b197f2dd5d"
      },
      "execution_count": null,
      "outputs": [
        {
          "output_type": "stream",
          "name": "stdout",
          "text": [
            "0,2,4,6,8,10,"
          ]
        }
      ]
    },
    {
      "cell_type": "markdown",
      "source": [
        "**##########################################################################################################**"
      ],
      "metadata": {
        "id": "aexIvonX91ge"
      }
    },
    {
      "cell_type": "markdown",
      "source": [
        "**Question 3 -The Fibonacci Sequence is computed based on the following formula:**\n",
        "f(n)=0 if n=0\n",
        "f(n)=1 if n=1\n",
        "f(n)=f(n-1)+f(n-2) if n>1\n",
        "Please write a program using list comprehension to print the Fibonacci Sequence in comma separated form with a given n input by console.\n",
        "\n",
        "**Example:**\n",
        "\n",
        "If the following n is given as input to the program:\n",
        "\n",
        "7\n",
        "\n",
        "\n",
        "Then, the output of the program should be:\n",
        "\n",
        "0,1,1,2,3,5,8,13\n",
        "\n",
        "\n",
        "\n",
        "**Answer 3 -**"
      ],
      "metadata": {
        "id": "upGpEiVW91rK"
      }
    },
    {
      "cell_type": "code",
      "source": [
        "# Final Result\n",
        "\n",
        "n = int(input(\" enter n =\"))\n",
        "fib0= 0\n",
        "fib1 = 1\n",
        "for i in range(n+1):\n",
        "  print(fib0, end=\",\")\n",
        "  nextfib = fib0 + fib1\n",
        "  fib0 = fib1\n",
        "  fib1 = nextfib"
      ],
      "metadata": {
        "id": "2lu5Gqh0AKGQ",
        "colab": {
          "base_uri": "https://localhost:8080/"
        },
        "outputId": "afbf269d-a51a-46a7-8e52-d83e937d4fdc"
      },
      "execution_count": 1,
      "outputs": [
        {
          "output_type": "stream",
          "name": "stdout",
          "text": [
            " enter n =7\n",
            "0,1,1,2,3,5,8,13,"
          ]
        }
      ]
    },
    {
      "cell_type": "markdown",
      "source": [
        "**##########################################################################################################**"
      ],
      "metadata": {
        "id": "EzmAwXa591u7"
      }
    },
    {
      "cell_type": "markdown",
      "source": [
        "**Question 4 -Assuming that we have some email addresses in the \"username@companyname.com\" format, please write program to print the user name of a given email address. Both user names and company names are composed of letters only.**\n",
        "\n",
        "**Example:**\n",
        "\n",
        "If the following email address is given as input to the program:\n",
        "\n",
        "john@google.com\n",
        "\n",
        "Then, the output of the program should be:\n",
        "\n",
        "john\n",
        "\n",
        "\n",
        "\n",
        "**Answer 4 -**"
      ],
      "metadata": {
        "id": "pwoLsFRA913y"
      }
    },
    {
      "cell_type": "code",
      "source": [
        "## Final Result\n",
        "\n",
        "email = \"john@google.com\"\n",
        "print(\"entered input email address is =\",email)\n",
        "list1 = email.split(\".\")\n",
        "#print(\"List1 = \", list1)\n",
        "#print(\"Firstpart = \", list1[0])\n",
        "list2 = list1[0].split(\"@\")\n",
        "#list2\n",
        "print(\"Username = \" , list2[0])\n",
        "print(\"Company Name = \", list2[1])"
      ],
      "metadata": {
        "id": "GZwzgPh4AKks",
        "colab": {
          "base_uri": "https://localhost:8080/"
        },
        "outputId": "2d7dea76-ae3d-45e2-e047-b546c9ab24c8"
      },
      "execution_count": 2,
      "outputs": [
        {
          "output_type": "stream",
          "name": "stdout",
          "text": [
            "entered input email address is = john@google.com\n",
            "Username =  john\n",
            "Company Name =  google\n"
          ]
        }
      ]
    },
    {
      "cell_type": "code",
      "source": [
        "## Final Result\n",
        "\n",
        "email = \"elonmask@gmail.com\"\n",
        "print(\"entered input email address is =\",email)\n",
        "list1 = email.split(\".\")\n",
        "#print(\"List1 = \", list1)\n",
        "#print(\"Firstpart = \", list1[0])\n",
        "list2 = list1[0].split(\"@\")\n",
        "#list2\n",
        "print(\"Username = \" , list2[0])\n",
        "print(\"Company Name = \", list2[1])"
      ],
      "metadata": {
        "id": "gpSST6IYAKre",
        "colab": {
          "base_uri": "https://localhost:8080/"
        },
        "outputId": "8268318c-df15-4c94-b501-4d74c5351fe0"
      },
      "execution_count": 3,
      "outputs": [
        {
          "output_type": "stream",
          "name": "stdout",
          "text": [
            "entered input email address is = elonmask@gmail.com\n",
            "Username =  elonmask\n",
            "Company Name =  gmail\n"
          ]
        }
      ]
    },
    {
      "cell_type": "markdown",
      "source": [
        "**##########################################################################################################**"
      ],
      "metadata": {
        "id": "pYraIrJU918n"
      }
    },
    {
      "cell_type": "markdown",
      "source": [
        "**Question 5 -Define a class named Shape and its subclass Square. The Square class has an init function which takes a length as argument. Both classes have a area function which can print the area of the shape where Shape's area is 0 by default.**\n",
        "\n",
        "\n",
        "**Answer 5 -**"
      ],
      "metadata": {
        "id": "wVDxd2y292Hs"
      }
    },
    {
      "cell_type": "code",
      "source": [
        "# Final Result \n",
        "class Shape(object):\n",
        "    def __init__(self):\n",
        "        return 0\n",
        "    def area(self):\n",
        "        return 0\n",
        "\n",
        "class Square(Shape):\n",
        "    def __init__(self, length = 0):\n",
        "        #Shape.__init__(self)\n",
        "        self.length = length\n",
        "\n",
        "    def area(self):\n",
        "        return self.length*self.length\n",
        "length = int(input(\"Enter the length of Sqaure =\"))\n",
        "Square_obj= Square(length)\n",
        "print (\"Area of Square is = \",Square_obj.area(),\" when length is  \", length)\n",
        "print(\"Area of Square is = \", Square().area(), \" when area of shape is zero\")"
      ],
      "metadata": {
        "colab": {
          "base_uri": "https://localhost:8080/"
        },
        "id": "AsDom_xXzI_m",
        "outputId": "a2574070-06e5-4bd4-d1b1-3bd99d687bb8"
      },
      "execution_count": 8,
      "outputs": [
        {
          "output_type": "stream",
          "name": "stdout",
          "text": [
            "Enter the length of Sqaure =10\n",
            "Area of Square is =  100  when length is   10\n",
            "Area of Square is =  0  when area of shape is zero\n"
          ]
        }
      ]
    },
    {
      "cell_type": "markdown",
      "source": [
        "\n",
        "**##########################################################################################################**"
      ],
      "metadata": {
        "id": "sV6s-sVJ92Nj"
      }
    }
  ]
}