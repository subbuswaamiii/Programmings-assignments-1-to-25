{
  "nbformat": 4,
  "nbformat_minor": 0,
  "metadata": {
    "colab": {
      "provenance": []
    },
    "kernelspec": {
      "name": "python3",
      "display_name": "Python 3"
    },
    "language_info": {
      "name": "python"
    }
  },
  "cells": [
    {
      "cell_type": "code",
      "execution_count": null,
      "metadata": {
        "id": "Eqph3vUaKkPK"
      },
      "outputs": [],
      "source": []
    },
    {
      "cell_type": "markdown",
      "source": [
        "**Question1**\n",
        "\n",
        "Create a function that takes three parameters where:\n",
        "•\tx is the start of the range (inclusive).\n",
        "•\ty is the end of the range (inclusive).\n",
        "•\tn is the divisor to be checked against.\n",
        "Return an ordered list with numbers in the range that are divisible by the third parameter n. Return an empty list if there are no numbers that are divisible by n.\n",
        "\n",
        "**Examples**\n",
        "\n",
        "list_operation(1, 10, 3) ➞ [3, 6, 9]\n",
        "\n",
        "list_operation(7, 9, 2) ➞ [8]\n",
        "\n",
        "list_operation(15, 20, 7) ➞ []"
      ],
      "metadata": {
        "id": "GJVq-CINKpL7"
      }
    },
    {
      "cell_type": "code",
      "source": [
        "## Final Result\n",
        "\n",
        "def divivson(x,y,n):\n",
        "\n",
        "  #x = 1\n",
        "  #y = 10\n",
        "  #n =  3\n",
        "  empty = []\n",
        "\n",
        "  for i in range(x,y):\n",
        "    if i%n ==0:\n",
        "      empty.append(i)\n",
        "  print(f\"list_operation({x,y,n}) ➞ \", end= \" \")\n",
        "  print(empty)"
      ],
      "metadata": {
        "id": "ShEtSSQqNnBk"
      },
      "execution_count": null,
      "outputs": []
    },
    {
      "cell_type": "code",
      "source": [
        "divivson(1,10,3)"
      ],
      "metadata": {
        "colab": {
          "base_uri": "https://localhost:8080/"
        },
        "id": "YtoKfq2iNqBl",
        "outputId": "bd9b18b8-6d1d-483d-c253-4e8b0f4b0a46"
      },
      "execution_count": null,
      "outputs": [
        {
          "output_type": "stream",
          "name": "stdout",
          "text": [
            "list_operation((1, 10, 3)) ➞  [3, 6, 9]\n"
          ]
        }
      ]
    },
    {
      "cell_type": "code",
      "source": [
        "divivson(7, 9, 2)"
      ],
      "metadata": {
        "colab": {
          "base_uri": "https://localhost:8080/"
        },
        "id": "iBy46QVgNnF2",
        "outputId": "a3ef58a0-7a5b-4c3a-ffbe-2987eaa1b99d"
      },
      "execution_count": null,
      "outputs": [
        {
          "output_type": "stream",
          "name": "stdout",
          "text": [
            "list_operation((7, 9, 2)) ➞  [8]\n"
          ]
        }
      ]
    },
    {
      "cell_type": "code",
      "source": [
        "divivson(15, 20, 7)"
      ],
      "metadata": {
        "colab": {
          "base_uri": "https://localhost:8080/"
        },
        "id": "MM45EiOaNnKp",
        "outputId": "cc76f56b-9ccb-4f21-874b-84fc58489631"
      },
      "execution_count": null,
      "outputs": [
        {
          "output_type": "stream",
          "name": "stdout",
          "text": [
            "list_operation((15, 20, 7)) ➞  []\n"
          ]
        }
      ]
    },
    {
      "cell_type": "markdown",
      "source": [
        "**##########################################################################################################**"
      ],
      "metadata": {
        "id": "Xl69tQ1BKpP7"
      }
    },
    {
      "cell_type": "markdown",
      "source": [
        "**Question2**\n",
        "\n",
        "Create a function that takes in two lists and returns True if the second list follows the first list by one element, and False otherwise. In other words, determine if the second list is the first list shifted to the right by 1.\n",
        "\n",
        "**Examples**\n",
        "\n",
        "simon_says([1, 2], [5, 1]) ➞ True\n",
        "\n",
        "simon_says([1, 2], [5, 5]) ➞ False\n",
        "\n",
        "simon_says([1, 2, 3, 4, 5], [0, 1, 2, 3, 4]) ➞ True\n",
        "\n",
        "simon_says([1, 2, 3, 4, 5], [5, 5, 1, 2, 3]) ➞ False\n",
        "\n",
        "**Notes**\n",
        "\n",
        "•\tBoth input lists will be of the same length, and will have a minimum length of 2.\n",
        "•\tThe values of the 0-indexed element in the second list and the n-1th indexed element in the first list do not matter.\n"
      ],
      "metadata": {
        "id": "bx4NerjdKpV6"
      }
    },
    {
      "cell_type": "code",
      "source": [
        "## Final Result\n",
        "\n",
        "def lists(list1,list2):\n",
        "\n",
        "  #list1 = [1, 2, 3, 4, 5]\n",
        "  #list2 = [0, 1, 2, 3, 4]\n",
        "\n",
        "  if list1[0: len(list1)-1] == list2[1:len(list2)]:\n",
        "    print(f\"simon_says({list1,list2}) ➞\", True)\n",
        "    \n",
        "\n",
        "  else:\n",
        "    print(f\"simon_says({list1,list2}) ➞\", False)\n",
        "    "
      ],
      "metadata": {
        "id": "azR_H_aaUeyw"
      },
      "execution_count": null,
      "outputs": []
    },
    {
      "cell_type": "code",
      "source": [
        "lists([1, 2],[5, 1])"
      ],
      "metadata": {
        "colab": {
          "base_uri": "https://localhost:8080/"
        },
        "id": "34PXmPgNUe1_",
        "outputId": "2bef46b1-e473-4717-b353-a3391061540f"
      },
      "execution_count": null,
      "outputs": [
        {
          "output_type": "stream",
          "name": "stdout",
          "text": [
            "simon_says(([1, 2], [5, 1])) ➞ True\n"
          ]
        }
      ]
    },
    {
      "cell_type": "code",
      "source": [
        "lists([1, 2], [5, 5]) "
      ],
      "metadata": {
        "colab": {
          "base_uri": "https://localhost:8080/"
        },
        "id": "f3QKVcffUe5Z",
        "outputId": "1642d58e-1b00-4b83-d5c4-cd0da4782855"
      },
      "execution_count": null,
      "outputs": [
        {
          "output_type": "stream",
          "name": "stdout",
          "text": [
            "simon_says(([1, 2], [5, 5])) ➞ False\n"
          ]
        }
      ]
    },
    {
      "cell_type": "code",
      "source": [
        "lists([1, 2, 3, 4, 5], [0, 1, 2, 3, 4])"
      ],
      "metadata": {
        "colab": {
          "base_uri": "https://localhost:8080/"
        },
        "id": "vD_dDTihUe88",
        "outputId": "6615d5e3-55de-4e81-9daf-f43c3c895ae0"
      },
      "execution_count": null,
      "outputs": [
        {
          "output_type": "stream",
          "name": "stdout",
          "text": [
            "simon_says(([1, 2, 3, 4, 5], [0, 1, 2, 3, 4])) ➞ True\n"
          ]
        }
      ]
    },
    {
      "cell_type": "code",
      "source": [
        "lists([1, 2, 3, 4, 5], [5, 5, 1, 2, 3])"
      ],
      "metadata": {
        "colab": {
          "base_uri": "https://localhost:8080/"
        },
        "id": "AkxRKtLTUfAW",
        "outputId": "854e1d7c-9ea2-463c-aea7-2e3d74510da4"
      },
      "execution_count": null,
      "outputs": [
        {
          "output_type": "stream",
          "name": "stdout",
          "text": [
            "simon_says(([1, 2, 3, 4, 5], [5, 5, 1, 2, 3])) ➞ False\n"
          ]
        }
      ]
    },
    {
      "cell_type": "markdown",
      "source": [
        "**##########################################################################################################**"
      ],
      "metadata": {
        "id": "gyc7lGWDKpZz"
      }
    },
    {
      "cell_type": "markdown",
      "source": [
        "**Question3**\n",
        "\n",
        "A group of friends have decided to start a secret society. The name will be the first letter of each of their names, sorted in alphabetical order.\n",
        "Create a function that takes in a list of names and returns the name of the secret society.\n",
        "\n",
        "**Examples**\n",
        "\n",
        "society_name([\"Adam\", \"Sarah\", \"Malcolm\"]) ➞ \"AMS\"\n",
        "\n",
        "society_name([\"Harry\", \"Newt\", \"Luna\", \"Cho\"]) ➞ \"CHLN\"\n",
        "\n",
        "society_name([\"Phoebe\", \"Chandler\", \"Rachel\", \"Ross\", \"Monica\", \"Joey\"])\n"
      ],
      "metadata": {
        "id": "geypnOQ8Kpfk"
      }
    },
    {
      "cell_type": "code",
      "source": [
        "## Final Result\n",
        "\n",
        "\n",
        "def upper(list):\n",
        "\n",
        "  #list = [\"Harry\", \"Newt\", \"Luna\", \"Cho\"]\n",
        "  empty = []\n",
        "  print(f\"simon_says({list}) ➞\", end = \" \")\n",
        "  for i in list:\n",
        "\n",
        "    empty.append(i[0])\n",
        "    empty.sort()\n",
        "  #print(empty)\n",
        "  return \"\".join(empty)"
      ],
      "metadata": {
        "id": "pWJpb4uWYdBb"
      },
      "execution_count": null,
      "outputs": []
    },
    {
      "cell_type": "code",
      "source": [
        "upper([\"Harry\", \"Newt\", \"Luna\", \"Cho\"])"
      ],
      "metadata": {
        "colab": {
          "base_uri": "https://localhost:8080/",
          "height": 35
        },
        "id": "1ZegRjujYfB2",
        "outputId": "03a661d2-5bfb-4f53-89ab-7d052d624fdf"
      },
      "execution_count": null,
      "outputs": [
        {
          "output_type": "stream",
          "name": "stdout",
          "text": [
            "simon_says(['Harry', 'Newt', 'Luna', 'Cho']) ➞ "
          ]
        },
        {
          "output_type": "execute_result",
          "data": {
            "text/plain": [
              "'CHLN'"
            ],
            "application/vnd.google.colaboratory.intrinsic+json": {
              "type": "string"
            }
          },
          "metadata": {},
          "execution_count": 21
        }
      ]
    },
    {
      "cell_type": "code",
      "source": [
        "upper([\"Adam\", \"Sarah\", \"Malcolm\"])"
      ],
      "metadata": {
        "colab": {
          "base_uri": "https://localhost:8080/",
          "height": 35
        },
        "id": "nioqI9FCYdFG",
        "outputId": "d39c0a05-fe53-47ef-81d8-84d871bc0466"
      },
      "execution_count": null,
      "outputs": [
        {
          "output_type": "stream",
          "name": "stdout",
          "text": [
            "simon_says(['Adam', 'Sarah', 'Malcolm']) ➞ "
          ]
        },
        {
          "output_type": "execute_result",
          "data": {
            "text/plain": [
              "'AMS'"
            ],
            "application/vnd.google.colaboratory.intrinsic+json": {
              "type": "string"
            }
          },
          "metadata": {},
          "execution_count": 22
        }
      ]
    },
    {
      "cell_type": "code",
      "source": [
        "upper([\"Phoebe\", \"Chandler\", \"Rachel\", \"Ross\", \"Monica\", \"Joey\"])"
      ],
      "metadata": {
        "colab": {
          "base_uri": "https://localhost:8080/",
          "height": 35
        },
        "id": "yMeCvKPUYdJI",
        "outputId": "76ef282b-fd12-408c-ce7b-9b96e20d9a65"
      },
      "execution_count": null,
      "outputs": [
        {
          "output_type": "stream",
          "name": "stdout",
          "text": [
            "simon_says(['Phoebe', 'Chandler', 'Rachel', 'Ross', 'Monica', 'Joey']) ➞ "
          ]
        },
        {
          "output_type": "execute_result",
          "data": {
            "text/plain": [
              "'CJMPRR'"
            ],
            "application/vnd.google.colaboratory.intrinsic+json": {
              "type": "string"
            }
          },
          "metadata": {},
          "execution_count": 23
        }
      ]
    },
    {
      "cell_type": "markdown",
      "source": [
        "**##########################################################################################################**"
      ],
      "metadata": {
        "id": "WqLAX1yhKpjN"
      }
    },
    {
      "cell_type": "markdown",
      "source": [
        "**Question4**\n",
        "\n",
        "An isogram is a word that has no duplicate letters. Create a function that takes a string and returns either True or False depending on whether or not it's an \"isogram\".\n",
        "\n",
        "**Examples**\n",
        "\n",
        "is_isogram(\"Algorism\") ➞ True\n",
        "\n",
        "is_isogram(\"PasSword\") ➞ False\n",
        "# Not case sensitive.\n",
        "\n",
        "is_isogram(\"Consecutive\") ➞ False\n",
        "\n",
        "**Notes**\n",
        "\n",
        "•\tIgnore letter case (should not be case sensitive).\n",
        "•\tAll test cases contain valid one word strings.\n"
      ],
      "metadata": {
        "id": "tPCgcHomKpoy"
      }
    },
    {
      "cell_type": "code",
      "source": [
        "## final Result\n",
        "\n",
        "def repeatewords(str1):\n",
        "\n",
        "  #str1 = \"Consecutive\"\n",
        "  str2 =str1.lower()\n",
        "  #print(str2)\n",
        "  print(f\"is_isogram({str1}) ➞\", end=\" \")\n",
        "\n",
        "  for i in str2:\n",
        "    if str2.count(i) >1:\n",
        "\n",
        "      return False\n",
        "  else:\n",
        "    return True"
      ],
      "metadata": {
        "id": "u4oh6W9TOtvX"
      },
      "execution_count": 9,
      "outputs": []
    },
    {
      "cell_type": "code",
      "source": [
        "repeatewords(\"Algorism\") "
      ],
      "metadata": {
        "colab": {
          "base_uri": "https://localhost:8080/"
        },
        "id": "K73l7HdpOtyf",
        "outputId": "4392a154-cebd-4f2e-958d-48b2e0ed58b1"
      },
      "execution_count": 10,
      "outputs": [
        {
          "output_type": "stream",
          "name": "stdout",
          "text": [
            "is_isogram(Algorism) ➞ "
          ]
        },
        {
          "output_type": "execute_result",
          "data": {
            "text/plain": [
              "True"
            ]
          },
          "metadata": {},
          "execution_count": 10
        }
      ]
    },
    {
      "cell_type": "code",
      "source": [
        "repeatewords(\"PasSword\")"
      ],
      "metadata": {
        "colab": {
          "base_uri": "https://localhost:8080/"
        },
        "id": "byk4NDzJOt1q",
        "outputId": "1a3fe29d-b671-4d40-f935-7f939962a8a1"
      },
      "execution_count": 11,
      "outputs": [
        {
          "output_type": "stream",
          "name": "stdout",
          "text": [
            "is_isogram(PasSword) ➞ "
          ]
        },
        {
          "output_type": "execute_result",
          "data": {
            "text/plain": [
              "False"
            ]
          },
          "metadata": {},
          "execution_count": 11
        }
      ]
    },
    {
      "cell_type": "code",
      "source": [
        "repeatewords(\"Consecutive\")"
      ],
      "metadata": {
        "colab": {
          "base_uri": "https://localhost:8080/"
        },
        "id": "DdQnfullOt4U",
        "outputId": "e1e9eae4-49d6-4c18-9315-b6e50b8449df"
      },
      "execution_count": 12,
      "outputs": [
        {
          "output_type": "stream",
          "name": "stdout",
          "text": [
            "is_isogram(Consecutive) ➞ "
          ]
        },
        {
          "output_type": "execute_result",
          "data": {
            "text/plain": [
              "False"
            ]
          },
          "metadata": {},
          "execution_count": 12
        }
      ]
    },
    {
      "cell_type": "code",
      "source": [],
      "metadata": {
        "id": "7IYvF3h7Ot7J"
      },
      "execution_count": null,
      "outputs": []
    },
    {
      "cell_type": "markdown",
      "source": [
        "**##########################################################################################################**"
      ],
      "metadata": {
        "id": "6X_zgeFjKptq"
      }
    },
    {
      "cell_type": "markdown",
      "source": [
        "**Question5**\n",
        "\n",
        "Create a function that takes a string and returns True or False, depending on whether the characters are in order or not.\n",
        "\n",
        "**Examples**\n",
        "\n",
        "is_in_order(\"abc\") ➞ True\n",
        "\n",
        "is_in_order(\"edabit\") ➞ False\n",
        "\n",
        "is_in_order(\"123\") ➞ True\n",
        "\n",
        "is_in_order(\"xyzz\") ➞ True\n",
        "\n",
        "**Notes**\n",
        "\n",
        "You don't have to handle empty strings.\n"
      ],
      "metadata": {
        "id": "aRORUAeJKpz7"
      }
    },
    {
      "cell_type": "code",
      "source": [
        "## final Result\n",
        "def true_false(s):\n",
        "\n",
        "\n",
        "  #s = \"edabit\"\n",
        "  #print(\"Original string =\",s)\n",
        "  sort =sorted(s)\n",
        "  ##print(sort)\n",
        "  #print(\"Sorted string =\",end=\" \")\n",
        "  Sorted_string = \"\".join(sort)\n",
        "  #print(Sorted_string)\n",
        "\n",
        "  if s == Sorted_string :\n",
        "    print(f\"is_in_order({s}) ➞\",True)\n",
        "  else :\n",
        "    print(f\"is_in_order({s}) ➞\",False)"
      ],
      "metadata": {
        "id": "tK_Jn2fXBeI5"
      },
      "execution_count": 4,
      "outputs": []
    },
    {
      "cell_type": "code",
      "source": [
        "true_false(\"abc\")"
      ],
      "metadata": {
        "colab": {
          "base_uri": "https://localhost:8080/"
        },
        "id": "xrGEVb2NBe8Q",
        "outputId": "bbe91416-55f1-4884-bb34-8a34c52cb232"
      },
      "execution_count": 5,
      "outputs": [
        {
          "output_type": "stream",
          "name": "stdout",
          "text": [
            "is_in_order(abc) ➞ True\n"
          ]
        }
      ]
    },
    {
      "cell_type": "code",
      "source": [
        "true_false(\"edabit\")"
      ],
      "metadata": {
        "colab": {
          "base_uri": "https://localhost:8080/"
        },
        "id": "vqzuC4eVBe_c",
        "outputId": "0ab54738-1765-4359-aec3-54d33a16efa5"
      },
      "execution_count": 6,
      "outputs": [
        {
          "output_type": "stream",
          "name": "stdout",
          "text": [
            "is_in_order(edabit) ➞ False\n"
          ]
        }
      ]
    },
    {
      "cell_type": "code",
      "source": [
        "true_false(\"123\")"
      ],
      "metadata": {
        "colab": {
          "base_uri": "https://localhost:8080/"
        },
        "id": "4Kyd2YYuBfCo",
        "outputId": "919f90c5-8327-4074-d927-42b1f3687206"
      },
      "execution_count": 7,
      "outputs": [
        {
          "output_type": "stream",
          "name": "stdout",
          "text": [
            "is_in_order(123) ➞ True\n"
          ]
        }
      ]
    },
    {
      "cell_type": "code",
      "source": [
        "true_false(\"xyzz\")"
      ],
      "metadata": {
        "colab": {
          "base_uri": "https://localhost:8080/"
        },
        "id": "Z9A8v1DWBfFu",
        "outputId": "8af2c54a-7ec3-4bd1-812c-c240cf55eaa1"
      },
      "execution_count": 8,
      "outputs": [
        {
          "output_type": "stream",
          "name": "stdout",
          "text": [
            "is_in_order(xyzz) ➞ True\n"
          ]
        }
      ]
    },
    {
      "cell_type": "markdown",
      "source": [
        "**##########################################################################################################**"
      ],
      "metadata": {
        "id": "Nke2qN1aKp6T"
      }
    }
  ]
}