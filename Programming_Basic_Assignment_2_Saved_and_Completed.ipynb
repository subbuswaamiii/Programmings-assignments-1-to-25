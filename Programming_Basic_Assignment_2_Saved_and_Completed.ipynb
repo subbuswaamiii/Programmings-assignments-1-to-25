{
  "nbformat": 4,
  "nbformat_minor": 0,
  "metadata": {
    "colab": {
      "provenance": []
    },
    "kernelspec": {
      "name": "python3",
      "display_name": "Python 3"
    },
    "language_info": {
      "name": "python"
    }
  },
  "cells": [
    {
      "cell_type": "code",
      "execution_count": null,
      "metadata": {
        "id": "_wm3vUufm-fS"
      },
      "outputs": [],
      "source": []
    },
    {
      "cell_type": "markdown",
      "source": [
        "**Question 1 - Write a Python program to convert kilometers to miles?**\n",
        "\n",
        "\n",
        "**Answer 1 -**\n",
        "\n",
        "1 km = 0.62137119 miles"
      ],
      "metadata": {
        "id": "SlMv_MpfnL8-"
      }
    },
    {
      "cell_type": "code",
      "source": [
        "km = int(input(\"Enter Kilometer: \"))\n",
        "miles = km*0.62137119\n",
        "print(f\"{km} KM = {miles} Miles \")"
      ],
      "metadata": {
        "id": "DYW2NoSsoGY6",
        "colab": {
          "base_uri": "https://localhost:8080/"
        },
        "outputId": "e8b18031-f875-4aa8-b57e-ab041475f7f0"
      },
      "execution_count": 4,
      "outputs": [
        {
          "output_type": "stream",
          "name": "stdout",
          "text": [
            "Enter Kilometer: 10\n",
            "10 KM = 6.2137119 Miles \n"
          ]
        }
      ]
    },
    {
      "cell_type": "code",
      "source": [
        "###############################################################################################################################################################"
      ],
      "metadata": {
        "id": "YEqhLvsrt9gM"
      },
      "execution_count": null,
      "outputs": []
    },
    {
      "cell_type": "markdown",
      "source": [
        "**Question 2 - Write a Python program to convert Celsius to Fahrenheit**\n",
        "\n",
        "\n",
        "**Answer 2 -**\n",
        "\n",
        "(0°C × 9/5) + 32 = 32°F\n"
      ],
      "metadata": {
        "id": "1tMoeO-ynMAq"
      }
    },
    {
      "cell_type": "code",
      "source": [
        "Celsius = int(input(\"Enter Celsius : \"))\n",
        "\n",
        "fahrenheit = (Celsius * 9/5) +32\n",
        "print(f\"{Celsius} degree C = {fahrenheit}  F\")\n"
      ],
      "metadata": {
        "id": "JZI4b4XPoG6U",
        "colab": {
          "base_uri": "https://localhost:8080/"
        },
        "outputId": "b77d538c-bfb7-41e8-ac9e-c562943d2280"
      },
      "execution_count": 5,
      "outputs": [
        {
          "output_type": "stream",
          "name": "stdout",
          "text": [
            "Enter Celsius : 10\n",
            "10 degree C = 50.0  F\n"
          ]
        }
      ]
    },
    {
      "cell_type": "code",
      "source": [],
      "metadata": {
        "id": "eAAwKYfYqtw-"
      },
      "execution_count": null,
      "outputs": []
    },
    {
      "cell_type": "code",
      "source": [
        "###############################################################################################################################################################"
      ],
      "metadata": {
        "id": "eJX_8SjwuCAm"
      },
      "execution_count": null,
      "outputs": []
    },
    {
      "cell_type": "markdown",
      "source": [
        "**Question 3 - Write a Python program to display calendar?**\n",
        "\n",
        "\n",
        "**Answer 3 -**"
      ],
      "metadata": {
        "id": "-r_YF1GTnMEd"
      }
    },
    {
      "cell_type": "code",
      "source": [
        "import calendar \n",
        "mm = int(input(\"Enter Month\"))\n",
        "yy = int(input(\"Enter Year\"))\n",
        "\n",
        "calendar.month(yy,mm)\n"
      ],
      "metadata": {
        "colab": {
          "base_uri": "https://localhost:8080/",
          "height": 87
        },
        "id": "dPt1OXbWoHaD",
        "outputId": "39ae509f-e981-4e0f-c18b-e0b1292e96d3"
      },
      "execution_count": 6,
      "outputs": [
        {
          "name": "stdout",
          "output_type": "stream",
          "text": [
            "Enter Month10\n",
            "Enter Year2022\n"
          ]
        },
        {
          "output_type": "execute_result",
          "data": {
            "text/plain": [
              "'    October 2022\\nMo Tu We Th Fr Sa Su\\n                1  2\\n 3  4  5  6  7  8  9\\n10 11 12 13 14 15 16\\n17 18 19 20 21 22 23\\n24 25 26 27 28 29 30\\n31\\n'"
            ],
            "application/vnd.google.colaboratory.intrinsic+json": {
              "type": "string"
            }
          },
          "metadata": {},
          "execution_count": 6
        }
      ]
    },
    {
      "cell_type": "code",
      "source": [
        "###############################################################################################################################################################"
      ],
      "metadata": {
        "id": "E3UV03OJuC7B"
      },
      "execution_count": null,
      "outputs": []
    },
    {
      "cell_type": "markdown",
      "source": [
        "**Question 4 - Write a Python program to solve quadratic equation?**\n",
        "\n",
        "\n",
        "\n",
        "**Answer 4 -**"
      ],
      "metadata": {
        "id": "Lqw-i2qRnMHS"
      }
    },
    {
      "cell_type": "code",
      "source": [
        "import cmath\n",
        "a=int(input(\"Enter a = \"))\n",
        "b=int(input(\"Enter b = \"))\n",
        "c=int(input(\"Enter c = \"))\n",
        "discriminant = (b**2)-(4*a*c)\n",
        "sol_one = (-b+cmath.sqrt(discriminant))/(2*a)\n",
        "sol_two = (-b-cmath.sqrt(discriminant))/(2*a)\n",
        "print(sol_one ,\",\", sol_two)\n"
      ],
      "metadata": {
        "colab": {
          "base_uri": "https://localhost:8080/"
        },
        "id": "RNBA0QLmoH70",
        "outputId": "5ed62706-65da-4bd6-9d55-97232035dc80"
      },
      "execution_count": 8,
      "outputs": [
        {
          "output_type": "stream",
          "name": "stdout",
          "text": [
            "Enter a = 10\n",
            "Enter b = 5\n",
            "Enter c = 40\n",
            "(-0.25+1.9843134832984428j) , (-0.25-1.9843134832984428j)\n"
          ]
        }
      ]
    },
    {
      "cell_type": "code",
      "source": [
        "###############################################################################################################################################################"
      ],
      "metadata": {
        "id": "FePpy1MvuDpB"
      },
      "execution_count": null,
      "outputs": []
    },
    {
      "cell_type": "markdown",
      "source": [
        "**Question 5 - Write a Python program to swap two variables without temp variable**\n",
        "\n",
        "\n",
        "\n",
        "**Answer 5 -**"
      ],
      "metadata": {
        "id": "UZpjaZ_cnMKl"
      }
    },
    {
      "cell_type": "code",
      "source": [
        "a = 50\n",
        "b = 100\n",
        "print(\" Before swapping , value of a and b are as follows:\")\n",
        "print(f\" Value of a is  {a}\")\n",
        "print(f\" Value of b is  {b}\")\n",
        "\n",
        "\n",
        "a,b = b,a \n",
        "\n",
        "print(\" After swapping , value of a and b are as follows:\")\n",
        "print(f\" Value of a is  {a}\")\n",
        "print(f\" Value of b is  {b}\")"
      ],
      "metadata": {
        "colab": {
          "base_uri": "https://localhost:8080/"
        },
        "id": "Pc-JtoRYoIoc",
        "outputId": "ca20ea1d-6f7a-46f2-f7d0-42c72119aa4a"
      },
      "execution_count": 2,
      "outputs": [
        {
          "output_type": "stream",
          "name": "stdout",
          "text": [
            " Before swapping , value of a and b are as follows:\n",
            " Value of a is  50\n",
            " Value of b is  100\n",
            " After swapping , value of a and b are as follows:\n",
            " Value of a is  100\n",
            " Value of b is  50\n"
          ]
        }
      ]
    },
    {
      "cell_type": "code",
      "source": [
        "  ###############################################################################################################################################################"
      ],
      "metadata": {
        "id": "_AfSFhirtTJf"
      },
      "execution_count": null,
      "outputs": []
    }
  ]
}