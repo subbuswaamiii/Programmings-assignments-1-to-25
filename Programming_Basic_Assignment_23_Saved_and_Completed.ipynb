{
  "nbformat": 4,
  "nbformat_minor": 0,
  "metadata": {
    "colab": {
      "provenance": []
    },
    "kernelspec": {
      "name": "python3",
      "display_name": "Python 3"
    },
    "language_info": {
      "name": "python"
    }
  },
  "cells": [
    {
      "cell_type": "code",
      "execution_count": null,
      "metadata": {
        "id": "lQXLyHhj9vMw"
      },
      "outputs": [],
      "source": []
    },
    {
      "cell_type": "markdown",
      "source": [
        "**Question 1**\n",
        "\n",
        "**Create a function that takes a number as an argument and returns True or False depending on whether the number is symmetrical or not. A number is symmetrical when it is the same as its reverse.**\n",
        "\n",
        "**Examples**\n",
        "\n",
        "is_symmetrical(7227) ➞ True\n",
        "\n",
        "is_symmetrical(12567) ➞ False\n",
        "\n",
        "is_symmetrical(44444444) ➞ True\n",
        "\n",
        "is_symmetrical(9939) ➞ False\n",
        "\n",
        "is_symmetrical(1112111) ➞ True\n"
      ],
      "metadata": {
        "id": "BnLFxmxh93jp"
      }
    },
    {
      "cell_type": "code",
      "source": [
        "## final Result \n",
        "\n",
        "def checkTrueFalse(original_int) :\n",
        "\n",
        "#  original_int = 7227\n",
        "  s = str(original_int)\n",
        "\n",
        "#  print(\"Original string\",s)\n",
        "\n",
        "  list=[]\n",
        "\n",
        "  list[:0] = s\n",
        "#  print(\"list\",list)\n",
        "\n",
        "  list.reverse()\n",
        "#  print(\"After reverse List will be =\",list)\n",
        "\n",
        "  reverse_str = \"\".join(list)\n",
        "  reverse_int = int(reverse_str)\n",
        "#  print(\"After reverse Integer is  reverse_int =\", reverse_int)\n",
        "\n",
        "  print(f\"is_symmetrical({original_int}) ➞ \", end=\" \")\n",
        "\n",
        "  if original_int == reverse_int :\n",
        "    return True\n",
        "  else :\n",
        "    return False"
      ],
      "metadata": {
        "id": "Qmduene8CqBm"
      },
      "execution_count": null,
      "outputs": []
    },
    {
      "cell_type": "code",
      "source": [
        "checkTrueFalse(7227) "
      ],
      "metadata": {
        "colab": {
          "base_uri": "https://localhost:8080/"
        },
        "id": "vSr9eByUCqGq",
        "outputId": "d7edeb55-288e-4534-deed-8005c0a35913"
      },
      "execution_count": null,
      "outputs": [
        {
          "output_type": "stream",
          "name": "stdout",
          "text": [
            "is_symmetrical(7227) ➞  "
          ]
        },
        {
          "output_type": "execute_result",
          "data": {
            "text/plain": [
              "True"
            ]
          },
          "metadata": {},
          "execution_count": 4
        }
      ]
    },
    {
      "cell_type": "code",
      "source": [
        "checkTrueFalse(12567)  "
      ],
      "metadata": {
        "colab": {
          "base_uri": "https://localhost:8080/"
        },
        "id": "E3fYuVJ1CqLh",
        "outputId": "6c50e546-fbd9-4c20-9a05-88262164992e"
      },
      "execution_count": null,
      "outputs": [
        {
          "output_type": "stream",
          "name": "stdout",
          "text": [
            "is_symmetrical(12567) ➞  "
          ]
        },
        {
          "output_type": "execute_result",
          "data": {
            "text/plain": [
              "False"
            ]
          },
          "metadata": {},
          "execution_count": 5
        }
      ]
    },
    {
      "cell_type": "code",
      "source": [
        "checkTrueFalse(44444444) "
      ],
      "metadata": {
        "colab": {
          "base_uri": "https://localhost:8080/"
        },
        "id": "2Snq3Cj8CqQy",
        "outputId": "11fb7fd7-873c-4927-f791-591e5eee4486"
      },
      "execution_count": null,
      "outputs": [
        {
          "output_type": "stream",
          "name": "stdout",
          "text": [
            "is_symmetrical(44444444) ➞  "
          ]
        },
        {
          "output_type": "execute_result",
          "data": {
            "text/plain": [
              "True"
            ]
          },
          "metadata": {},
          "execution_count": 6
        }
      ]
    },
    {
      "cell_type": "code",
      "source": [
        "checkTrueFalse(9939)"
      ],
      "metadata": {
        "colab": {
          "base_uri": "https://localhost:8080/"
        },
        "id": "Zfry4a8CCqWg",
        "outputId": "378ed1a3-e8de-4a9c-bc0b-de0b45a89005"
      },
      "execution_count": null,
      "outputs": [
        {
          "output_type": "stream",
          "name": "stdout",
          "text": [
            "is_symmetrical(9939) ➞  "
          ]
        },
        {
          "output_type": "execute_result",
          "data": {
            "text/plain": [
              "False"
            ]
          },
          "metadata": {},
          "execution_count": 7
        }
      ]
    },
    {
      "cell_type": "code",
      "source": [
        "checkTrueFalse(1112111)"
      ],
      "metadata": {
        "colab": {
          "base_uri": "https://localhost:8080/"
        },
        "id": "AXk1JztpCqct",
        "outputId": "40c1d3ea-4cc9-4519-835b-8cc3d3e2c137"
      },
      "execution_count": null,
      "outputs": [
        {
          "output_type": "stream",
          "name": "stdout",
          "text": [
            "is_symmetrical(1112111) ➞  "
          ]
        },
        {
          "output_type": "execute_result",
          "data": {
            "text/plain": [
              "True"
            ]
          },
          "metadata": {},
          "execution_count": 8
        }
      ]
    },
    {
      "cell_type": "markdown",
      "source": [
        "**##########################################################################################################**"
      ],
      "metadata": {
        "id": "1JelY-1Y93m0"
      }
    },
    {
      "cell_type": "markdown",
      "source": [
        "**Question 2**\n",
        "\n",
        "**Given a string of numbers separated by a comma and space, return the product of the numbers.**\n",
        "\n",
        "**Examples**\n",
        "\n",
        "multiply_nums(\"2, 3\") ➞ 6\n",
        "\n",
        "multiply_nums(\"1, 2, 3, 4\") ➞ 24\n",
        "\n",
        "multiply_nums(\"54, 75, 453, 0\") ➞ 0\n",
        "\n",
        "multiply_nums(\"10, -2\") ➞ -20\n"
      ],
      "metadata": {
        "id": "GGExWCax93tS"
      }
    },
    {
      "cell_type": "code",
      "source": [
        "## Final Result\n",
        "\n",
        "def product(s):\n",
        "\n",
        "\n",
        "  \n",
        "  #facto = 0\n",
        "  #s = \"2, 3\"\n",
        "  stringtolist = s.split(\",\")\n",
        "  #print(\"List after conversion from string to list =\",stringtolist)\n",
        "  \n",
        "  ## Now convert type of elements of list stringtolist from string to integer\n",
        "  empty = []\n",
        "  for i in stringtolist :\n",
        "\n",
        "    #print(i)\n",
        "    #print(type(i))\n",
        "\n",
        "    element_in_integer  = int(i)\n",
        "\n",
        "    #print(element_in_integer)\n",
        "    empty.append(element_in_integer)\n",
        "  #print(\"List of only integer elements =\", end= \" \")  \n",
        "  #print(empty)\n",
        "\n",
        "  #print(\"Factorial of integer elements =\", end=\" \")\n",
        "  print(f\"multiply_nums({s}) ➞\", end=\" \")\n",
        "    \n",
        "  facto = 1\n",
        "\n",
        "  for j in empty:\n",
        "\n",
        "    #facto = 1\n",
        "\n",
        "    facto = facto * j\n",
        "    #j  = j +1  \n",
        "\n",
        "  return facto\n",
        "\n",
        "product(\"1,1\")"
      ],
      "metadata": {
        "colab": {
          "base_uri": "https://localhost:8080/"
        },
        "id": "uK3Rwr6I67jO",
        "outputId": "82099a23-5886-4211-852d-3a734752da83"
      },
      "execution_count": 30,
      "outputs": [
        {
          "output_type": "stream",
          "name": "stdout",
          "text": [
            "multiply_nums(1,1) ➞ "
          ]
        },
        {
          "output_type": "execute_result",
          "data": {
            "text/plain": [
              "1"
            ]
          },
          "metadata": {},
          "execution_count": 30
        }
      ]
    },
    {
      "cell_type": "code",
      "source": [
        "product(\"2,3\")"
      ],
      "metadata": {
        "colab": {
          "base_uri": "https://localhost:8080/"
        },
        "id": "nzTQLDyM67sg",
        "outputId": "508924da-9a15-43ff-a8e9-9b5ade645b37"
      },
      "execution_count": 31,
      "outputs": [
        {
          "output_type": "stream",
          "name": "stdout",
          "text": [
            "multiply_nums(2,3) ➞ "
          ]
        },
        {
          "output_type": "execute_result",
          "data": {
            "text/plain": [
              "6"
            ]
          },
          "metadata": {},
          "execution_count": 31
        }
      ]
    },
    {
      "cell_type": "code",
      "source": [
        "product(\"10,-2\")"
      ],
      "metadata": {
        "colab": {
          "base_uri": "https://localhost:8080/"
        },
        "id": "56Qz5fSP67yI",
        "outputId": "d70f0eb6-376d-4978-d685-71dffc41807b"
      },
      "execution_count": 32,
      "outputs": [
        {
          "output_type": "stream",
          "name": "stdout",
          "text": [
            "multiply_nums(10,-2) ➞ "
          ]
        },
        {
          "output_type": "execute_result",
          "data": {
            "text/plain": [
              "-20"
            ]
          },
          "metadata": {},
          "execution_count": 32
        }
      ]
    },
    {
      "cell_type": "code",
      "source": [
        "product(\"54, 75, 453, 0\")"
      ],
      "metadata": {
        "colab": {
          "base_uri": "https://localhost:8080/"
        },
        "id": "V1NED7Xw6743",
        "outputId": "ad6ad9b6-21b8-418c-97de-a0649a98f31d"
      },
      "execution_count": 33,
      "outputs": [
        {
          "output_type": "stream",
          "name": "stdout",
          "text": [
            "multiply_nums(54, 75, 453, 0) ➞ "
          ]
        },
        {
          "output_type": "execute_result",
          "data": {
            "text/plain": [
              "0"
            ]
          },
          "metadata": {},
          "execution_count": 33
        }
      ]
    },
    {
      "cell_type": "code",
      "source": [
        "product(\"1, 2, 3, 4\")"
      ],
      "metadata": {
        "colab": {
          "base_uri": "https://localhost:8080/"
        },
        "id": "PQjCAzpp68AK",
        "outputId": "fd2f6a25-5c0a-4897-c6c5-2ca4ce2b9a7d"
      },
      "execution_count": 34,
      "outputs": [
        {
          "output_type": "stream",
          "name": "stdout",
          "text": [
            "multiply_nums(1, 2, 3, 4) ➞ "
          ]
        },
        {
          "output_type": "execute_result",
          "data": {
            "text/plain": [
              "24"
            ]
          },
          "metadata": {},
          "execution_count": 34
        }
      ]
    },
    {
      "cell_type": "markdown",
      "source": [
        "**##########################################################################################################**"
      ],
      "metadata": {
        "id": "KpgzlrjB93ww"
      }
    },
    {
      "cell_type": "markdown",
      "source": [
        "**Question 3**\n",
        "\n",
        "**Create a function that squares every digit of a number.**\n",
        "\n",
        "**Examples**\n",
        "\n",
        "square_digits(9119) ➞ 811181\n",
        "\n",
        "square_digits(2483) ➞ 416649\n",
        "\n",
        "square_digits(3212) ➞ 9414\n",
        "\n",
        "**Notes**\n",
        "\n",
        "The function receives an integer and must return an integer.\n"
      ],
      "metadata": {
        "id": "bkhpS6k9930F"
      }
    },
    {
      "cell_type": "code",
      "source": [
        "## Final Result\n",
        "\n",
        "def square(n):\n",
        "\n",
        "  #n = 9119\n",
        "  #print(\"original integer =\", n)\n",
        "  string = str(n)\n",
        "  #print(\"integer converted into string :\", string)\n",
        "  empty= []\n",
        "\n",
        "  for i in string:\n",
        "    empty.append(int(i))\n",
        "    #print(type(i))\n",
        "    #print(\"convert string into integer, list will be =\", end= \" \")\n",
        "    #print(empty)\n",
        "    ##print(empty*empty)\n",
        "  print(f\"square_digits({n}) ➞ \", end=\" \")\n",
        "  for j in empty:\n",
        "    #print(f\"square_digits({n}) ➞ \", end=\" \")\n",
        "    print(j*j, end=\"\")"
      ],
      "metadata": {
        "id": "OvvBvUVGqswY"
      },
      "execution_count": 26,
      "outputs": []
    },
    {
      "cell_type": "code",
      "source": [
        "square(9119)"
      ],
      "metadata": {
        "colab": {
          "base_uri": "https://localhost:8080/"
        },
        "id": "Is6yeQQBqszj",
        "outputId": "69eca981-4301-4c43-872c-e134b4cbd40d"
      },
      "execution_count": 27,
      "outputs": [
        {
          "output_type": "stream",
          "name": "stdout",
          "text": [
            "square_digits(9119) ➞  811181"
          ]
        }
      ]
    },
    {
      "cell_type": "code",
      "source": [
        "square(2483)"
      ],
      "metadata": {
        "colab": {
          "base_uri": "https://localhost:8080/"
        },
        "id": "TiNsk-7vqs2Z",
        "outputId": "8130d808-0285-4aed-f65a-a54485b45922"
      },
      "execution_count": 28,
      "outputs": [
        {
          "output_type": "stream",
          "name": "stdout",
          "text": [
            "square_digits(2483) ➞  416649"
          ]
        }
      ]
    },
    {
      "cell_type": "code",
      "source": [
        "square(3212)"
      ],
      "metadata": {
        "colab": {
          "base_uri": "https://localhost:8080/"
        },
        "id": "YUJD0801qs5X",
        "outputId": "231ab5d5-a3f3-4c6c-fbeb-efb7fc7d6128"
      },
      "execution_count": 29,
      "outputs": [
        {
          "output_type": "stream",
          "name": "stdout",
          "text": [
            "square_digits(3212) ➞  9414"
          ]
        }
      ]
    },
    {
      "cell_type": "code",
      "source": [],
      "metadata": {
        "id": "24VBEdNxqs8C"
      },
      "execution_count": null,
      "outputs": []
    },
    {
      "cell_type": "markdown",
      "source": [
        "**##########################################################################################################**"
      ],
      "metadata": {
        "id": "Zq_kFmRV933p"
      }
    },
    {
      "cell_type": "markdown",
      "source": [
        "**Question 4**\n",
        "\n",
        "\n",
        "**Create a function that sorts a list and removes all duplicate items from it.**\n",
        "\n",
        "**Examples**\n",
        "\n",
        "setify([1, 3, 3, 5, 5]) ➞ [1, 3, 5]\n",
        "\n",
        "setify([4, 4, 4, 4]) ➞ [4]\n",
        "\n",
        "setify([5, 7, 8, 9, 10, 15]) ➞ [5, 7, 8, 9, 10, 15]\n",
        "\n",
        "setify([3, 3, 3, 2, 1]) ➞ [1, 2, 3]\n"
      ],
      "metadata": {
        "id": "cDVOkS8W9361"
      }
    },
    {
      "cell_type": "code",
      "source": [
        "## final Result\n",
        "\n",
        "def remove_duplicates_from_list(list1):\n",
        "\n",
        "  #list1 = [4, 4, 4, 4]\n",
        "  l = list(set(list1))\n",
        "  l.sort()\n",
        "  print(f\"setify({list1}) ➞ \", end=\" \")\n",
        "  print(l)"
      ],
      "metadata": {
        "id": "Yqkbgu7lUcPF"
      },
      "execution_count": null,
      "outputs": []
    },
    {
      "cell_type": "code",
      "source": [
        "remove_duplicates_from_list([1, 3, 3, 5, 5])"
      ],
      "metadata": {
        "colab": {
          "base_uri": "https://localhost:8080/"
        },
        "id": "G6iDDtM1UcXC",
        "outputId": "9b9eb346-b703-41af-cda9-dd38a4a17870"
      },
      "execution_count": null,
      "outputs": [
        {
          "output_type": "stream",
          "name": "stdout",
          "text": [
            "setify([1, 3, 3, 5, 5]) ➞  [1, 3, 5]\n"
          ]
        }
      ]
    },
    {
      "cell_type": "code",
      "source": [
        "remove_duplicates_from_list([4, 4, 4, 4])"
      ],
      "metadata": {
        "colab": {
          "base_uri": "https://localhost:8080/"
        },
        "id": "UrHIM0NUUcn4",
        "outputId": "ed6956f9-627a-42c3-bf1c-8676d2062d45"
      },
      "execution_count": null,
      "outputs": [
        {
          "output_type": "stream",
          "name": "stdout",
          "text": [
            "setify([4, 4, 4, 4]) ➞  [4]\n"
          ]
        }
      ]
    },
    {
      "cell_type": "code",
      "source": [
        "remove_duplicates_from_list([5, 7, 8, 9, 10, 15])"
      ],
      "metadata": {
        "colab": {
          "base_uri": "https://localhost:8080/"
        },
        "id": "wwQV-qS3Ucww",
        "outputId": "0a479079-56c5-4ff1-adc1-591d6b64422b"
      },
      "execution_count": null,
      "outputs": [
        {
          "output_type": "stream",
          "name": "stdout",
          "text": [
            "setify([5, 7, 8, 9, 10, 15]) ➞  [5, 7, 8, 9, 10, 15]\n"
          ]
        }
      ]
    },
    {
      "cell_type": "code",
      "source": [
        "remove_duplicates_from_list([3, 3, 3, 2, 1])"
      ],
      "metadata": {
        "colab": {
          "base_uri": "https://localhost:8080/"
        },
        "id": "_pKBqydaUdmt",
        "outputId": "bea01465-ced9-4eba-899a-b284dc90bac2"
      },
      "execution_count": null,
      "outputs": [
        {
          "output_type": "stream",
          "name": "stdout",
          "text": [
            "setify([3, 3, 3, 2, 1]) ➞  [1, 2, 3]\n"
          ]
        }
      ]
    },
    {
      "cell_type": "markdown",
      "source": [
        "**##########################################################################################################**"
      ],
      "metadata": {
        "id": "kHiwh2Y793-W"
      }
    },
    {
      "cell_type": "markdown",
      "source": [
        "**Question 5**\n",
        "\n",
        "**Create a function that returns the mean of all digits**.\n",
        "\n",
        "**Examples**\n",
        "\n",
        "mean(42) ➞ 3\n",
        "\n",
        "mean(12345) ➞ 3\n",
        "\n",
        "mean(666) ➞ 6\n",
        "\n",
        "**Notes**\n",
        "\n",
        "•\tThe mean of all digits is the sum of digits / how many digits there are (e.g. mean of digits in 512 is (5+1+2)/3(number of digits) = 8/3=2).\n",
        "\n",
        "•\tThe mean will always be an integer.\n"
      ],
      "metadata": {
        "id": "5_dO7boV94Cb"
      }
    },
    {
      "cell_type": "code",
      "source": [
        "## Final Result\n",
        "\n",
        "def mean(n):\n",
        "\n",
        "  #n = 42\n",
        "  #print(\"Original Integer =\", n)\n",
        "  empty = []\n",
        "  string = str(n)\n",
        "  #print(\"Integer converted into string =\", string)\n",
        "  \n",
        "  for i in string:\n",
        "\n",
        "    empty.append(int(i))\n",
        "  \n",
        "  #print(\"List of string after conversion of i from str to int\", empty)\n",
        "\n",
        "  #print(\"sum of all elements of List empty = \", sum(empty))\n",
        "\n",
        "  avg = (sum(empty)/len(empty))\n",
        "  print(f\"mean({n}) ➞ \", round(avg))"
      ],
      "metadata": {
        "id": "W_rerppdnlxt"
      },
      "execution_count": 14,
      "outputs": []
    },
    {
      "cell_type": "code",
      "source": [
        "mean(42)"
      ],
      "metadata": {
        "colab": {
          "base_uri": "https://localhost:8080/"
        },
        "id": "KmVibSsynl04",
        "outputId": "4f11010a-fb9c-4d26-f9dc-914f2ac8b428"
      },
      "execution_count": 15,
      "outputs": [
        {
          "output_type": "stream",
          "name": "stdout",
          "text": [
            "mean(42) ➞  3\n"
          ]
        }
      ]
    },
    {
      "cell_type": "code",
      "source": [
        "mean(12345)"
      ],
      "metadata": {
        "colab": {
          "base_uri": "https://localhost:8080/"
        },
        "id": "V3YVsgUHnl3l",
        "outputId": "90919b92-52e6-4f3f-9f9e-33880a4db7bb"
      },
      "execution_count": 16,
      "outputs": [
        {
          "output_type": "stream",
          "name": "stdout",
          "text": [
            "mean(12345) ➞  3\n"
          ]
        }
      ]
    },
    {
      "cell_type": "code",
      "source": [
        "mean(666)"
      ],
      "metadata": {
        "colab": {
          "base_uri": "https://localhost:8080/"
        },
        "id": "GoW3ylN3nl6h",
        "outputId": "1237681f-6d4f-4fce-ef3b-39f57b17d7ac"
      },
      "execution_count": 17,
      "outputs": [
        {
          "output_type": "stream",
          "name": "stdout",
          "text": [
            "mean(666) ➞  6\n"
          ]
        }
      ]
    },
    {
      "cell_type": "code",
      "source": [],
      "metadata": {
        "id": "kdNg2cavnmAR"
      },
      "execution_count": null,
      "outputs": []
    },
    {
      "cell_type": "markdown",
      "source": [
        "**##########################################################################################################**"
      ],
      "metadata": {
        "id": "MwykJpli94F2"
      }
    }
  ]
}