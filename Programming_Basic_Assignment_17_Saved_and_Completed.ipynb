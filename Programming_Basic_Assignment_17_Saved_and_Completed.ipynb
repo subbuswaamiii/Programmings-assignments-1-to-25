{
  "nbformat": 4,
  "nbformat_minor": 0,
  "metadata": {
    "colab": {
      "provenance": []
    },
    "kernelspec": {
      "name": "python3",
      "display_name": "Python 3"
    },
    "language_info": {
      "name": "python"
    }
  },
  "cells": [
    {
      "cell_type": "code",
      "execution_count": null,
      "metadata": {
        "id": "xeclBSY4DpHp"
      },
      "outputs": [],
      "source": []
    },
    {
      "cell_type": "markdown",
      "source": [
        "**Question1.** \n",
        "\n",
        "**Create a function that takes three arguments a, b, c and returns the sum of the numbers that are evenly divided by c from the range a, b inclusive.**\n",
        "\n",
        "**Examples**\n",
        "\n",
        "evenly_divisible(1, 10, 20) ➞ 0\n",
        "\n",
        "No number between 1 and 10 can be evenly divided by 20.\n",
        "\n",
        "evenly_divisible(1, 10, 2) ➞ 30\n",
        "\n",
        "2 + 4 + 6 + 8 + 10 = 30\n",
        "\n",
        "evenly_divisible(1, 10, 3) ➞ 18\n",
        "\n",
        "3 + 6 + 9 = 18\n",
        "\n",
        "\n",
        "**Answer 1 -**"
      ],
      "metadata": {
        "id": "7AvYLOpeD-Iq"
      }
    },
    {
      "cell_type": "code",
      "source": [
        "## Final Result\n",
        "\n",
        "def evenly_divisible(a,b,c):\n",
        "  l = []\n",
        "  for i in range(a,b+1):\n",
        "    if i%c  == 0:\n",
        "      l.append(i)\n",
        "  \n",
        "  print(f\"evenly_divisible({a}, {b}, {c}) ➞ {sum(l)}\")   \n",
        "evenly_divisible(1, 10, 20)"
      ],
      "metadata": {
        "id": "Q5ral0dqFOnE",
        "colab": {
          "base_uri": "https://localhost:8080/"
        },
        "outputId": "b5953979-e079-4c6a-f2d3-ad0c75461a29"
      },
      "execution_count": null,
      "outputs": [
        {
          "output_type": "stream",
          "name": "stdout",
          "text": [
            "evenly_divisible(1, 10, 20) ➞ 0\n"
          ]
        }
      ]
    },
    {
      "cell_type": "code",
      "source": [
        "evenly_divisible(1, 10, 2)"
      ],
      "metadata": {
        "colab": {
          "base_uri": "https://localhost:8080/"
        },
        "id": "O5eguQrnFSpA",
        "outputId": "67888eb3-5091-4342-c91a-286255e531d2"
      },
      "execution_count": null,
      "outputs": [
        {
          "output_type": "stream",
          "name": "stdout",
          "text": [
            "evenly_divisible(1, 10, 2) ➞ 30\n"
          ]
        }
      ]
    },
    {
      "cell_type": "code",
      "source": [
        "evenly_divisible(1, 10, 3)"
      ],
      "metadata": {
        "colab": {
          "base_uri": "https://localhost:8080/"
        },
        "id": "Qh8IV9GTFSsF",
        "outputId": "44728a7c-6c80-4752-d6b9-c418215009f8"
      },
      "execution_count": null,
      "outputs": [
        {
          "output_type": "stream",
          "name": "stdout",
          "text": [
            "evenly_divisible(1, 10, 3) ➞ 18\n"
          ]
        }
      ]
    },
    {
      "cell_type": "code",
      "source": [
        "## Other method"
      ],
      "metadata": {
        "id": "9pt9za4LIsMb"
      },
      "execution_count": null,
      "outputs": []
    },
    {
      "cell_type": "code",
      "source": [
        "##Final Rsult\n",
        "\n",
        "def evenly_divisible(a,b,c):\n",
        "  l = []\n",
        "  for i in range(a,b+1):\n",
        "    if i%c  == 0:\n",
        "      l.append(i)\n",
        "  \n",
        "  for i in l:\n",
        "    print(f\"{i} + \",end=\"\")\n",
        "  print(f\" = {sum(l)}\")   \n",
        "evenly_divisible(1, 10, 20)"
      ],
      "metadata": {
        "colab": {
          "base_uri": "https://localhost:8080/"
        },
        "id": "QZTBqKM1IsPs",
        "outputId": "1784f43c-0c9d-4608-a063-e140ff9d8a0d"
      },
      "execution_count": null,
      "outputs": [
        {
          "output_type": "stream",
          "name": "stdout",
          "text": [
            " = 0\n"
          ]
        }
      ]
    },
    {
      "cell_type": "code",
      "source": [
        "evenly_divisible(1, 10, 2)"
      ],
      "metadata": {
        "colab": {
          "base_uri": "https://localhost:8080/"
        },
        "id": "rYnaijrYIsSc",
        "outputId": "dc6c4f20-9d1e-42cf-c9ae-ec95548aa4c7"
      },
      "execution_count": null,
      "outputs": [
        {
          "output_type": "stream",
          "name": "stdout",
          "text": [
            "2 + 4 + 6 + 8 + 10 +  = 30\n"
          ]
        }
      ]
    },
    {
      "cell_type": "code",
      "source": [
        "evenly_divisible(1, 10, 3)"
      ],
      "metadata": {
        "colab": {
          "base_uri": "https://localhost:8080/"
        },
        "id": "_O7AZa6DIsVc",
        "outputId": "aa39b4ac-7bcd-411c-9e44-04ed61c82b40"
      },
      "execution_count": null,
      "outputs": [
        {
          "output_type": "stream",
          "name": "stdout",
          "text": [
            "3 + 6 + 9 +  = 18\n"
          ]
        }
      ]
    },
    {
      "cell_type": "markdown",
      "source": [
        "**##########################################################################################################**"
      ],
      "metadata": {
        "id": "TxKRdnxtFISi"
      }
    },
    {
      "cell_type": "markdown",
      "source": [
        "**Question2.** \n",
        "\n",
        "**Create a function that returns True if a given inequality expression is correct and False otherwise**.\n",
        "\n",
        "**Examples**\n",
        "\n",
        "correct_signs(\"3 < 7 < 11\") ➞ True\n",
        "\n",
        "correct_signs(\"13 > 44 > 33 > 1\") ➞ False\n",
        "\n",
        "correct_signs(\"1 < 2 < 6 < 9 > 3\") ➞ True\n",
        "\n",
        "\n",
        "**Answer 2 -**\n"
      ],
      "metadata": {
        "id": "blUuO1l2D-Ma"
      }
    },
    {
      "cell_type": "code",
      "source": [
        "def correct_signs(a,b,c,*args):\n",
        "  #a = 0\n",
        "  #b = 0\n",
        "  #c = 0\n",
        "  #d = 0\n",
        "  #e = 0\n",
        "\n",
        "  if a<b<c:\n",
        "    return True\n",
        "  elif a>b>c>d:\n",
        "    return False\n",
        "  elif a<b<c<d>e :\n",
        "    return True\n",
        "  else:\n",
        "    return None"
      ],
      "metadata": {
        "id": "-A0VCo0aTxO3"
      },
      "execution_count": null,
      "outputs": []
    },
    {
      "cell_type": "code",
      "source": [
        "correct_signs(3,7,11)"
      ],
      "metadata": {
        "colab": {
          "base_uri": "https://localhost:8080/"
        },
        "id": "wMljziErTxVp",
        "outputId": "c87a1212-057e-4d0f-f076-ed74049c0af8"
      },
      "execution_count": null,
      "outputs": [
        {
          "output_type": "execute_result",
          "data": {
            "text/plain": [
              "True"
            ]
          },
          "metadata": {},
          "execution_count": 11
        }
      ]
    },
    {
      "cell_type": "code",
      "source": [
        "correct_signs(13,44,33,1)"
      ],
      "metadata": {
        "id": "f-AgNoIuTxYl"
      },
      "execution_count": null,
      "outputs": []
    },
    {
      "cell_type": "code",
      "source": [
        "correct_signs(1,2,6,9,3)"
      ],
      "metadata": {
        "colab": {
          "base_uri": "https://localhost:8080/"
        },
        "id": "gHtHfqvNT5AJ",
        "outputId": "c6655098-baed-4723-da86-534ef3ea463a"
      },
      "execution_count": null,
      "outputs": [
        {
          "output_type": "execute_result",
          "data": {
            "text/plain": [
              "True"
            ]
          },
          "metadata": {},
          "execution_count": 13
        }
      ]
    },
    {
      "cell_type": "code",
      "source": [
        "#####"
      ],
      "metadata": {
        "id": "lfVLxhAyT5C3"
      },
      "execution_count": null,
      "outputs": []
    },
    {
      "cell_type": "code",
      "source": [
        "## final Result \n",
        "\n",
        "\n",
        "def correct_signs(x):\n",
        "\n",
        "  regex=eval(x)\n",
        "\n",
        "  if regex:\n",
        "\n",
        "    return True\n",
        "\n",
        "  else:\n",
        "\n",
        "    return False"
      ],
      "metadata": {
        "id": "kz5c2-wSFOLt"
      },
      "execution_count": null,
      "outputs": []
    },
    {
      "cell_type": "code",
      "source": [
        "correct_signs(\"3 < 7 < 11\")"
      ],
      "metadata": {
        "colab": {
          "base_uri": "https://localhost:8080/"
        },
        "id": "d9_-NgzoXlT2",
        "outputId": "06917faf-c741-4104-b508-cb2d0508e4a3"
      },
      "execution_count": null,
      "outputs": [
        {
          "output_type": "execute_result",
          "data": {
            "text/plain": [
              "True"
            ]
          },
          "metadata": {},
          "execution_count": 19
        }
      ]
    },
    {
      "cell_type": "code",
      "source": [
        "correct_signs(\"13 > 44 > 33 > 1\")"
      ],
      "metadata": {
        "colab": {
          "base_uri": "https://localhost:8080/"
        },
        "id": "JYxsjbG8XlXB",
        "outputId": "15810bdc-72b5-479f-8a83-8e0153ad1867"
      },
      "execution_count": null,
      "outputs": [
        {
          "output_type": "execute_result",
          "data": {
            "text/plain": [
              "False"
            ]
          },
          "metadata": {},
          "execution_count": 20
        }
      ]
    },
    {
      "cell_type": "code",
      "source": [
        "correct_signs(\"1 < 2 < 6 < 9 > 3\")"
      ],
      "metadata": {
        "colab": {
          "base_uri": "https://localhost:8080/"
        },
        "id": "GrBUw62JXlZ8",
        "outputId": "4602e10c-98b0-45ba-f606-270664d702b2"
      },
      "execution_count": null,
      "outputs": [
        {
          "output_type": "execute_result",
          "data": {
            "text/plain": [
              "True"
            ]
          },
          "metadata": {},
          "execution_count": 21
        }
      ]
    },
    {
      "cell_type": "markdown",
      "source": [
        "**##########################################################################################################**"
      ],
      "metadata": {
        "id": "jRGvKYVDFJI9"
      }
    },
    {
      "cell_type": "markdown",
      "source": [
        "**Question3.** \n",
        "\n",
        "**Create a function that replaces all the vowels in a string with a specified character**.\n",
        "\n",
        "**Examples**\n",
        "\n",
        "replace_vowels(\"the aardvark\", \"#\") ➞ \"th# ##rdv#rk\"\n",
        "\n",
        "replace_vowels(\"minnie mouse\", \"?\") ➞ \"m?nn?? m??s?\"\n",
        "\n",
        "replace_vowels(\"shakespeare\", \"*\") ➞ \"sh*k*sp**r*\"\n",
        "\n",
        "\n",
        "\n",
        "**Answer 3 -**"
      ],
      "metadata": {
        "id": "S5F88ZJTD-RK"
      }
    },
    {
      "cell_type": "code",
      "source": [
        "## Final Result\n",
        "\n",
        "def replacevowel(str, symbol):\n",
        "\n",
        "  #str = \"the aardvark\"\n",
        "  vowels = \"AaEeIiOoUu\"\n",
        "  #k = \"#\"\n",
        "  print(f\"replace_vowels({str},{symbol}) ➞\",end=\" \")\n",
        "  for i in vowels:\n",
        "\n",
        "    str = str.replace(i,symbol)\n",
        "\n",
        "  return str"
      ],
      "metadata": {
        "id": "h71P9s4IFNZv"
      },
      "execution_count": 6,
      "outputs": []
    },
    {
      "cell_type": "code",
      "source": [
        "replacevowel(\"the aardvark\", \"#\")"
      ],
      "metadata": {
        "colab": {
          "base_uri": "https://localhost:8080/",
          "height": 35
        },
        "id": "OQXFeit78aog",
        "outputId": "3760a6be-0299-4628-e5f0-62c90fffd9c3"
      },
      "execution_count": 7,
      "outputs": [
        {
          "output_type": "stream",
          "name": "stdout",
          "text": [
            "replace_vowels(the aardvark,#) ➞ "
          ]
        },
        {
          "output_type": "execute_result",
          "data": {
            "text/plain": [
              "'th# ##rdv#rk'"
            ],
            "application/vnd.google.colaboratory.intrinsic+json": {
              "type": "string"
            }
          },
          "metadata": {},
          "execution_count": 7
        }
      ]
    },
    {
      "cell_type": "code",
      "source": [
        "replacevowel(\"minnie mouse\", \"?\")"
      ],
      "metadata": {
        "colab": {
          "base_uri": "https://localhost:8080/",
          "height": 35
        },
        "id": "aaIUUarS8arW",
        "outputId": "90a07f8d-2cd0-47fe-a4fe-f4b0bc68d9e4"
      },
      "execution_count": 8,
      "outputs": [
        {
          "output_type": "stream",
          "name": "stdout",
          "text": [
            "replace_vowels(minnie mouse,?) ➞ "
          ]
        },
        {
          "output_type": "execute_result",
          "data": {
            "text/plain": [
              "'m?nn?? m??s?'"
            ],
            "application/vnd.google.colaboratory.intrinsic+json": {
              "type": "string"
            }
          },
          "metadata": {},
          "execution_count": 8
        }
      ]
    },
    {
      "cell_type": "code",
      "source": [
        "replacevowel(\"shakespeare\", \"*\")"
      ],
      "metadata": {
        "colab": {
          "base_uri": "https://localhost:8080/",
          "height": 35
        },
        "id": "zNQmixz28auq",
        "outputId": "a1fe7635-eda4-4b72-ac13-3ee4633e9273"
      },
      "execution_count": 9,
      "outputs": [
        {
          "output_type": "stream",
          "name": "stdout",
          "text": [
            "replace_vowels(shakespeare,*) ➞ "
          ]
        },
        {
          "output_type": "execute_result",
          "data": {
            "text/plain": [
              "'sh*k*sp**r*'"
            ],
            "application/vnd.google.colaboratory.intrinsic+json": {
              "type": "string"
            }
          },
          "metadata": {},
          "execution_count": 9
        }
      ]
    },
    {
      "cell_type": "markdown",
      "source": [
        "**##########################################################################################################**"
      ],
      "metadata": {
        "id": "8enLhIy7FJ1T"
      }
    },
    {
      "cell_type": "markdown",
      "source": [
        "**Question4.** \n",
        "\n",
        "**Write a function that calculates the factorial of a number recursively.**\n",
        "\n",
        "Examples\n",
        "\n",
        "factorial(5) ➞ 120\n",
        "\n",
        "factorial(3) ➞ 6\n",
        "\n",
        "factorial(1) ➞ 1\n",
        "\n",
        "factorial(0) ➞ 1\n",
        "\n",
        "\n",
        "\n",
        "\n",
        "**Answer 4 -**\n",
        "\n"
      ],
      "metadata": {
        "id": "biHO3gtfD-Vw"
      }
    },
    {
      "cell_type": "code",
      "source": [
        "## Final Result\n",
        "\n",
        "def facto(n):\n",
        "\n",
        "  fact0 = 0\n",
        "  fact1 = 1\n",
        "\n",
        "  if n==0 or n==1:\n",
        "\n",
        "    return 1\n",
        "\n",
        "  else :\n",
        "\n",
        "    return n*facto(n-1)\n",
        "\n",
        "print(f\"factorial({n}) ➞ \", facto(5) )\n",
        "print(f\"factorial({n}) ➞ \", facto(3) )\n",
        "print(f\"factorial({n}) ➞ \", facto(1) ) \n",
        "print(f\"factorial({n}) ➞ \", facto(0) )"
      ],
      "metadata": {
        "colab": {
          "base_uri": "https://localhost:8080/"
        },
        "id": "12zwdnRjK_NV",
        "outputId": "c7101f1f-73fb-4c82-d254-70be77f87239"
      },
      "execution_count": 16,
      "outputs": [
        {
          "output_type": "stream",
          "name": "stdout",
          "text": [
            "factorial(5) ➞  120\n",
            "factorial(5) ➞  6\n",
            "factorial(5) ➞  1\n",
            "factorial(5) ➞  1\n"
          ]
        }
      ]
    },
    {
      "cell_type": "code",
      "source": [
        "## Final Result\n",
        "\n",
        "def facto(n):\n",
        "\n",
        "  fact0 = 0\n",
        "  fact1 = 1\n",
        "\n",
        "  if n==0 or n==1:\n",
        "\n",
        "    return 1\n",
        "\n",
        "  else :\n",
        "\n",
        "    return n*facto(n-1)\n"
      ],
      "metadata": {
        "id": "i4zybGkDK_Xf"
      },
      "execution_count": 17,
      "outputs": []
    },
    {
      "cell_type": "code",
      "source": [
        "facto(5)"
      ],
      "metadata": {
        "colab": {
          "base_uri": "https://localhost:8080/"
        },
        "id": "TVtVI3YVK_a2",
        "outputId": "505e94b8-bc9f-4854-a366-b8a73a747068"
      },
      "execution_count": 18,
      "outputs": [
        {
          "output_type": "execute_result",
          "data": {
            "text/plain": [
              "120"
            ]
          },
          "metadata": {},
          "execution_count": 18
        }
      ]
    },
    {
      "cell_type": "code",
      "source": [
        "facto(3)"
      ],
      "metadata": {
        "colab": {
          "base_uri": "https://localhost:8080/"
        },
        "id": "OOgF-hchK_ic",
        "outputId": "36765a42-33e8-439f-f0cc-3907859afcbc"
      },
      "execution_count": 19,
      "outputs": [
        {
          "output_type": "execute_result",
          "data": {
            "text/plain": [
              "6"
            ]
          },
          "metadata": {},
          "execution_count": 19
        }
      ]
    },
    {
      "cell_type": "code",
      "source": [
        "facto(1)"
      ],
      "metadata": {
        "colab": {
          "base_uri": "https://localhost:8080/"
        },
        "id": "OfXfbgc-I5S6",
        "outputId": "f4eea76a-035a-439c-b657-93b4f6d3299b"
      },
      "execution_count": 20,
      "outputs": [
        {
          "output_type": "execute_result",
          "data": {
            "text/plain": [
              "1"
            ]
          },
          "metadata": {},
          "execution_count": 20
        }
      ]
    },
    {
      "cell_type": "code",
      "source": [
        "facto(0)"
      ],
      "metadata": {
        "colab": {
          "base_uri": "https://localhost:8080/"
        },
        "id": "R314qddbI5V-",
        "outputId": "0edb66f8-6bc3-4084-b3fd-14f7697654e7"
      },
      "execution_count": 21,
      "outputs": [
        {
          "output_type": "execute_result",
          "data": {
            "text/plain": [
              "1"
            ]
          },
          "metadata": {},
          "execution_count": 21
        }
      ]
    },
    {
      "cell_type": "code",
      "source": [],
      "metadata": {
        "id": "zRFJU7umI5Y-"
      },
      "execution_count": null,
      "outputs": []
    },
    {
      "cell_type": "markdown",
      "source": [
        "**##########################################################################################################**"
      ],
      "metadata": {
        "id": "2aKNjkSNFKnD"
      }
    },
    {
      "cell_type": "markdown",
      "source": [
        "**Question 5**\n",
        "\n",
        "**Hamming distance is the number of characters that differ between two strings.** \n",
        "\n",
        "To illustrate:\n",
        "\n",
        "String1: \"abcbba\"\n",
        "\n",
        "String2: \"abcbda\"\n",
        "\n",
        "\n",
        "Hamming Distance: 1 - \"b\" vs. \"d\" is the only difference.\n",
        "\n",
        "**Create a function that computes the hamming distance between two strings**.\n",
        "\n",
        "**Examples**\n",
        "\n",
        "hamming_distance(\"abcde\", \"bcdef\") ➞ 5\n",
        "\n",
        "hamming_distance(\"abcde\", \"abcde\") ➞ 0\n",
        "\n",
        "hamming_distance(\"strong\", \"strung\") ➞ 1\n",
        "\n",
        "\n",
        "\n",
        "\n",
        "\n",
        "**Answer 5 -**\n"
      ],
      "metadata": {
        "id": "llY9-bLfD-b2"
      }
    },
    {
      "cell_type": "code",
      "source": [
        "## Final Result\n",
        "\n",
        "\n",
        "def hamming_distance(str1, str2):\n",
        "\ti = 0\n",
        "\tcount = 0\n",
        "\n",
        "\tfor i in range(len(str1)):\n",
        "\t\tif(str1[i] != str2[i]):\n",
        "\t\t\tcount += 1\n",
        "\t\ti += 1\n",
        "\treturn count"
      ],
      "metadata": {
        "id": "1HUx9uY7FMBo"
      },
      "execution_count": 27,
      "outputs": []
    },
    {
      "cell_type": "code",
      "source": [
        "hamming_distance(\"abcde\", \"bcdef\")"
      ],
      "metadata": {
        "colab": {
          "base_uri": "https://localhost:8080/"
        },
        "id": "0J2VU7WndB63",
        "outputId": "9fdbc93e-a27d-4a2d-80dc-a502edb1e451"
      },
      "execution_count": 28,
      "outputs": [
        {
          "output_type": "execute_result",
          "data": {
            "text/plain": [
              "5"
            ]
          },
          "metadata": {},
          "execution_count": 28
        }
      ]
    },
    {
      "cell_type": "code",
      "source": [
        "hamming_distance(\"abcde\", \"abcde\")"
      ],
      "metadata": {
        "colab": {
          "base_uri": "https://localhost:8080/"
        },
        "id": "xgVLy1SJdCAV",
        "outputId": "92a68607-5f24-476d-bbde-63b6ccec152a"
      },
      "execution_count": 29,
      "outputs": [
        {
          "output_type": "execute_result",
          "data": {
            "text/plain": [
              "0"
            ]
          },
          "metadata": {},
          "execution_count": 29
        }
      ]
    },
    {
      "cell_type": "code",
      "source": [
        "hamming_distance(\"strong\", \"strung\")"
      ],
      "metadata": {
        "colab": {
          "base_uri": "https://localhost:8080/"
        },
        "id": "VGG_5Yw_dCGT",
        "outputId": "6f258bea-8c83-450d-dedc-5251da5e667b"
      },
      "execution_count": 30,
      "outputs": [
        {
          "output_type": "execute_result",
          "data": {
            "text/plain": [
              "1"
            ]
          },
          "metadata": {},
          "execution_count": 30
        }
      ]
    },
    {
      "cell_type": "code",
      "source": [],
      "metadata": {
        "id": "gxdE0RwHfSCs"
      },
      "execution_count": null,
      "outputs": []
    },
    {
      "cell_type": "code",
      "source": [
        "def hammingDist(str1, str2):\n",
        "\ti = 0\n",
        "\tcount = 0\n",
        "\n",
        "\tfor i in range(len(str1)):\n",
        "\t\tif(str1[i] != str2[i]):\n",
        "\t\t\tcount += 1\n",
        "\t\ti += 1\n",
        "\treturn count\n",
        "\n",
        "print(f\"hammingDist({str1}, {str2}) ➞ \", end=\" \")\n",
        "print(hammingDist(\"abcde\", \"bcdef\"))"
      ],
      "metadata": {
        "colab": {
          "base_uri": "https://localhost:8080/",
          "height": 217
        },
        "id": "zTMywZqbfSF-",
        "outputId": "5a087182-fc2c-4dce-a9f8-4ab1a2fd2482"
      },
      "execution_count": 31,
      "outputs": [
        {
          "output_type": "error",
          "ename": "NameError",
          "evalue": "ignored",
          "traceback": [
            "\u001b[0;31m---------------------------------------------------------------------------\u001b[0m",
            "\u001b[0;31mNameError\u001b[0m                                 Traceback (most recent call last)",
            "\u001b[0;32m<ipython-input-31-8b79d841acdf>\u001b[0m in \u001b[0;36m<module>\u001b[0;34m\u001b[0m\n\u001b[1;32m      9\u001b[0m         \u001b[0;32mreturn\u001b[0m \u001b[0mcount\u001b[0m\u001b[0;34m\u001b[0m\u001b[0;34m\u001b[0m\u001b[0m\n\u001b[1;32m     10\u001b[0m \u001b[0;34m\u001b[0m\u001b[0m\n\u001b[0;32m---> 11\u001b[0;31m \u001b[0mprint\u001b[0m\u001b[0;34m(\u001b[0m\u001b[0;34mf\"hammingDist({str1}, {str2}) ➞ \"\u001b[0m\u001b[0;34m,\u001b[0m \u001b[0mend\u001b[0m\u001b[0;34m=\u001b[0m\u001b[0;34m\" \"\u001b[0m\u001b[0;34m)\u001b[0m\u001b[0;34m\u001b[0m\u001b[0;34m\u001b[0m\u001b[0m\n\u001b[0m\u001b[1;32m     12\u001b[0m \u001b[0mprint\u001b[0m\u001b[0;34m(\u001b[0m\u001b[0mhammingDist\u001b[0m\u001b[0;34m(\u001b[0m\u001b[0;34m\"abcde\"\u001b[0m\u001b[0;34m,\u001b[0m \u001b[0;34m\"bcdef\"\u001b[0m\u001b[0;34m)\u001b[0m\u001b[0;34m)\u001b[0m\u001b[0;34m\u001b[0m\u001b[0;34m\u001b[0m\u001b[0m\n",
            "\u001b[0;31mNameError\u001b[0m: name 'str1' is not defined"
          ]
        }
      ]
    },
    {
      "cell_type": "code",
      "source": [],
      "metadata": {
        "id": "X1-Pzz5RfSI9"
      },
      "execution_count": null,
      "outputs": []
    },
    {
      "cell_type": "code",
      "source": [],
      "metadata": {
        "id": "Ix4jUZmAfSL4"
      },
      "execution_count": null,
      "outputs": []
    },
    {
      "cell_type": "code",
      "source": [],
      "metadata": {
        "id": "1LUKATilfSO-"
      },
      "execution_count": null,
      "outputs": []
    },
    {
      "cell_type": "markdown",
      "source": [
        "**##########################################################################################################**"
      ],
      "metadata": {
        "id": "HR4kL_75FLSy"
      }
    }
  ]
}