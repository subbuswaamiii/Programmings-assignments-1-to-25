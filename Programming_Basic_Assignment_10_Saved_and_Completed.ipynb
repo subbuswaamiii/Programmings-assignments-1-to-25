{
  "nbformat": 4,
  "nbformat_minor": 0,
  "metadata": {
    "colab": {
      "provenance": []
    },
    "kernelspec": {
      "name": "python3",
      "display_name": "Python 3"
    },
    "language_info": {
      "name": "python"
    }
  },
  "cells": [
    {
      "cell_type": "code",
      "execution_count": null,
      "metadata": {
        "id": "--XxB5qzXVDi"
      },
      "outputs": [],
      "source": []
    },
    {
      "cell_type": "markdown",
      "source": [
        "**Question 1 -Write a Python program to find sum of elements in list?**\n",
        "\n",
        "\n",
        "**Answer 1 -**"
      ],
      "metadata": {
        "id": "Ddj1rW3CXY_C"
      }
    },
    {
      "cell_type": "code",
      "source": [
        "list1 = [1,2,3,4,5,6,7,8,9,10]\n",
        "\n",
        "\n",
        "print(\"Sum of all elements in given list: \", sum(list1))"
      ],
      "metadata": {
        "id": "PdkNlj05XbP4",
        "colab": {
          "base_uri": "https://localhost:8080/"
        },
        "outputId": "1f7642f8-374d-4540-e0c9-ef6bafdfee20"
      },
      "execution_count": null,
      "outputs": [
        {
          "output_type": "stream",
          "name": "stdout",
          "text": [
            "Sum of all elements in given list:  55\n"
          ]
        }
      ]
    },
    {
      "cell_type": "code",
      "source": [
        "import numpy as np\n",
        "list1 = [1,2,3,4,5]\n",
        "\n",
        "np.sum(list1)"
      ],
      "metadata": {
        "colab": {
          "base_uri": "https://localhost:8080/"
        },
        "id": "GbmN9QvtfA6R",
        "outputId": "a85f0144-168b-4533-983b-6f4dca100acf"
      },
      "execution_count": null,
      "outputs": [
        {
          "output_type": "execute_result",
          "data": {
            "text/plain": [
              "15"
            ]
          },
          "metadata": {},
          "execution_count": 7
        }
      ]
    },
    {
      "cell_type": "markdown",
      "source": [
        "**##########################################################################################################**"
      ],
      "metadata": {
        "id": "j9PIq09bXbdu"
      }
    },
    {
      "cell_type": "markdown",
      "source": [
        "**Question 2 -Write a Python program to  Multiply all numbers in the list?**\n",
        "\n",
        "\n",
        "**Answer 2 -**"
      ],
      "metadata": {
        "id": "XXoXIbfgXfwB"
      }
    },
    {
      "cell_type": "code",
      "source": [
        "import numpy as np\n",
        "list1 = [1,2,3,4,5]\n",
        "\n",
        "np.prod(list1)"
      ],
      "metadata": {
        "id": "h_KHNOhoXfwB",
        "colab": {
          "base_uri": "https://localhost:8080/"
        },
        "outputId": "525f8036-5ef7-415c-8647-87c38ade2b38"
      },
      "execution_count": null,
      "outputs": [
        {
          "output_type": "execute_result",
          "data": {
            "text/plain": [
              "120"
            ]
          },
          "metadata": {},
          "execution_count": 8
        }
      ]
    },
    {
      "cell_type": "markdown",
      "source": [
        "**##########################################################################################################**"
      ],
      "metadata": {
        "id": "CkAUEHFzXfwB"
      }
    },
    {
      "cell_type": "markdown",
      "source": [
        "**Question 3 -Write a Python program to find smallest number in a list?**\n",
        "\n",
        "\n",
        "**Answer 3 -**"
      ],
      "metadata": {
        "id": "ICq_3CrLXgX4"
      }
    },
    {
      "cell_type": "code",
      "source": [
        "import numpy as np\n",
        "list1 = [11, 5, 17, 18, 23]\n",
        "\n",
        "np.min(list1)"
      ],
      "metadata": {
        "id": "JDANXpkJXgX5",
        "colab": {
          "base_uri": "https://localhost:8080/"
        },
        "outputId": "a95bb735-fed4-419d-d010-388e66a4ac2c"
      },
      "execution_count": null,
      "outputs": [
        {
          "output_type": "execute_result",
          "data": {
            "text/plain": [
              "5"
            ]
          },
          "metadata": {},
          "execution_count": 1
        }
      ]
    },
    {
      "cell_type": "markdown",
      "source": [
        "**##########################################################################################################**"
      ],
      "metadata": {
        "id": "A6ceUFFLXgX5"
      }
    },
    {
      "cell_type": "markdown",
      "source": [
        "**Question 4 -Write a Python program to find largest number in a list?**\n",
        "\n",
        "\n",
        "**Answer 4 -**"
      ],
      "metadata": {
        "id": "J9is3CR8Xg4o"
      }
    },
    {
      "cell_type": "code",
      "source": [
        "import numpy as np\n",
        "list1 = [11, 5, 17, 18, 23]\n",
        "\n",
        "np.max(list1)"
      ],
      "metadata": {
        "id": "adzhRbZZXg4o",
        "colab": {
          "base_uri": "https://localhost:8080/"
        },
        "outputId": "75bf6dee-c9f2-41bd-b07c-ec13a4524f52"
      },
      "execution_count": null,
      "outputs": [
        {
          "output_type": "execute_result",
          "data": {
            "text/plain": [
              "23"
            ]
          },
          "metadata": {},
          "execution_count": 2
        }
      ]
    },
    {
      "cell_type": "markdown",
      "source": [
        "**##########################################################################################################**"
      ],
      "metadata": {
        "id": "7gYltlStXg4o"
      }
    },
    {
      "cell_type": "markdown",
      "source": [
        "**Question 5 -Write a Python program to find second largest number in a list?**\n",
        "\n",
        "\n",
        "**Answer 5 -**"
      ],
      "metadata": {
        "id": "xfkehHc9XiB4"
      }
    },
    {
      "cell_type": "code",
      "source": [
        "list1 = [11, 5, 17, 18, 23]\n",
        "new = (list(set(list1)))\n",
        "new.sort()\n",
        "new[-2]"
      ],
      "metadata": {
        "colab": {
          "base_uri": "https://localhost:8080/"
        },
        "id": "xqpCSrjQ006j",
        "outputId": "db2098ab-30da-4b1d-ad4c-459b260afc0d"
      },
      "execution_count": 1,
      "outputs": [
        {
          "output_type": "execute_result",
          "data": {
            "text/plain": [
              "18"
            ]
          },
          "metadata": {},
          "execution_count": 1
        }
      ]
    },
    {
      "cell_type": "markdown",
      "source": [
        "**##########################################################################################################**"
      ],
      "metadata": {
        "id": "bC1V-eRiXiB5"
      }
    },
    {
      "cell_type": "markdown",
      "source": [
        "**Question 6 -Write a Python program to find N largest elements from a list?**\n",
        "\n",
        "\n",
        "**Answer 1 -**"
      ],
      "metadata": {
        "id": "Q13pmh1fXim4"
      }
    },
    {
      "cell_type": "code",
      "source": [
        "list1 = [11, 5, 17, 18, 23]\n",
        "list2 = list(set(list1))\n",
        "list2.sort()\n",
        "n = int(input(\"enter nth position = \"))\n",
        "print(f\"the {n} th largest element is = {list2[-n]}\")"
      ],
      "metadata": {
        "id": "LCUitJCsXim4",
        "colab": {
          "base_uri": "https://localhost:8080/"
        },
        "outputId": "f61a2c13-f68e-4193-d7ab-693994c671d2"
      },
      "execution_count": 3,
      "outputs": [
        {
          "output_type": "stream",
          "name": "stdout",
          "text": [
            "enter nth position = 3\n",
            "the 3 th largest element is = 17\n"
          ]
        }
      ]
    },
    {
      "cell_type": "code",
      "source": [
        "list1 = [11, 5, 17, 18, 23]\n",
        "list2 = list(set(list1))\n",
        "list2.sort()\n",
        "n = int(input(\"enter nth position = \"))\n",
        "print(f\"the {n} th largest element is = {list2[-n]}\")"
      ],
      "metadata": {
        "colab": {
          "base_uri": "https://localhost:8080/"
        },
        "id": "FGju6UfWKq4Y",
        "outputId": "7cf2a2ac-0b2c-45d1-cc6b-63c339491e0a"
      },
      "execution_count": 4,
      "outputs": [
        {
          "output_type": "stream",
          "name": "stdout",
          "text": [
            "enter nth position = 2\n",
            "the 2 th largest element is = 18\n"
          ]
        }
      ]
    },
    {
      "cell_type": "markdown",
      "source": [
        "**##########################################################################################################**"
      ],
      "metadata": {
        "id": "bvGh6-1LXim5"
      }
    },
    {
      "cell_type": "markdown",
      "source": [
        "**Question 7 -Write a Python program to print even numbers in a list?**\n",
        "\n",
        "\n",
        "**Answer 7 -**"
      ],
      "metadata": {
        "id": "EzNwcZfhXzEv"
      }
    },
    {
      "cell_type": "code",
      "source": [
        "list=[]\n",
        "for i in range(0,20):\n",
        "  if i%2 == 0 :\n",
        "    list.append(i)\n",
        "print(list)"
      ],
      "metadata": {
        "id": "oxROnmbiXzEw",
        "colab": {
          "base_uri": "https://localhost:8080/"
        },
        "outputId": "d41f45ad-973b-49f7-aaae-3f6375015465"
      },
      "execution_count": null,
      "outputs": [
        {
          "output_type": "stream",
          "name": "stdout",
          "text": [
            "[0, 2, 4, 6, 8, 10, 12, 14, 16, 18]\n"
          ]
        }
      ]
    },
    {
      "cell_type": "markdown",
      "source": [
        "**##########################################################################################################**"
      ],
      "metadata": {
        "id": "64viHVWaXzEw"
      }
    },
    {
      "cell_type": "markdown",
      "source": [
        "**Question 8 -Write a Python program to print odd numbers in a List?**\n",
        "\n",
        "\n",
        "**Answer 8 -**"
      ],
      "metadata": {
        "id": "QeizNvCgXzj_"
      }
    },
    {
      "cell_type": "code",
      "source": [
        "list=[]\n",
        "for i in range(0,20):\n",
        "  if i%2 != 0 :\n",
        "    list.append(i)\n",
        "print(list)"
      ],
      "metadata": {
        "id": "9vfGitnsXzkA",
        "colab": {
          "base_uri": "https://localhost:8080/"
        },
        "outputId": "64af7eed-38b0-4674-dea6-b70a86edf4d4"
      },
      "execution_count": null,
      "outputs": [
        {
          "output_type": "stream",
          "name": "stdout",
          "text": [
            "[1, 3, 5, 7, 9, 11, 13, 15, 17, 19]\n"
          ]
        }
      ]
    },
    {
      "cell_type": "markdown",
      "source": [
        "**##########################################################################################################**"
      ],
      "metadata": {
        "id": "UT8qPlANXzkA"
      }
    },
    {
      "cell_type": "markdown",
      "source": [
        "**Question 9 -Write a Python program to Remove empty List from List?**\n",
        "\n",
        "\n",
        "**Answer 9 -**"
      ],
      "metadata": {
        "id": "hxvWDdX2Xz-Y"
      }
    },
    {
      "cell_type": "code",
      "source": [
        "list1 = [[], [], [], 'Red', 'Green', [1,2], 'Blue', [], []]\n",
        "print(\"Original list:\")\n",
        "print(list1)\n",
        "print(\"\\nAfter deleting the empty lists from the said lists of lists\")\n",
        "list2 = [x for x in list1 if x]\n",
        "print(list2)"
      ],
      "metadata": {
        "id": "CJ6vwYWTXz-Y",
        "colab": {
          "base_uri": "https://localhost:8080/"
        },
        "outputId": "7aebf90f-b8de-444e-a202-b6f881cea60b"
      },
      "execution_count": null,
      "outputs": [
        {
          "output_type": "stream",
          "name": "stdout",
          "text": [
            "Original list:\n",
            "[[], [], [], 'Red', 'Green', [1, 2], 'Blue', [], []]\n",
            "\n",
            "After deleting the empty lists from the said lists of lists\n",
            "['Red', 'Green', [1, 2], 'Blue']\n"
          ]
        }
      ]
    },
    {
      "cell_type": "markdown",
      "source": [
        "**##########################################################################################################**"
      ],
      "metadata": {
        "id": "ZuZcuRsUXz-Y"
      }
    },
    {
      "cell_type": "markdown",
      "source": [
        "**Question 10 -Write a Python program to Cloning or Copying a list?**\n",
        "\n",
        "\n",
        "**Answer 10 -**"
      ],
      "metadata": {
        "id": "oYStupeDX0Vo"
      }
    },
    {
      "cell_type": "code",
      "source": [
        "list1 = [11, 5, 17, 18, 23]\n",
        "#list2 = []\n",
        "list2 = list1.copy()\n",
        "list2"
      ],
      "metadata": {
        "id": "a9sfois7X0Vo",
        "colab": {
          "base_uri": "https://localhost:8080/"
        },
        "outputId": "1ce32dfc-bdad-4626-b356-b88ddbac72cf"
      },
      "execution_count": null,
      "outputs": [
        {
          "output_type": "execute_result",
          "data": {
            "text/plain": [
              "[11, 5, 17, 18, 23]"
            ]
          },
          "metadata": {},
          "execution_count": 22
        }
      ]
    },
    {
      "cell_type": "code",
      "source": [
        "list1 = [11, 5, 17, 18, 23]\n",
        "list2 = []\n",
        "list2 = list1.copy()\n",
        "list2"
      ],
      "metadata": {
        "colab": {
          "base_uri": "https://localhost:8080/"
        },
        "id": "LxVaD4-sAEle",
        "outputId": "a58c1130-a087-43db-904e-98373a09d378"
      },
      "execution_count": null,
      "outputs": [
        {
          "output_type": "execute_result",
          "data": {
            "text/plain": [
              "[11, 5, 17, 18, 23]"
            ]
          },
          "metadata": {},
          "execution_count": 23
        }
      ]
    },
    {
      "cell_type": "code",
      "source": [
        "list1 = [11, 5, 17, 18, 23]\n",
        "list2 = []\n",
        "for i in list1:\n",
        "  list2.append(i)\n",
        "print(list2)\n"
      ],
      "metadata": {
        "colab": {
          "base_uri": "https://localhost:8080/"
        },
        "id": "0yT4vCC6AEyn",
        "outputId": "cdd92708-5bd7-4289-fe09-ffac417964aa"
      },
      "execution_count": null,
      "outputs": [
        {
          "output_type": "stream",
          "name": "stdout",
          "text": [
            "[11, 5, 17, 18, 23]\n"
          ]
        }
      ]
    },
    {
      "cell_type": "markdown",
      "source": [
        "**##########################################################################################################**"
      ],
      "metadata": {
        "id": "9pH06M6SX0Vo"
      }
    },
    {
      "cell_type": "markdown",
      "source": [
        "**Question 11 -Write a Python program to Count occurrences of an element in a list?**\n",
        "\n",
        "\n",
        "**Answer 11 -**"
      ],
      "metadata": {
        "id": "jlnIeGVbX0zv"
      }
    },
    {
      "cell_type": "code",
      "source": [
        "list1 = [11, 5, 17, 18, 23,23,23,18,20,11,5,5,5,5,5,5]\n",
        "list1.count(5)"
      ],
      "metadata": {
        "id": "sHa9Bkh2X0zv",
        "colab": {
          "base_uri": "https://localhost:8080/"
        },
        "outputId": "8d55ab39-ca83-49b7-ea23-bcef120a1898"
      },
      "execution_count": null,
      "outputs": [
        {
          "output_type": "execute_result",
          "data": {
            "text/plain": [
              "7"
            ]
          },
          "metadata": {},
          "execution_count": 29
        }
      ]
    },
    {
      "cell_type": "markdown",
      "source": [
        "**##########################################################################################################**"
      ],
      "metadata": {
        "id": "FkFo4yEeX0zv"
      }
    }
  ]
}