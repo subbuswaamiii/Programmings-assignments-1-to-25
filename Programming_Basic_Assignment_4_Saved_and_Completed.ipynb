{
  "nbformat": 4,
  "nbformat_minor": 0,
  "metadata": {
    "colab": {
      "provenance": []
    },
    "kernelspec": {
      "name": "python3",
      "display_name": "Python 3"
    },
    "language_info": {
      "name": "python"
    }
  },
  "cells": [
    {
      "cell_type": "markdown",
      "source": [
        "**Question 1 - Write a Python Program to Find the Factorial of a Number?**\n",
        "\n",
        "\n",
        "**Answer 1 -**"
      ],
      "metadata": {
        "id": "j-s6DzBiDGmk"
      }
    },
    {
      "cell_type": "code",
      "source": [
        "def facto(n):\n",
        "  if n<=1 :\n",
        "    return 1\n",
        "  else:\n",
        "    for i in range(1,n)  :\n",
        "      return n * facto(n-1)\n",
        "\n",
        "n = int(input(\"enter value n =\"))\n",
        "print(\"factorial of value {} is = {} \".format(n,facto(n)))"
      ],
      "metadata": {
        "id": "RU_VnjZHQ_MZ",
        "outputId": "290f9109-3e49-4ce8-89a4-a70adb444880",
        "colab": {
          "base_uri": "https://localhost:8080/"
        }
      },
      "execution_count": null,
      "outputs": [
        {
          "output_type": "stream",
          "name": "stdout",
          "text": [
            "enter value n =10\n",
            "factorial of value 10 is = 3628800 \n"
          ]
        }
      ]
    },
    {
      "cell_type": "markdown",
      "source": [
        "**##########################################################################################################**"
      ],
      "metadata": {
        "id": "g8i6xOjMgb69"
      }
    },
    {
      "cell_type": "markdown",
      "source": [
        "**Question 2 - Write a Python Program to Display the multiplication Table?**\n",
        "\n",
        "\n",
        "**Answer 2 -**"
      ],
      "metadata": {
        "id": "DsqV9dwRDGpc"
      }
    },
    {
      "cell_type": "code",
      "source": [
        "def multiplicationtable(n):\n",
        "  #n = int(input(\"enter n = \"))\n",
        "  print(f\"Multiplication table of {n} is as below :\")\n",
        "  for i in range(1,11):\n",
        "    print(f\"{n} X {i} = {n *i}\")\n",
        "\n",
        "multiplicationtable(2)  "
      ],
      "metadata": {
        "id": "HzCJ1mMyiS9n",
        "outputId": "34337cbf-8b78-444c-d044-5b08f7b3b000",
        "colab": {
          "base_uri": "https://localhost:8080/"
        }
      },
      "execution_count": null,
      "outputs": [
        {
          "output_type": "stream",
          "name": "stdout",
          "text": [
            "Multiplication table of 2 is as below :\n",
            "2 X 1 = 2\n",
            "2 X 2 = 4\n",
            "2 X 3 = 6\n",
            "2 X 4 = 8\n",
            "2 X 5 = 10\n",
            "2 X 6 = 12\n",
            "2 X 7 = 14\n",
            "2 X 8 = 16\n",
            "2 X 9 = 18\n",
            "2 X 10 = 20\n"
          ]
        }
      ]
    },
    {
      "cell_type": "code",
      "source": [
        "multiplicationtable(10) "
      ],
      "metadata": {
        "id": "LNWg7-oyiWBB",
        "outputId": "fb11ea68-1342-4fbd-b1ae-ae82dbc9bcf0",
        "colab": {
          "base_uri": "https://localhost:8080/"
        }
      },
      "execution_count": null,
      "outputs": [
        {
          "output_type": "stream",
          "name": "stdout",
          "text": [
            "Multiplication table of 10 is as below :\n",
            "10 X 1 = 10\n",
            "10 X 2 = 20\n",
            "10 X 3 = 30\n",
            "10 X 4 = 40\n",
            "10 X 5 = 50\n",
            "10 X 6 = 60\n",
            "10 X 7 = 70\n",
            "10 X 8 = 80\n",
            "10 X 9 = 90\n",
            "10 X 10 = 100\n"
          ]
        }
      ]
    },
    {
      "cell_type": "markdown",
      "source": [
        "**##########################################################################################################**"
      ],
      "metadata": {
        "id": "SMNFBeWZgd5z"
      }
    },
    {
      "cell_type": "markdown",
      "source": [
        "**Question 3 - Write a Python Program to Print the Fibonacci sequence?**\n",
        "\n",
        "\n",
        "**Answer 3 -**"
      ],
      "metadata": {
        "id": "YlzpHl4YDGsc"
      }
    },
    {
      "cell_type": "code",
      "source": [
        "def fib(n):\n",
        "  #  n = int(input()) \n",
        "\n",
        "  fib0 = 0\n",
        "  fib1 = 1\n",
        "  print(\" fibonacci sequence is  =\", end=' ')\n",
        "  for x in range(0, n):\n",
        "    nextFib = fib0 + fib1\n",
        "    fib0 = fib1\n",
        "    fib1 = nextFib\n",
        "    print(fib0 , end = ' ') \n",
        "\n",
        "\n",
        "fib(10)"
      ],
      "metadata": {
        "colab": {
          "base_uri": "https://localhost:8080/"
        },
        "id": "CD-oDpEG4PV4",
        "outputId": "7cb9db54-9722-4d1a-ec46-453cca819c9f"
      },
      "execution_count": null,
      "outputs": [
        {
          "output_type": "stream",
          "name": "stdout",
          "text": [
            " fibonacci sequence is  = 1 1 2 3 5 8 13 21 34 55 "
          ]
        }
      ]
    },
    {
      "cell_type": "code",
      "source": [
        "fib(5)"
      ],
      "metadata": {
        "colab": {
          "base_uri": "https://localhost:8080/"
        },
        "id": "WE6VNCTq5WBi",
        "outputId": "cbc40f2d-799b-45b9-b5f3-42a2277aad55"
      },
      "execution_count": null,
      "outputs": [
        {
          "output_type": "stream",
          "name": "stdout",
          "text": [
            " fibonacci sequence is  = 1 1 2 3 5 "
          ]
        }
      ]
    },
    {
      "cell_type": "markdown",
      "source": [
        "**##########################################################################################################**"
      ],
      "metadata": {
        "id": "PUFvMCCzgfNV"
      }
    },
    {
      "cell_type": "markdown",
      "source": [
        "**Question 4 - Write a Python Program to Check Armstrong Number?**\n",
        "\n",
        "\n",
        "**Answer 4 -**"
      ],
      "metadata": {
        "id": "92euo4o_DGvg"
      }
    },
    {
      "cell_type": "code",
      "source": [
        "def armstrongcheck(number):\n",
        "  #number = 153\n",
        "  digits = len(str(number))\n",
        "  temp = number\n",
        "  add_sum = 0\n",
        "  while temp != 0:\n",
        "    # get the last digit in the number\n",
        "    k = temp % 10\n",
        "    # find k^digits\n",
        "    add_sum += k**digits\n",
        "    # floor division\n",
        "    # which updates the number with the second last digit as the last digit\n",
        "    temp = temp//10\n",
        "  if add_sum == number:\n",
        "    print(f' {number} is an Armstrong Number')\n",
        "\n",
        "  else:\n",
        "    print(f' {number} is not a Armstrong Number')\n",
        "\n",
        "armstrongcheck(1634)"
      ],
      "metadata": {
        "colab": {
          "base_uri": "https://localhost:8080/"
        },
        "id": "t29WGUevYPtr",
        "outputId": "ba927c25-b0f8-4c31-bb7d-2b450ad1d31f"
      },
      "execution_count": null,
      "outputs": [
        {
          "output_type": "stream",
          "name": "stdout",
          "text": [
            " 1634 is an Armstrong Number\n"
          ]
        }
      ]
    },
    {
      "cell_type": "code",
      "source": [
        "armstrongcheck(663)"
      ],
      "metadata": {
        "id": "XeubHMVfZSuW",
        "outputId": "0eeab676-1d0d-4f60-c68f-8be553b14d65",
        "colab": {
          "base_uri": "https://localhost:8080/"
        }
      },
      "execution_count": null,
      "outputs": [
        {
          "output_type": "stream",
          "name": "stdout",
          "text": [
            " 663 is not a Armstrong Number\n"
          ]
        }
      ]
    },
    {
      "cell_type": "code",
      "source": [
        "armstrongcheck(153)"
      ],
      "metadata": {
        "id": "hET_L92BZULA",
        "outputId": "d58fa436-faf6-4f0b-8925-ffbb5b1d7893",
        "colab": {
          "base_uri": "https://localhost:8080/"
        }
      },
      "execution_count": null,
      "outputs": [
        {
          "output_type": "stream",
          "name": "stdout",
          "text": [
            " 153 is an Armstrong Number\n"
          ]
        }
      ]
    },
    {
      "cell_type": "markdown",
      "source": [
        "**##########################################################################################################**"
      ],
      "metadata": {
        "id": "VrCOjGDSggZn"
      }
    },
    {
      "cell_type": "markdown",
      "source": [
        "**Question 5 - Write a Python Program to Find Armstrong Number in an Interval?**\n",
        "\n",
        "\n",
        "**Answer 5 -**"
      ],
      "metadata": {
        "id": "wBO-VNScDGyo"
      }
    },
    {
      "cell_type": "code",
      "source": [
        "import math\n",
        "\n",
        "first, second = 100, 2000\n",
        "\n",
        "\n",
        "def is_Armstrong(val):\n",
        "    sum = 0\n",
        "\n",
        "    # this splits the val into its digits\n",
        "    # example val : 153 will become [1, 5, 3]\n",
        "    arr = [int(d) for d in str(val)]\n",
        "\n",
        "    # now we iterate on array items (digits)\n",
        "    # add these (digits raised to power of len i.e order) to sum\n",
        "    for i in range(0, len(arr)):\n",
        "        sum = sum + math.pow(arr[i], len(arr))\n",
        "\n",
        "    # if sum == val then its armstrong\n",
        "    if sum == val:\n",
        "        print(str(val) + \", \", end=\"\")\n",
        "\n",
        "\n",
        "for i in range(first, second + 1):\n",
        "    is_Armstrong(i)"
      ],
      "metadata": {
        "colab": {
          "base_uri": "https://localhost:8080/"
        },
        "id": "PBYJTKiNd665",
        "outputId": "4719bc27-1e91-40db-bc77-3b85c6193b0f"
      },
      "execution_count": 23,
      "outputs": [
        {
          "output_type": "stream",
          "name": "stdout",
          "text": [
            "153, 370, 371, 407, 1634, "
          ]
        }
      ]
    },
    {
      "cell_type": "markdown",
      "source": [
        "**##########################################################################################################**"
      ],
      "metadata": {
        "id": "xWYQNihjghiZ"
      }
    },
    {
      "cell_type": "markdown",
      "source": [
        "**Question 6 - Write a Python Program to Find the Sum of Natural Numbers?**\n",
        "\n",
        "\n",
        "**Answer 6 -**"
      ],
      "metadata": {
        "id": "ySO-koT7DG1N"
      }
    },
    {
      "cell_type": "code",
      "source": [
        "def getSum(num):\n",
        "  if num == 1:\n",
        "    return 1\n",
        "  return num + getSum(num-1)\n",
        "\n",
        "\n",
        "getSum(5)"
      ],
      "metadata": {
        "colab": {
          "base_uri": "https://localhost:8080/"
        },
        "id": "xo8_ihGhf10E",
        "outputId": "18a92fdb-7165-4e5b-edec-5b7cb59053e5"
      },
      "execution_count": 24,
      "outputs": [
        {
          "output_type": "execute_result",
          "data": {
            "text/plain": [
              "15"
            ]
          },
          "metadata": {},
          "execution_count": 24
        }
      ]
    },
    {
      "cell_type": "code",
      "source": [
        "getSum(16)"
      ],
      "metadata": {
        "colab": {
          "base_uri": "https://localhost:8080/"
        },
        "id": "T5fSqpOff9Vj",
        "outputId": "9e7506cb-4d06-4cc7-ea71-7305d75cdd96"
      },
      "execution_count": 25,
      "outputs": [
        {
          "output_type": "execute_result",
          "data": {
            "text/plain": [
              "136"
            ]
          },
          "metadata": {},
          "execution_count": 25
        }
      ]
    },
    {
      "cell_type": "code",
      "source": [
        "getSum(10)"
      ],
      "metadata": {
        "colab": {
          "base_uri": "https://localhost:8080/"
        },
        "id": "ucQoOw7vgB0L",
        "outputId": "a76606d3-a841-45e9-b076-7263b1a388ea"
      },
      "execution_count": 26,
      "outputs": [
        {
          "output_type": "execute_result",
          "data": {
            "text/plain": [
              "55"
            ]
          },
          "metadata": {},
          "execution_count": 26
        }
      ]
    },
    {
      "cell_type": "markdown",
      "source": [
        "**##########################################################################################################**"
      ],
      "metadata": {
        "id": "S2HHO7aVgior"
      }
    },
    {
      "cell_type": "code",
      "source": [],
      "metadata": {
        "id": "30nUcg_zgDkC"
      },
      "execution_count": null,
      "outputs": []
    }
  ]
}