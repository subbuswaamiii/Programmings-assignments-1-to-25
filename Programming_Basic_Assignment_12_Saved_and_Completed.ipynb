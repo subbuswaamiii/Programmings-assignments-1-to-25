{
  "nbformat": 4,
  "nbformat_minor": 0,
  "metadata": {
    "colab": {
      "provenance": []
    },
    "kernelspec": {
      "name": "python3",
      "display_name": "Python 3"
    },
    "language_info": {
      "name": "python"
    }
  },
  "cells": [
    {
      "cell_type": "markdown",
      "source": [
        "**Question 1 -Write a Python program to Extract Unique values dictionary values?**\n",
        "\n",
        "\n",
        "**Answer 1 -**"
      ],
      "metadata": {
        "id": "6EIK1HSHZO3V"
      }
    },
    {
      "cell_type": "code",
      "source": [
        "dict = {'a':[100,200], 'b': [200,300], 'c': [300,400]}\n",
        "print(f\"dictionary is = {dict}\")\n",
        "list1 = []\n",
        "for value in dict.values():\n",
        "  list1.append(value)\n",
        "#print(list)\n",
        "#set = set()\n",
        "list2 = []\n",
        "for i in list1:\n",
        "  \n",
        "  for j in i :\n",
        "    #print(j)\n",
        "    list2.append(j)\n",
        "\n",
        "new= set(list2)\n",
        "\n",
        "\n",
        "list3 = list(new)\n",
        "\n",
        "list3.sort()\n",
        "\n",
        "print(f\" Unique values from dictionary are =  {list3}\")"
      ],
      "metadata": {
        "colab": {
          "base_uri": "https://localhost:8080/"
        },
        "id": "ieSpt9IFnYdo",
        "outputId": "70f3baf0-46c7-4394-ec9d-9d0fba33b70c"
      },
      "execution_count": null,
      "outputs": [
        {
          "output_type": "stream",
          "name": "stdout",
          "text": [
            "dictionary is = {'a': [100, 200], 'b': [200, 300], 'c': [300, 400]}\n",
            " Unique values from dictionary are =  [100, 200, 300, 400]\n"
          ]
        }
      ]
    },
    {
      "cell_type": "markdown",
      "source": [
        "**##########################################################################################################**"
      ],
      "metadata": {
        "id": "lkgBf0dNZO9V"
      }
    },
    {
      "cell_type": "markdown",
      "source": [
        "**Question 2 -Write a Python program to find the sum of all items in a dictionary?**\n",
        "\n",
        "\n",
        "**Answer 2 -**"
      ],
      "metadata": {
        "id": "onWK1dR4Zb1q"
      }
    },
    {
      "cell_type": "code",
      "source": [
        "dict = {'a':[100,200], 'b': [200,300], 'c': [300,400]}\n",
        "print(f\"dictionary is = {dict}\")\n",
        "list1 = []\n",
        "for value in dict.values():\n",
        "  list1.append(value)\n",
        "#print(list)\n",
        "#set = set()\n",
        "list2 = []\n",
        "for i in list1:\n",
        "  \n",
        "  for j in i :\n",
        "    #print(j)\n",
        "    list2.append(j)\n",
        "\n",
        "print(f\"Sum of all Values from dictionary = {sum(list2)}\")"
      ],
      "metadata": {
        "colab": {
          "base_uri": "https://localhost:8080/"
        },
        "id": "Wj5OjoAVpWd-",
        "outputId": "22684030-6817-4652-b90d-2cbafcd250f0"
      },
      "execution_count": null,
      "outputs": [
        {
          "output_type": "stream",
          "name": "stdout",
          "text": [
            "dictionary is = {'a': [100, 200], 'b': [200, 300], 'c': [300, 400]}\n",
            "Sum of all Values from dictionary = 1500\n"
          ]
        }
      ]
    },
    {
      "cell_type": "code",
      "source": [
        "dict = {1:100, 2: 200, 3: 300}\n",
        "print(f\"dictionary is = {dict}\")\n",
        "\n",
        "print(f\"Sum of all Keys from dictionary = {sum(dict.keys())}\")\n",
        "\n",
        "\n",
        "print(f\"Sum of all Values from dictionary = {sum(dict.values())}\")\n",
        "\n",
        "print(f\"Sum of all items key and Values from dictionary = {sum(dict.keys()) + sum(dict.values())}\")"
      ],
      "metadata": {
        "id": "u9XzLsE5q7Dp",
        "outputId": "2a227bc1-86e5-4ae1-e353-644047f56098",
        "colab": {
          "base_uri": "https://localhost:8080/"
        }
      },
      "execution_count": null,
      "outputs": [
        {
          "output_type": "stream",
          "name": "stdout",
          "text": [
            "dictionary is = {1: 100, 2: 200, 3: 300}\n",
            "Sum of all Keys from dictionary = 6\n",
            "Sum of all Values from dictionary = 600\n",
            "Sum of all items key and Values from dictionary = 606\n"
          ]
        }
      ]
    },
    {
      "cell_type": "markdown",
      "source": [
        "**##########################################################################################################**"
      ],
      "metadata": {
        "id": "BFuURorUZb1q"
      }
    },
    {
      "cell_type": "markdown",
      "source": [
        "**Question 3 -Write a Python program to Merging two Dictionaries?**\n",
        "\n",
        "\n",
        "**Answer 3 -**"
      ],
      "metadata": {
        "id": "l50Jfti5ZcJ6"
      }
    },
    {
      "cell_type": "code",
      "source": [
        "dict_1 = {'a':[100,200], 'b': [200,300], 'c': [300,400]}\n",
        "dict_2 = {1:100, 2: 200, 3: 300}\n",
        "print({**dict_1, **dict_2})"
      ],
      "metadata": {
        "colab": {
          "base_uri": "https://localhost:8080/"
        },
        "id": "rGkqwyL3u8cn",
        "outputId": "38c13bb8-6916-4014-ccf4-2affb8fe2853"
      },
      "execution_count": 6,
      "outputs": [
        {
          "output_type": "stream",
          "name": "stdout",
          "text": [
            "{'a': [100, 200], 'b': [200, 300], 'c': [300, 400], 1: 100, 2: 200, 3: 300}\n"
          ]
        }
      ]
    },
    {
      "cell_type": "markdown",
      "source": [
        "**##########################################################################################################**"
      ],
      "metadata": {
        "id": "dB50v0OBZcJ6"
      }
    },
    {
      "cell_type": "markdown",
      "source": [
        "**Question 4 -Write a Python program to convert key-values list to flat dictionary?**\n",
        "\n",
        "\n",
        "**Answer 4 -**"
      ],
      "metadata": {
        "id": "imKHPfBlZcZR"
      }
    },
    {
      "cell_type": "code",
      "source": [
        "dict = {'a':100, 'b': 200, 'c': 300}\n",
        "list = []\n",
        "for key, value in dict.items():\n",
        "  list.append(key)\n",
        "  list.append(value)\n",
        "print(list)"
      ],
      "metadata": {
        "colab": {
          "base_uri": "https://localhost:8080/"
        },
        "id": "CcRbENymw0SH",
        "outputId": "40617f5c-94db-4bd1-97f3-3769e48e3793"
      },
      "execution_count": 7,
      "outputs": [
        {
          "output_type": "stream",
          "name": "stdout",
          "text": [
            "['a', 100, 'b', 200, 'c', 300]\n"
          ]
        }
      ]
    },
    {
      "cell_type": "markdown",
      "source": [
        "**##########################################################################################################**"
      ],
      "metadata": {
        "id": "jmdXoM9vZcZS"
      }
    },
    {
      "cell_type": "markdown",
      "source": [
        "**Question 5 -Write a Python program to insertion at the beginning in OrderedDict?**\n",
        "\n",
        "\n",
        "**Answer 5 -**"
      ],
      "metadata": {
        "id": "FLhxvZS3ZcqS"
      }
    },
    {
      "cell_type": "code",
      "source": [
        "from collections import OrderedDict\n",
        "orderdict = OrderedDict([('Jan', 1), ('Feb', 2), ('Mar', 3)]) \n",
        "\n",
        "print(\"Original OrderedDict:\")\n",
        "print(orderdict)\n",
        "\n",
        "print(\"Insert an element at the beginning of the said OrderedDict:\")\n",
        "orderdict.update({'Apr':4})\n",
        "\n",
        "orderdict.move_to_end('Apr', last = False)\n",
        "\n",
        "print(\"\\nUpdated OrderedDict:\")\n",
        "print(orderdict)"
      ],
      "metadata": {
        "colab": {
          "base_uri": "https://localhost:8080/"
        },
        "id": "FGk0m6SmyPG-",
        "outputId": "f9256049-dbb2-4259-b993-750f24cea2d4"
      },
      "execution_count": 9,
      "outputs": [
        {
          "output_type": "stream",
          "name": "stdout",
          "text": [
            "Original OrderedDict:\n",
            "OrderedDict([('Jan', 1), ('Feb', 2), ('Mar', 3)])\n",
            "Insert an element at the beginning of the said OrderedDict:\n",
            "\n",
            "Updated OrderedDict:\n",
            "OrderedDict([('Apr', 4), ('Jan', 1), ('Feb', 2), ('Mar', 3)])\n"
          ]
        }
      ]
    },
    {
      "cell_type": "markdown",
      "source": [
        "**##########################################################################################################**"
      ],
      "metadata": {
        "id": "dtgEVc9JZcqS"
      }
    },
    {
      "cell_type": "markdown",
      "source": [
        "**Question 6 -Write a Python program to check order of character in string using OrderedDict()?**\n",
        "\n",
        "\n",
        "**Answer 6 -**"
      ],
      "metadata": {
        "id": "nPHIf0F6Zc4y"
      }
    },
    {
      "cell_type": "code",
      "source": [
        "from collections import OrderedDict\n",
        "def check_order(str, my_order):\n",
        "   my_dict = OrderedDict.fromkeys(str)\n",
        "   pattern_length = 0\n",
        "   for key,value in my_dict.items():\n",
        "      if (key == my_order[pattern_length]):\n",
        "         pattern_length = pattern_length + 1\n",
        "\n",
        "      if (pattern_length == (len(my_order))):\n",
        "         return 'The order of pattern is correct'\n",
        "\n",
        "   return 'The order of pattern is incorrect'\n",
        "\n",
        "str = 'Hi Mark'\n",
        "input_pattern = 'am'\n",
        "print(f\"The string is = {str}\")\n",
        "print(f\"The input pattern is = {input_pattern} \")\n",
        "print(check_order(str,input_pattern))"
      ],
      "metadata": {
        "colab": {
          "base_uri": "https://localhost:8080/"
        },
        "id": "52eUMGMf5Uwn",
        "outputId": "e1189f54-8667-49bf-cd28-ee14f5f89544"
      },
      "execution_count": 10,
      "outputs": [
        {
          "output_type": "stream",
          "name": "stdout",
          "text": [
            "The string is \n",
            "Hi Mark\n",
            "The input pattern is \n",
            "am\n",
            "The order of pattern is incorrect\n"
          ]
        }
      ]
    },
    {
      "cell_type": "markdown",
      "source": [
        "**##########################################################################################################**"
      ],
      "metadata": {
        "id": "xpzSUPw4Zc4z"
      }
    },
    {
      "cell_type": "markdown",
      "source": [
        "**Question 7 -Write a Python program to sort Python Dictionaries by Key or Value?**\n",
        "\n",
        "\n",
        "**Answer 7 -**"
      ],
      "metadata": {
        "id": "QYMKH5mLZdFa"
      }
    },
    {
      "cell_type": "code",
      "source": [
        "dict = {'b':100, 'c': 200, 'a': 300}\n",
        "\n",
        "for key in sorted(dict):\n",
        "  print(f\"{key} : {dict[key]}\")          "
      ],
      "metadata": {
        "colab": {
          "base_uri": "https://localhost:8080/"
        },
        "id": "7-cbBna596_b",
        "outputId": "98abd5fa-b6c9-4eb6-e6c2-3e74346d6ca6"
      },
      "execution_count": 11,
      "outputs": [
        {
          "output_type": "stream",
          "name": "stdout",
          "text": [
            "a : 300\n",
            "b : 100\n",
            "c : 200\n"
          ]
        }
      ]
    },
    {
      "cell_type": "markdown",
      "source": [
        "**##########################################################################################################**"
      ],
      "metadata": {
        "id": "SL_jCNNiZdFa"
      }
    }
  ]
}