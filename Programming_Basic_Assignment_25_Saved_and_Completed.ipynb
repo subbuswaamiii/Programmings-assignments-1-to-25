{
  "nbformat": 4,
  "nbformat_minor": 0,
  "metadata": {
    "colab": {
      "provenance": []
    },
    "kernelspec": {
      "name": "python3",
      "display_name": "Python 3"
    },
    "language_info": {
      "name": "python"
    }
  },
  "cells": [
    {
      "cell_type": "code",
      "execution_count": null,
      "metadata": {
        "id": "S21kmDYuOswg"
      },
      "outputs": [],
      "source": []
    },
    {
      "cell_type": "markdown",
      "source": [
        "**Question1**\n",
        "\n",
        "Create a function that takes three integer arguments (a, b, c) and returns the amount of integers which are of equal value.\n",
        "\n",
        "**Examples**\n",
        "\n",
        "equal(3, 4, 3) ➞ 2\n",
        "\n",
        "equal(1, 1, 1) ➞ 3\n",
        "\n",
        "equal(3, 4, 1) ➞ 0\n",
        "\n",
        "**Notes**\n",
        "\n",
        "Your function must return 0, 2 or 3.\n"
      ],
      "metadata": {
        "id": "wvmpfIyuOxjh"
      }
    },
    {
      "cell_type": "code",
      "source": [
        "## final Result\n",
        "def func(a,b,c):\n",
        "\n",
        "  #a =3\n",
        "  #b= 4\n",
        "  #c= 3\n",
        "  print(f\"equal({a,b,c}) ➞\", end=\" \")\n",
        "  if a==b==c:\n",
        "     print(a+b+c)\n",
        "\n",
        "  else:\n",
        "     print(a+c-b) "
      ],
      "metadata": {
        "id": "6aV6mopZRuBv"
      },
      "execution_count": null,
      "outputs": []
    },
    {
      "cell_type": "code",
      "source": [
        "func(3,4,3)"
      ],
      "metadata": {
        "colab": {
          "base_uri": "https://localhost:8080/"
        },
        "id": "1_CooR7eRuEv",
        "outputId": "b6897c1a-6a88-4cf1-99b0-58fabdbe92b7"
      },
      "execution_count": null,
      "outputs": [
        {
          "output_type": "stream",
          "name": "stdout",
          "text": [
            "equal((3, 4, 3)) ➞ 2\n"
          ]
        }
      ]
    },
    {
      "cell_type": "code",
      "source": [
        "func(1,1,1)"
      ],
      "metadata": {
        "colab": {
          "base_uri": "https://localhost:8080/"
        },
        "id": "C2DD4Pd-RuIf",
        "outputId": "8cd5da4a-2a49-4763-bbe9-1107de87307e"
      },
      "execution_count": null,
      "outputs": [
        {
          "output_type": "stream",
          "name": "stdout",
          "text": [
            "equal((1, 1, 1)) ➞ 3\n"
          ]
        }
      ]
    },
    {
      "cell_type": "code",
      "source": [
        "func(3,4,1)"
      ],
      "metadata": {
        "colab": {
          "base_uri": "https://localhost:8080/"
        },
        "id": "uBaRmOBLRug5",
        "outputId": "93ce8a09-e842-452a-f2a3-ee69dfd46559"
      },
      "execution_count": null,
      "outputs": [
        {
          "output_type": "stream",
          "name": "stdout",
          "text": [
            "equal((3, 4, 1)) ➞ 0\n"
          ]
        }
      ]
    },
    {
      "cell_type": "markdown",
      "source": [
        "**##########################################################################################################**"
      ],
      "metadata": {
        "id": "4nX32aseOxm2"
      }
    },
    {
      "cell_type": "markdown",
      "source": [
        "**Question2**\n",
        "\n",
        "Write a function that converts a dictionary into a list of keys-values tuples.\n",
        "\n",
        "**Examples**\n",
        "\n",
        "dict_to_list({\n",
        "  \"D\": 1,\n",
        "  \"B\": 2,\n",
        "  \"C\": 3\n",
        "}) ➞ [(\"B\", 2), (\"C\", 3), (\"D\", 1)]\n",
        "\n",
        "\n",
        "dict_to_list({\n",
        "  \"likes\": 2,\n",
        "  \"dislikes\": 3,\n",
        "  \"followers\": 10\n",
        "}) ➞ [(\"dislikes\", 3), (\"followers\", 10), (\"likes\", 2)]\n",
        "\n",
        "\n",
        "**Notes**\n",
        "\n",
        "Return the elements in the list in alphabetical order.\n"
      ],
      "metadata": {
        "id": "gneWN8ZcOxsh"
      }
    },
    {
      "cell_type": "code",
      "source": [
        "## final Result\n",
        "\n",
        "def func(dict):\n",
        "\n",
        "  #dict ={ \"D\": 1, \"B\": 2, \"C\": 3 }\n",
        "  print(f\"dict_to_list({ dict}) ➞ \", end= \" \")\n",
        "\n",
        "  d = sorted(dict.items())\n",
        "  print(d)"
      ],
      "metadata": {
        "id": "padgtpF8P8Xm"
      },
      "execution_count": null,
      "outputs": []
    },
    {
      "cell_type": "code",
      "source": [
        "func({ \"D\": 1, \"B\": 2, \"C\": 3 })"
      ],
      "metadata": {
        "colab": {
          "base_uri": "https://localhost:8080/"
        },
        "id": "_6CLAYZYWLmQ",
        "outputId": "92a314e1-dc26-43d7-fa4c-de1ed5622d64"
      },
      "execution_count": null,
      "outputs": [
        {
          "output_type": "stream",
          "name": "stdout",
          "text": [
            "dict_to_list({'D': 1, 'B': 2, 'C': 3}) ➞  [('B', 2), ('C', 3), ('D', 1)]\n"
          ]
        }
      ]
    },
    {
      "cell_type": "code",
      "source": [
        "func({ \"likes\": 2, \"dislikes\": 3, \"followers\": 10 })"
      ],
      "metadata": {
        "colab": {
          "base_uri": "https://localhost:8080/"
        },
        "id": "KazR__XqWLpn",
        "outputId": "192c501b-a286-40cf-e643-da0c04141882"
      },
      "execution_count": null,
      "outputs": [
        {
          "output_type": "stream",
          "name": "stdout",
          "text": [
            "dict_to_list({'likes': 2, 'dislikes': 3, 'followers': 10}) ➞  [('dislikes', 3), ('followers', 10), ('likes', 2)]\n"
          ]
        }
      ]
    },
    {
      "cell_type": "markdown",
      "source": [
        "**##########################################################################################################**"
      ],
      "metadata": {
        "id": "6lU_RtWsOxvu"
      }
    },
    {
      "cell_type": "markdown",
      "source": [
        "**Question3**\n",
        "\n",
        "Write a function that creates a dictionary with each (key, value) pair being the (lower case, upper case) versions of a letter, respectively.\n",
        "\n",
        "**Examples**\n",
        "\n",
        "mapping([\"p\", \"s\"]) ➞ { \"p\": \"P\", \"s\": \"S\" }\n",
        "\n",
        "mapping([\"a\", \"b\", \"c\"]) ➞ { \"a\": \"A\", \"b\": \"B\", \"c\": \"C\" }\n",
        "\n",
        "mapping([\"a\", \"v\", \"y\", \"z\"]) ➞ { \"a\": \"A\", \"v\": \"V\", \"y\": \"Y\", \"z\": \"Z\" }\n",
        "\n",
        "**Notes**\n",
        "\n",
        "All of the letters in the input list will always be lowercase.\n"
      ],
      "metadata": {
        "id": "bxVdw1sFOx4t"
      }
    },
    {
      "cell_type": "code",
      "source": [
        "## final Result\n",
        "\n",
        "def create_dict(list1):\n",
        "\n",
        "  \n",
        "\n",
        "  empty =  []\n",
        "  for i in list1:\n",
        "    \n",
        "    empty.append(i.upper())\n",
        "\n",
        "  \n",
        "\n",
        "  empty_dict = {}\n",
        "  \n",
        "  print(f\"mapping({list1}) ➞ \", end= \" \")\n",
        "\n",
        "  for i in range(len(list1)):\n",
        "      for i in range(len(empty)):\n",
        "          empty_dict[list1[i]] = empty[i]\n",
        "\n",
        "  print(empty_dict)"
      ],
      "metadata": {
        "id": "j-7V9nOZP84k"
      },
      "execution_count": null,
      "outputs": []
    },
    {
      "cell_type": "code",
      "source": [
        "create_dict([\"p\", \"s\"])"
      ],
      "metadata": {
        "colab": {
          "base_uri": "https://localhost:8080/"
        },
        "id": "B2oclq9Cc3dl",
        "outputId": "c1595e49-ef40-41d2-85d4-861a44a43797"
      },
      "execution_count": null,
      "outputs": [
        {
          "output_type": "stream",
          "name": "stdout",
          "text": [
            "mapping(['p', 's']) ➞  {'p': 'P', 's': 'S'}\n"
          ]
        }
      ]
    },
    {
      "cell_type": "code",
      "source": [
        "create_dict([\"a\", \"b\", \"c\"])"
      ],
      "metadata": {
        "colab": {
          "base_uri": "https://localhost:8080/"
        },
        "id": "GDUvYgd5c3ge",
        "outputId": "1135823c-d60f-4077-e329-089e955c7c98"
      },
      "execution_count": null,
      "outputs": [
        {
          "output_type": "stream",
          "name": "stdout",
          "text": [
            "mapping(['a', 'b', 'c']) ➞  {'a': 'A', 'b': 'B', 'c': 'C'}\n"
          ]
        }
      ]
    },
    {
      "cell_type": "code",
      "source": [
        "create_dict([\"a\", \"v\", \"y\", \"z\"])"
      ],
      "metadata": {
        "colab": {
          "base_uri": "https://localhost:8080/"
        },
        "id": "f4dJ6lS5c3jm",
        "outputId": "3725b4b6-88b6-46d1-e1e6-9bb09cf62d70"
      },
      "execution_count": null,
      "outputs": [
        {
          "output_type": "stream",
          "name": "stdout",
          "text": [
            "mapping(['a', 'v', 'y', 'z']) ➞  {'a': 'A', 'v': 'V', 'y': 'Y', 'z': 'Z'}\n"
          ]
        }
      ]
    },
    {
      "cell_type": "markdown",
      "source": [
        "**##########################################################################################################**"
      ],
      "metadata": {
        "id": "65t9IV5jOx8c"
      }
    },
    {
      "cell_type": "markdown",
      "source": [
        "**Question4**\n",
        "\n",
        "Write a function, that replaces all vowels in a string with a specified vowel.\n",
        "\n",
        "**Examples**\n",
        "\n",
        "vow_replace(\"apples and bananas\", \"u\") ➞ \"upplus und bununus\"\n",
        "\n",
        "vow_replace(\"cheese casserole\", \"o\") ➞ \"chooso cossorolo\"\n",
        "\n",
        "vow_replace(\"stuffed jalapeno poppers\", \"e\") ➞ \"steffed jelepene peppers\"\n",
        "\n",
        "**Notes**\n",
        "\n",
        "All words will be lowercase. Y is not considered a vowel.\n"
      ],
      "metadata": {
        "id": "kJoCYs98OyCd"
      }
    },
    {
      "cell_type": "code",
      "source": [
        "## final Result Correct\n",
        "\n",
        "\n",
        "\n",
        "def checkandreplace( s , replacing_word):\n",
        "  \n",
        "  vowels =\"AaEeIiOoUu\"\n",
        "  \n",
        "  list_s = []\n",
        "  list_s[:0] =  s\n",
        " \n",
        "  list_vowels = []\n",
        "  list_vowels[:0] =  vowels\n",
        "  \n",
        "  print(f\"vow_replace({s}) ➞\", end = \" \") \n",
        "  for i in range(len(list_s)) :\n",
        "      for j in range(len(list_vowels)):\n",
        "          if list_vowels[j] == list_s[i]:\n",
        "           \n",
        "             list_s[i] = replacing_word\n",
        "\n",
        " \n",
        "  s = \"\".join(list_s)  \n",
        "   \n",
        "  return s\n",
        "  "
      ],
      "metadata": {
        "id": "oNXEgBRvrior"
      },
      "execution_count": null,
      "outputs": []
    },
    {
      "cell_type": "code",
      "source": [
        "checkandreplace( \"apples and bananas\" , 'u')"
      ],
      "metadata": {
        "colab": {
          "base_uri": "https://localhost:8080/",
          "height": 35
        },
        "id": "md4LY9DIrirH",
        "outputId": "df883c22-f5d2-4bd5-ed2d-d6f4709c92f4"
      },
      "execution_count": null,
      "outputs": [
        {
          "output_type": "stream",
          "name": "stdout",
          "text": [
            "vow_replace(apples and bananas) ➞ "
          ]
        },
        {
          "output_type": "execute_result",
          "data": {
            "text/plain": [
              "'upplus und bununus'"
            ],
            "application/vnd.google.colaboratory.intrinsic+json": {
              "type": "string"
            }
          },
          "metadata": {},
          "execution_count": 2
        }
      ]
    },
    {
      "cell_type": "code",
      "source": [
        "checkandreplace( \"cheese casserole\", \"o\")"
      ],
      "metadata": {
        "colab": {
          "base_uri": "https://localhost:8080/",
          "height": 35
        },
        "id": "R5QhU9E0rito",
        "outputId": "a89963b9-9781-4bad-8003-4a003f1fadb8"
      },
      "execution_count": null,
      "outputs": [
        {
          "output_type": "stream",
          "name": "stdout",
          "text": [
            "vow_replace(cheese casserole) ➞ "
          ]
        },
        {
          "output_type": "execute_result",
          "data": {
            "text/plain": [
              "'chooso cossorolo'"
            ],
            "application/vnd.google.colaboratory.intrinsic+json": {
              "type": "string"
            }
          },
          "metadata": {},
          "execution_count": 3
        }
      ]
    },
    {
      "cell_type": "code",
      "source": [
        "checkandreplace( \"stuffed jalapeno poppers\", \"e\")"
      ],
      "metadata": {
        "id": "8HDiMLfrP9X4",
        "colab": {
          "base_uri": "https://localhost:8080/",
          "height": 35
        },
        "outputId": "59246ed0-f31d-4d0d-c5eb-1fecc1a72705"
      },
      "execution_count": null,
      "outputs": [
        {
          "output_type": "stream",
          "name": "stdout",
          "text": [
            "vow_replace(stuffed jalapeno poppers) ➞ "
          ]
        },
        {
          "output_type": "execute_result",
          "data": {
            "text/plain": [
              "'steffed jelepene peppers'"
            ],
            "application/vnd.google.colaboratory.intrinsic+json": {
              "type": "string"
            }
          },
          "metadata": {},
          "execution_count": 4
        }
      ]
    },
    {
      "cell_type": "markdown",
      "source": [
        "**##########################################################################################################**"
      ],
      "metadata": {
        "id": "PQ8rldEbOyGr"
      }
    },
    {
      "cell_type": "markdown",
      "source": [
        "**Question5**\n",
        "\n",
        "Create a function that takes a string as input and capitalizes a letter if its ASCII code is even and returns its lower case version if its ASCII code is odd.\n",
        "\n",
        "**Examples**\n",
        "\n",
        "ascii_capitalize(\"to be or not to be!\") ➞ \"To Be oR NoT To Be!\"\n",
        "\n",
        "ascii_capitalize(\"THE LITTLE MERMAID\") ➞ \"THe LiTTLe meRmaiD\"\n",
        "\n",
        "ascii_capitalize(\"Oh what a beautiful morning.\") ➞ \"oH wHaT a BeauTiFuL moRNiNg.\"\n"
      ],
      "metadata": {
        "id": "wZFqmXzdOyMV"
      }
    },
    {
      "cell_type": "code",
      "source": [
        "## Final Result \n",
        "\n",
        "def replacewithuppercaseletter(s):\n",
        "\n",
        "\n",
        "\n",
        " \n",
        "  list1 = []\n",
        "  list1[:0] = s\n",
        "  #)\n",
        "  #\n",
        "\n",
        "  empty = []\n",
        "  #\n",
        "\n",
        "  ## \n",
        "  for i in list1 :\n",
        "     if (ord(i)%2) == 0 :\n",
        "        #\n",
        "        empty.append(i.upper())\n",
        "  #\n",
        "\n",
        "  # \n",
        "  print(f\"ascii_capitalize({s}) ➞\", end=\" \")\n",
        "\n",
        "  for i in range(len(list1)):\n",
        "     for k in range(len(empty)):\n",
        "        if empty[k].lower() == list1[i] :\n",
        "           \n",
        "           list1[i] = empty[k]\n",
        "\n",
        "\n",
        "  ## \n",
        "  new_string = \"\".join(list1)\n",
        "  return new_string"
      ],
      "metadata": {
        "id": "naYrakETP96J"
      },
      "execution_count": 1,
      "outputs": []
    },
    {
      "cell_type": "code",
      "source": [
        "replacewithuppercaseletter(\"to be or not to be!\")"
      ],
      "metadata": {
        "colab": {
          "base_uri": "https://localhost:8080/",
          "height": 35
        },
        "id": "1t5MYoY2p6ZS",
        "outputId": "5d0cf190-c25d-46af-d8d1-b3f12cd093cd"
      },
      "execution_count": 2,
      "outputs": [
        {
          "output_type": "stream",
          "name": "stdout",
          "text": [
            "ascii_capitalize(to be or not to be!) ➞ "
          ]
        },
        {
          "output_type": "execute_result",
          "data": {
            "text/plain": [
              "'To Be oR NoT To Be!'"
            ],
            "application/vnd.google.colaboratory.intrinsic+json": {
              "type": "string"
            }
          },
          "metadata": {},
          "execution_count": 2
        }
      ]
    },
    {
      "cell_type": "code",
      "source": [
        "replacewithuppercaseletter(\"THE LITTLE MERMAID\")"
      ],
      "metadata": {
        "colab": {
          "base_uri": "https://localhost:8080/",
          "height": 35
        },
        "id": "JTpi8KMWp6cJ",
        "outputId": "0a4f5f65-86d1-45cf-a6af-681f9d6ab9f7"
      },
      "execution_count": 3,
      "outputs": [
        {
          "output_type": "stream",
          "name": "stdout",
          "text": [
            "ascii_capitalize(THE LITTLE MERMAID) ➞ "
          ]
        },
        {
          "output_type": "execute_result",
          "data": {
            "text/plain": [
              "'THE LITTLE MERMAID'"
            ],
            "application/vnd.google.colaboratory.intrinsic+json": {
              "type": "string"
            }
          },
          "metadata": {},
          "execution_count": 3
        }
      ]
    },
    {
      "cell_type": "code",
      "source": [
        "replacewithuppercaseletter(\"Oh what a beautiful morning.\")"
      ],
      "metadata": {
        "colab": {
          "base_uri": "https://localhost:8080/",
          "height": 35
        },
        "id": "KGmcvK2Mp6fg",
        "outputId": "f92a484c-0ca8-46c7-d439-c4b6fa4af77f"
      },
      "execution_count": 4,
      "outputs": [
        {
          "output_type": "stream",
          "name": "stdout",
          "text": [
            "ascii_capitalize(Oh what a beautiful morning.) ➞ "
          ]
        },
        {
          "output_type": "execute_result",
          "data": {
            "text/plain": [
              "'OH wHaT a BeauTiFuL moRNiNg.'"
            ],
            "application/vnd.google.colaboratory.intrinsic+json": {
              "type": "string"
            }
          },
          "metadata": {},
          "execution_count": 4
        }
      ]
    },
    {
      "cell_type": "markdown",
      "source": [
        "**##########################################################################################################**"
      ],
      "metadata": {
        "id": "LwnzLveNOyRA"
      }
    },
    {
      "cell_type": "code",
      "source": [],
      "metadata": {
        "id": "xWIv2wOHq2y8"
      },
      "execution_count": null,
      "outputs": []
    }
  ]
}