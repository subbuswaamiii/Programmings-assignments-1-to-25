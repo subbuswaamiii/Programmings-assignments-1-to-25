{
  "nbformat": 4,
  "nbformat_minor": 0,
  "metadata": {
    "colab": {
      "provenance": []
    },
    "kernelspec": {
      "name": "python3",
      "display_name": "Python 3"
    },
    "language_info": {
      "name": "python"
    }
  },
  "cells": [
    {
      "cell_type": "code",
      "execution_count": null,
      "metadata": {
        "id": "mypqNJiEJGLe"
      },
      "outputs": [],
      "source": []
    },
    {
      "cell_type": "markdown",
      "source": [
        "**Question1**\n",
        "\n",
        "**Create a function that takes a list of strings and integers, and filters out the list so that it returns a list of integers only.**\n",
        "\n",
        "**Examples**\n",
        "\n",
        "filter_list([1, 2, 3, \"a\", \"b\", 4]) ➞ [1, 2, 3, 4]\n",
        "\n",
        "filter_list([\"A\", 0, \"Edabit\", 1729, \"Python\", \"1729\"]) ➞ [0, 1729]\n",
        "\n",
        "filter_list([\"Nothing\", \"here\"]) ➞ []\n"
      ],
      "metadata": {
        "id": "ZLXBsInrJNrJ"
      }
    },
    {
      "cell_type": "code",
      "source": [
        "## Final Result\n",
        "\n",
        "def numbersonly(list):\n",
        "  #list = [1, 2, 3, \"a\", \"b\", 4]\n",
        "\n",
        "  newlist =[]\n",
        "\n",
        "  for i in list:\n",
        "    if type(i) == int :\n",
        "\n",
        "      newlist.append(i)\n",
        "\n",
        "  print(f\"filter_list({list}) ➞\", end = \" \")\n",
        "  print(newlist)\n"
      ],
      "metadata": {
        "id": "3Ig78SdvKRbw"
      },
      "execution_count": 1,
      "outputs": []
    },
    {
      "cell_type": "code",
      "source": [
        "numbersonly([1, 2, 3, \"a\", \"b\", 4])"
      ],
      "metadata": {
        "colab": {
          "base_uri": "https://localhost:8080/"
        },
        "id": "hZVmd-lrMYIT",
        "outputId": "7f6bf97d-2b74-46ef-fe38-b260024d7c22"
      },
      "execution_count": 2,
      "outputs": [
        {
          "output_type": "stream",
          "name": "stdout",
          "text": [
            "filter_list([1, 2, 3, 'a', 'b', 4]) ➞ [1, 2, 3, 4]\n"
          ]
        }
      ]
    },
    {
      "cell_type": "code",
      "source": [
        "numbersonly([\"A\", 0, \"Edabit\", 1729, \"Python\", \"1729\"])"
      ],
      "metadata": {
        "colab": {
          "base_uri": "https://localhost:8080/"
        },
        "id": "m8xDb8z8MYWO",
        "outputId": "d40aa024-64e8-4240-8efc-0f0eb3426e63"
      },
      "execution_count": 3,
      "outputs": [
        {
          "output_type": "stream",
          "name": "stdout",
          "text": [
            "filter_list(['A', 0, 'Edabit', 1729, 'Python', '1729']) ➞ [0, 1729]\n"
          ]
        }
      ]
    },
    {
      "cell_type": "code",
      "source": [
        "numbersonly([\"Nothing\", \"here\"])"
      ],
      "metadata": {
        "colab": {
          "base_uri": "https://localhost:8080/"
        },
        "id": "9Tez11QeMYfe",
        "outputId": "ee99d1f2-c1a2-4fdf-b56b-514796be21c7"
      },
      "execution_count": 4,
      "outputs": [
        {
          "output_type": "stream",
          "name": "stdout",
          "text": [
            "filter_list(['Nothing', 'here']) ➞ []\n"
          ]
        }
      ]
    },
    {
      "cell_type": "markdown",
      "source": [
        "**##########################################################################################################**"
      ],
      "metadata": {
        "id": "zhx1uSRrJNuh"
      }
    },
    {
      "cell_type": "markdown",
      "source": [
        "**Question2**\n",
        "\n",
        "**Given a list of numbers, create a function which returns the list but with each element's index in the list added to itself. This means you add 0 to the number at index 0, add 1 to the number at index 1, etc...**\n",
        "\n",
        "**Examples**\n",
        "\n",
        "add_indexes([0, 0, 0, 0, 0]) ➞ [0, 1, 2, 3, 4]\n",
        "\n",
        "add_indexes([1, 2, 3, 4, 5]) ➞ [1, 3, 5, 7, 9]\n",
        "\n",
        "add_indexes([5, 4, 3, 2, 1]) ➞ [5, 5, 5, 5, 5]\n"
      ],
      "metadata": {
        "id": "cuhCjwEoJNxd"
      }
    },
    {
      "cell_type": "code",
      "source": [
        "## final Result\n",
        "\n",
        "def indexaddition(list):\n",
        "\n",
        "  #list = [0,0,0,0,0]\n",
        "  ind = 0\n",
        "  empty = []\n",
        "\n",
        "  for i in list :\n",
        "\n",
        "    l= list.index(i,ind) + i\n",
        "\n",
        "    empty.append(l)\n",
        "\n",
        "    ind = ind + 1\n",
        "\n",
        "  print(f\"add_indexes({list}) ➞\", end=\" \")\n",
        "  print(empty)  \n"
      ],
      "metadata": {
        "id": "eNxen_jmZcxk"
      },
      "execution_count": 5,
      "outputs": []
    },
    {
      "cell_type": "code",
      "source": [
        "indexaddition([0,0,0,0,0])"
      ],
      "metadata": {
        "colab": {
          "base_uri": "https://localhost:8080/"
        },
        "id": "pnDQNRU8Zc0d",
        "outputId": "6602c88b-de3b-4c3c-c522-fc7f3e843302"
      },
      "execution_count": 6,
      "outputs": [
        {
          "output_type": "stream",
          "name": "stdout",
          "text": [
            "add_indexes([0, 0, 0, 0, 0]) ➞ [0, 1, 2, 3, 4]\n"
          ]
        }
      ]
    },
    {
      "cell_type": "code",
      "source": [
        "indexaddition([1, 2, 3, 4, 5])"
      ],
      "metadata": {
        "colab": {
          "base_uri": "https://localhost:8080/"
        },
        "id": "OP9QIbzNZc3H",
        "outputId": "2c178214-1164-49a3-e2ca-2443d6a6ddbf"
      },
      "execution_count": 7,
      "outputs": [
        {
          "output_type": "stream",
          "name": "stdout",
          "text": [
            "add_indexes([1, 2, 3, 4, 5]) ➞ [1, 3, 5, 7, 9]\n"
          ]
        }
      ]
    },
    {
      "cell_type": "code",
      "source": [
        "indexaddition([5, 4, 3, 2, 1])"
      ],
      "metadata": {
        "colab": {
          "base_uri": "https://localhost:8080/"
        },
        "id": "ap1aA0W9Zc6C",
        "outputId": "6dce8996-efbb-4627-e57f-72aa22bfc02c"
      },
      "execution_count": 8,
      "outputs": [
        {
          "output_type": "stream",
          "name": "stdout",
          "text": [
            "add_indexes([5, 4, 3, 2, 1]) ➞ [5, 5, 5, 5, 5]\n"
          ]
        }
      ]
    },
    {
      "cell_type": "code",
      "source": [],
      "metadata": {
        "id": "qqvym9XEKQtr"
      },
      "execution_count": null,
      "outputs": []
    },
    {
      "cell_type": "markdown",
      "source": [
        "**##########################################################################################################**"
      ],
      "metadata": {
        "id": "rN9PvoTTJN0x"
      }
    },
    {
      "cell_type": "markdown",
      "source": [
        "**Question3**\n",
        "\n",
        "**Create a function that takes the height and radius of a cone as arguments and returns the volume of the cone rounded to the nearest hundredth. See the resources tab for the formula.**\n",
        "\n",
        "\n",
        "![image.png](data:image/png;base64,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)\n",
        " \n",
        "**Examples**\n",
        "\n",
        "cone_volume(3, 2) ➞ 12.57\n",
        "\n",
        "cone_volume(15, 6) ➞ 565.49\n",
        "\n",
        "cone_volume(18, 0) ➞ 0\n",
        "\n"
      ],
      "metadata": {
        "id": "UxVsXodhJN3q"
      }
    },
    {
      "cell_type": "code",
      "source": [
        "## Final Result\n",
        "\n",
        "import math\n",
        "def volume(h,r) :\n",
        "\n",
        "  #h =3\n",
        "\n",
        "  #r = 2\n",
        "\n",
        "  pi = math.pi\n",
        "\n",
        "  volume = (1/3)*(pi * r * r * h)\n",
        "  \n",
        "  print(f\"cone_volume({h,r}) ➞ \", end= \" \")\n",
        "  print(round(volume,2))"
      ],
      "metadata": {
        "id": "3e076g5JKQAq"
      },
      "execution_count": 9,
      "outputs": []
    },
    {
      "cell_type": "code",
      "source": [
        "volume(3,2)"
      ],
      "metadata": {
        "colab": {
          "base_uri": "https://localhost:8080/"
        },
        "id": "s4-A3QcebgoL",
        "outputId": "2daa7fe1-d752-4db4-b5fb-332679ad583b"
      },
      "execution_count": 10,
      "outputs": [
        {
          "output_type": "stream",
          "name": "stdout",
          "text": [
            "cone_volume((3, 2)) ➞  12.57\n"
          ]
        }
      ]
    },
    {
      "cell_type": "code",
      "source": [
        "volume(15,6)"
      ],
      "metadata": {
        "colab": {
          "base_uri": "https://localhost:8080/"
        },
        "id": "8rOVE9A6bgsj",
        "outputId": "9891b8f1-a60e-408b-9cbb-bdb9b24157c4"
      },
      "execution_count": 11,
      "outputs": [
        {
          "output_type": "stream",
          "name": "stdout",
          "text": [
            "cone_volume((15, 6)) ➞  565.49\n"
          ]
        }
      ]
    },
    {
      "cell_type": "code",
      "source": [
        "volume(18,0)"
      ],
      "metadata": {
        "colab": {
          "base_uri": "https://localhost:8080/"
        },
        "id": "nQq0U7Z7bhH-",
        "outputId": "b4f319fc-1863-40da-cc52-91de2161aaa4"
      },
      "execution_count": 12,
      "outputs": [
        {
          "output_type": "stream",
          "name": "stdout",
          "text": [
            "cone_volume((18, 0)) ➞  0.0\n"
          ]
        }
      ]
    },
    {
      "cell_type": "markdown",
      "source": [
        "**##########################################################################################################**"
      ],
      "metadata": {
        "id": "SHPKzculJN6-"
      }
    },
    {
      "cell_type": "markdown",
      "source": [
        "**Question4**\n",
        "\n",
        "**This Triangular Number Sequence is generated from a pattern of dots that form a triangle. The first 5 numbers of the sequence, or dots, are:** \n",
        "\n",
        "**1, 3, 6, 10, 15**\n",
        "\n",
        "**This means that the first triangle has just one dot, the second one has three dots, the third one has 6 dots and so on.**\n",
        "\n",
        "**Write a function that gives the number of dots with its corresponding triangle number of the sequence.**\n",
        "\n",
        "**Examples**\n",
        "\n",
        "triangle(1) ➞ 1\n",
        "\n",
        "triangle(6) ➞ 21\n",
        "\n",
        "triangle(215) ➞ 23220\n"
      ],
      "metadata": {
        "id": "0qk33jliJN-W"
      }
    },
    {
      "cell_type": "code",
      "source": [
        "## Final Result\n",
        "\n",
        "def addallnumbers(n):\n",
        "\n",
        "\n",
        "\n",
        "  #n = 6\n",
        "  empty = []\n",
        "\n",
        "  for i in range(n+1):\n",
        "\n",
        "      empty.append(i)\n",
        "\n",
        "  print(f\"triangle({n}) ➞\", end = \" \")\n",
        "  print(sum(empty))"
      ],
      "metadata": {
        "id": "I9oVD-30KPUP"
      },
      "execution_count": 17,
      "outputs": []
    },
    {
      "cell_type": "code",
      "source": [
        "addallnumbers(1)"
      ],
      "metadata": {
        "colab": {
          "base_uri": "https://localhost:8080/"
        },
        "id": "rAbIuGZUkqve",
        "outputId": "91c0b3f3-0e2b-46db-c478-ebd6cf158c4a"
      },
      "execution_count": 18,
      "outputs": [
        {
          "output_type": "stream",
          "name": "stdout",
          "text": [
            "triangle(1) ➞ 1\n"
          ]
        }
      ]
    },
    {
      "cell_type": "code",
      "source": [
        "addallnumbers(6)"
      ],
      "metadata": {
        "colab": {
          "base_uri": "https://localhost:8080/"
        },
        "id": "-I0BoL3kkq0R",
        "outputId": "22c23e9e-a394-47c9-a38b-ed9d8d06b205"
      },
      "execution_count": 19,
      "outputs": [
        {
          "output_type": "stream",
          "name": "stdout",
          "text": [
            "triangle(6) ➞ 21\n"
          ]
        }
      ]
    },
    {
      "cell_type": "code",
      "source": [
        "addallnumbers(215)"
      ],
      "metadata": {
        "colab": {
          "base_uri": "https://localhost:8080/"
        },
        "id": "AODQKfAikrPB",
        "outputId": "f55a07cf-09f5-48bb-8629-3280fc2025a8"
      },
      "execution_count": 20,
      "outputs": [
        {
          "output_type": "stream",
          "name": "stdout",
          "text": [
            "triangle(215) ➞ 23220\n"
          ]
        }
      ]
    },
    {
      "cell_type": "code",
      "source": [
        "##########"
      ],
      "metadata": {
        "id": "O9q1_PM8pO8h"
      },
      "execution_count": null,
      "outputs": []
    },
    {
      "cell_type": "code",
      "source": [
        "## Final Result\n",
        "\n",
        "\n",
        "def triangle(n):\n",
        "\n",
        "\n",
        "  # Formula For Triangular Number Sequence\n",
        "  formula =(1/2) * (n*(n+1))\n",
        "  #return formula\n",
        "  print(f\"triangle({n}) ➞ \", end= \" \")\n",
        "  print(round(formula))"
      ],
      "metadata": {
        "id": "IglKy8TSpO_x"
      },
      "execution_count": 21,
      "outputs": []
    },
    {
      "cell_type": "code",
      "source": [
        "triangle(1)"
      ],
      "metadata": {
        "colab": {
          "base_uri": "https://localhost:8080/"
        },
        "id": "BhOl939KpPC-",
        "outputId": "f0b7296a-95fa-4542-ea12-238898eecc05"
      },
      "execution_count": 22,
      "outputs": [
        {
          "output_type": "stream",
          "name": "stdout",
          "text": [
            "triangle(1) ➞  1\n"
          ]
        }
      ]
    },
    {
      "cell_type": "code",
      "source": [
        "triangle(6)"
      ],
      "metadata": {
        "colab": {
          "base_uri": "https://localhost:8080/"
        },
        "id": "Iec53vV6pPF9",
        "outputId": "cde29340-5f12-4506-b16b-bf39fef5f4db"
      },
      "execution_count": 23,
      "outputs": [
        {
          "output_type": "stream",
          "name": "stdout",
          "text": [
            "triangle(6) ➞  21\n"
          ]
        }
      ]
    },
    {
      "cell_type": "code",
      "source": [
        "triangle(215)"
      ],
      "metadata": {
        "colab": {
          "base_uri": "https://localhost:8080/"
        },
        "id": "JzJSM5ZopPI4",
        "outputId": "94067ca0-0678-48b8-8071-0a417d08803f"
      },
      "execution_count": 24,
      "outputs": [
        {
          "output_type": "stream",
          "name": "stdout",
          "text": [
            "triangle(215) ➞  23220\n"
          ]
        }
      ]
    },
    {
      "cell_type": "code",
      "source": [],
      "metadata": {
        "id": "orZv3R3UpPLk"
      },
      "execution_count": null,
      "outputs": []
    },
    {
      "cell_type": "markdown",
      "source": [
        "**##########################################################################################################**"
      ],
      "metadata": {
        "id": "0pfSAVaPJOCU"
      }
    },
    {
      "cell_type": "markdown",
      "source": [
        "**Question5**\n",
        "\n",
        "**Create a function that takes a list of numbers between 1 and 10 (excluding one number) and returns the missing number.**\n",
        "\n",
        "**Examples**\n",
        "\n",
        "missing_num([1, 2, 3, 4, 6, 7, 8, 9, 10]) ➞ 5\n",
        "\n",
        "missing_num([7, 2, 3, 6, 5, 9, 1, 4, 8]) ➞ 10\n",
        "\n",
        "missing_num([10, 5, 1, 2, 4, 6, 8, 3, 9]) ➞ 7\n"
      ],
      "metadata": {
        "id": "APN32_VnJOHD"
      }
    },
    {
      "cell_type": "code",
      "source": [
        "## Final Result\n",
        "\n",
        "def missing(list) :\n",
        "\n",
        "  l = [1,2,3,4,5,6,7,8,9,10]\n",
        "\n",
        "  #list = [10, 5, 1, 2, 4, 6, 8, 3, 9]\n",
        "\n",
        "  for i in l:\n",
        "\n",
        "    if i not in list :\n",
        "\n",
        "      print(f\"missing_num({list}) ➞\", end=  \"  \")\n",
        "\n",
        "      print(i)\n"
      ],
      "metadata": {
        "id": "YZiRMFjeKNkI"
      },
      "execution_count": 13,
      "outputs": []
    },
    {
      "cell_type": "code",
      "source": [
        "missing([1, 2, 3, 4, 6, 7, 8, 9, 10])"
      ],
      "metadata": {
        "colab": {
          "base_uri": "https://localhost:8080/"
        },
        "id": "6trs3HPeeh1e",
        "outputId": "bc2eae60-6285-4730-9c6e-faf6b7639183"
      },
      "execution_count": 14,
      "outputs": [
        {
          "output_type": "stream",
          "name": "stdout",
          "text": [
            "missing_num([1, 2, 3, 4, 6, 7, 8, 9, 10]) ➞  5\n"
          ]
        }
      ]
    },
    {
      "cell_type": "code",
      "source": [
        "missing([7, 2, 3, 6, 5, 9, 1, 4, 8])"
      ],
      "metadata": {
        "colab": {
          "base_uri": "https://localhost:8080/"
        },
        "id": "h3MAQLB3eh6o",
        "outputId": "b5884e11-505f-4dcd-8b14-14ea87776162"
      },
      "execution_count": 15,
      "outputs": [
        {
          "output_type": "stream",
          "name": "stdout",
          "text": [
            "missing_num([7, 2, 3, 6, 5, 9, 1, 4, 8]) ➞  10\n"
          ]
        }
      ]
    },
    {
      "cell_type": "code",
      "source": [
        "missing([10, 5, 1, 2, 4, 6, 8, 3, 9])"
      ],
      "metadata": {
        "colab": {
          "base_uri": "https://localhost:8080/"
        },
        "id": "c7GMoemzeiKw",
        "outputId": "d33f1ba1-9feb-4901-e236-5ba7f105233d"
      },
      "execution_count": 16,
      "outputs": [
        {
          "output_type": "stream",
          "name": "stdout",
          "text": [
            "missing_num([10, 5, 1, 2, 4, 6, 8, 3, 9]) ➞  7\n"
          ]
        }
      ]
    },
    {
      "cell_type": "markdown",
      "source": [
        "**##########################################################################################################**"
      ],
      "metadata": {
        "id": "izvDPDAyKvhq"
      }
    }
  ]
}