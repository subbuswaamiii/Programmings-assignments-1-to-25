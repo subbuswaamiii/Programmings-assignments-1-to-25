{
  "nbformat": 4,
  "nbformat_minor": 0,
  "metadata": {
    "colab": {
      "provenance": []
    },
    "kernelspec": {
      "name": "python3",
      "display_name": "Python 3"
    },
    "language_info": {
      "name": "python"
    }
  },
  "cells": [
    {
      "cell_type": "code",
      "execution_count": null,
      "metadata": {
        "id": "ydE_oDnUBWyX"
      },
      "outputs": [],
      "source": []
    },
    {
      "cell_type": "markdown",
      "source": [
        "**Question 1 -Write a Python program to check if the given number is a Disarium Number?**\n",
        "\n",
        "\n",
        "**Answer 1 -**"
      ],
      "metadata": {
        "id": "mZRUiWLeBfdB"
      }
    },
    {
      "cell_type": "code",
      "source": [
        "def disarium(num):\n",
        "    temp = 0\n",
        "    for i in range(len(str(num))):\n",
        "        temp += int(str(num)[i]) ** (i + 1)\n",
        "    return temp == num\n",
        "\n",
        "num = 25\n",
        "print(\"\\nIs\",num,\"is Disarium number?\",disarium(num))\n",
        "num = 89\n",
        "print(\"\\nIs\",num,\"is Disarium number?\",disarium(num))\n",
        "num = 75\n",
        "print(\"\\nIs\",num,\"is Disarium number?\",disarium(num))\n",
        "num = 125\n",
        "print(\"\\nIs\",num,\"is Disarium number?\",disarium(num)) \n",
        "num = 518\n",
        "print(\"\\nIs\",num,\"is Disarium number?\",disarium(num))\n",
        "num = 135\n",
        "print(\"\\nIs\",num,\"is Disarium number?\",disarium(num))"
      ],
      "metadata": {
        "colab": {
          "base_uri": "https://localhost:8080/"
        },
        "id": "cnhOEqymBeoM",
        "outputId": "f35db230-497a-477b-bd8f-f9e8083c560e"
      },
      "execution_count": 1,
      "outputs": [
        {
          "output_type": "stream",
          "name": "stdout",
          "text": [
            "\n",
            "Is 25 is Disarium number? False\n",
            "\n",
            "Is 89 is Disarium number? True\n",
            "\n",
            "Is 75 is Disarium number? False\n",
            "\n",
            "Is 125 is Disarium number? False\n",
            "\n",
            "Is 518 is Disarium number? True\n",
            "\n",
            "Is 135 is Disarium number? True\n"
          ]
        }
      ]
    },
    {
      "cell_type": "markdown",
      "source": [
        "**##########################################################################################################**"
      ],
      "metadata": {
        "id": "qub0OK3IBgV6"
      }
    },
    {
      "cell_type": "markdown",
      "source": [
        "**Question 2 -Write a Python program to print all disarium numbers between 1 to 100?**\n",
        "\n",
        "\n",
        "**Answer 2 -**"
      ],
      "metadata": {
        "id": "MOUP-VDlBhS_"
      }
    },
    {
      "cell_type": "code",
      "source": [
        "def calculateLength(n):    \n",
        "    length = 0;    \n",
        "    while(n != 0):    \n",
        "        length = length + 1;    \n",
        "        n = n//10;    \n",
        "    return length;    \n",
        "     \n",
        "#sumOfDigits() will calculates the sum of digits powered with their respective position    \n",
        "def sumOfDigits(num):    \n",
        "    rem = sum = 0;    \n",
        "    len = calculateLength(num);    \n",
        "        \n",
        "    while(num > 0):    \n",
        "        rem = num%10;    \n",
        "        sum = sum + (rem**len);    \n",
        "        num = num//10;    \n",
        "        len = len - 1;    \n",
        "    return sum;    \n",
        "      \n",
        "result = 0;    \n",
        "     \n",
        "#Displays all disarium numbers between 1 and 100    \n",
        "print(\"Disarium numbers between 1 and 100 are\");    \n",
        "for i in range(1, 101):    \n",
        "    result = sumOfDigits(i);    \n",
        "        \n",
        "    if(result == i):    \n",
        "        print(i),    "
      ],
      "metadata": {
        "colab": {
          "base_uri": "https://localhost:8080/"
        },
        "id": "_l8F0QmBBerX",
        "outputId": "6b62d55c-0add-411f-fb18-2abfb270222b"
      },
      "execution_count": 2,
      "outputs": [
        {
          "output_type": "stream",
          "name": "stdout",
          "text": [
            "Disarium numbers between 1 and 100 are\n",
            "1\n",
            "2\n",
            "3\n",
            "4\n",
            "5\n",
            "6\n",
            "7\n",
            "8\n",
            "9\n",
            "89\n"
          ]
        }
      ]
    },
    {
      "cell_type": "markdown",
      "source": [
        "**##########################################################################################################**"
      ],
      "metadata": {
        "id": "u1VYkKJRBh4t"
      }
    },
    {
      "cell_type": "markdown",
      "source": [
        "**Question 3 -Write a Python program to check if the given number is Happy Number?**\n",
        "\n",
        "\n",
        "**Answer 3 -**"
      ],
      "metadata": {
        "id": "jtZfGHiPBihM"
      }
    },
    {
      "cell_type": "code",
      "source": [
        "def Happy_num(n):\n",
        "  past = set()\n",
        "  while n != 1:\n",
        "        n = sum(int(i)**2 for i in str(n))\n",
        "        if n in past:\n",
        "            return False\n",
        "        past.add(n)\n",
        "  return True\n",
        "print(Happy_num(7))\n",
        "print(Happy_num(932))\n",
        "print(Happy_num(6))\n",
        "print(Happy_num(13))"
      ],
      "metadata": {
        "colab": {
          "base_uri": "https://localhost:8080/"
        },
        "id": "ouTMxGf3Beuc",
        "outputId": "a59b2fa8-2902-44df-af0d-6ef200231f5b"
      },
      "execution_count": 3,
      "outputs": [
        {
          "output_type": "stream",
          "name": "stdout",
          "text": [
            "True\n",
            "True\n",
            "False\n",
            "True\n"
          ]
        }
      ]
    },
    {
      "cell_type": "markdown",
      "source": [
        "**##########################################################################################################**"
      ],
      "metadata": {
        "id": "Hb23MXq7BjFm"
      }
    },
    {
      "cell_type": "markdown",
      "source": [
        "**Question 4 -Write a Python program to print all happy numbers between 1 and 100?**\n",
        "\n",
        "\n",
        "**Answer 4 -**"
      ],
      "metadata": {
        "id": "_TvgFSRGBkVp"
      }
    },
    {
      "cell_type": "code",
      "source": [
        "def HappyNumbers(num):    \n",
        "    rem = sum = 0;    \n",
        "        \n",
        "    #Calculates the sum of squares of digits    \n",
        "    while(num > 0):    \n",
        "        rem = num%10;    \n",
        "        sum = sum + (rem*rem);    \n",
        "        num = num//10;    \n",
        "    return sum;    \n",
        "            \n",
        "#Displays all happy numbers between 1 and 100    \n",
        "print(\"List of happy numbers between 1 and 100: \");    \n",
        "for i in range(1, 101):    \n",
        "    result = i;    \n",
        "        \n",
        "    #Happy number always ends with 1 and     \n",
        "    #unhappy number ends in a cycle of repeating numbers which contains 4    \n",
        "    while(result != 1 and result != 4):    \n",
        "        result = HappyNumbers(result);    \n",
        "        \n",
        "    if(result == 1):    \n",
        "        print(i),    \n",
        "        print(\" \"),  "
      ],
      "metadata": {
        "colab": {
          "base_uri": "https://localhost:8080/"
        },
        "id": "l1zjUDpbBewv",
        "outputId": "e8cbc5aa-cc30-4595-fe00-42f59811b258"
      },
      "execution_count": 4,
      "outputs": [
        {
          "output_type": "stream",
          "name": "stdout",
          "text": [
            "List of happy numbers between 1 and 100: \n",
            "1\n",
            " \n",
            "7\n",
            " \n",
            "10\n",
            " \n",
            "13\n",
            " \n",
            "19\n",
            " \n",
            "23\n",
            " \n",
            "28\n",
            " \n",
            "31\n",
            " \n",
            "32\n",
            " \n",
            "44\n",
            " \n",
            "49\n",
            " \n",
            "68\n",
            " \n",
            "70\n",
            " \n",
            "79\n",
            " \n",
            "82\n",
            " \n",
            "86\n",
            " \n",
            "91\n",
            " \n",
            "94\n",
            " \n",
            "97\n",
            " \n",
            "100\n",
            " \n"
          ]
        }
      ]
    },
    {
      "cell_type": "markdown",
      "source": [
        "**##########################################################################################################**"
      ],
      "metadata": {
        "id": "gaYrMHxyBk4e"
      }
    },
    {
      "cell_type": "markdown",
      "source": [
        "**Question 5 -Write a Python program to determine whether the given number is a Harshad Number?**\n",
        "\n",
        "\n",
        "**Answer 5 -**"
      ],
      "metadata": {
        "id": "xmdHngpgBlT9"
      }
    },
    {
      "cell_type": "code",
      "source": [
        "n = 21\n",
        "p=n\n",
        "sum1=0\n",
        "while(n>0):\n",
        "    sum1+=n%10\n",
        "    n=n//10\n",
        "if(p%sum1==0):\n",
        "    print(\"Harshad number\")\n",
        "else:\n",
        "    print(\"Not harshad number\")"
      ],
      "metadata": {
        "colab": {
          "base_uri": "https://localhost:8080/"
        },
        "id": "y09p8UvDBez6",
        "outputId": "42ce8958-8b7a-4d64-fe02-549ff12e91e0"
      },
      "execution_count": 5,
      "outputs": [
        {
          "output_type": "stream",
          "name": "stdout",
          "text": [
            "Harshad number\n"
          ]
        }
      ]
    },
    {
      "cell_type": "markdown",
      "source": [
        "**##########################################################################################################**"
      ],
      "metadata": {
        "id": "g_5cZNEnBmTP"
      }
    },
    {
      "cell_type": "markdown",
      "source": [
        "**Question 6 -Write a Python program to print all pronic numbers between 1 and 100?**\n",
        "\n",
        "**Answer 6 -**"
      ],
      "metadata": {
        "id": "ELCOkIx2CVW_"
      }
    },
    {
      "cell_type": "code",
      "source": [
        "import math\n",
        "def allPronicNumbers (x) :\n",
        "\n",
        "\ti = 0\n",
        "\twhile ( i <= (int)(math.sqrt(x)) ) :\n",
        "\t\t\t\n",
        "\t\tif ( x == i * (i + 1)) :\n",
        "\t\t\treturn True\n",
        "\t\ti = i + 1\n",
        "\n",
        "\treturn False\n",
        "\n",
        "i = 1\n",
        "while (i <= 100 ) :\n",
        "\tif allPronicNumbers(i) :\n",
        "\t\tprint(i,end=\" \")\n",
        "\ti = i + 1"
      ],
      "metadata": {
        "colab": {
          "base_uri": "https://localhost:8080/"
        },
        "id": "csxBtlVMBe48",
        "outputId": "ee17e254-59a6-47b0-ffa0-ff9d4042ab5f"
      },
      "execution_count": 7,
      "outputs": [
        {
          "output_type": "stream",
          "name": "stdout",
          "text": [
            "2 6 12 20 30 42 56 72 90 "
          ]
        }
      ]
    },
    {
      "cell_type": "markdown",
      "source": [
        "**##########################################################################################################**"
      ],
      "metadata": {
        "id": "6Z8ZFdmgWKY5"
      }
    },
    {
      "cell_type": "code",
      "source": [],
      "metadata": {
        "id": "Hp5FUQGbBe-1"
      },
      "execution_count": null,
      "outputs": []
    },
    {
      "cell_type": "code",
      "source": [],
      "metadata": {
        "id": "nbNb0WL6BfBo"
      },
      "execution_count": null,
      "outputs": []
    }
  ]
}