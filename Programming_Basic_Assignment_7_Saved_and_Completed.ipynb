{
  "nbformat": 4,
  "nbformat_minor": 0,
  "metadata": {
    "colab": {
      "provenance": []
    },
    "kernelspec": {
      "name": "python3",
      "display_name": "Python 3"
    },
    "language_info": {
      "name": "python"
    }
  },
  "cells": [
    {
      "cell_type": "code",
      "execution_count": null,
      "metadata": {
        "id": "V6XZXrUYlTQ1"
      },
      "outputs": [],
      "source": []
    },
    {
      "cell_type": "markdown",
      "source": [
        "**Question 1 -Write a Python Program to find sum of array?**\n",
        "\n",
        "\n",
        "**Answer 1 -**"
      ],
      "metadata": {
        "id": "vCFa36lBlhJg"
      }
    },
    {
      "cell_type": "code",
      "source": [
        "arr = [10, 20, 30, 40]\n",
        "print(sum(arr))"
      ],
      "metadata": {
        "colab": {
          "base_uri": "https://localhost:8080/"
        },
        "id": "-xyZgRVhlhwP",
        "outputId": "09af7536-df87-425d-86ad-451986ab1bf3"
      },
      "execution_count": 1,
      "outputs": [
        {
          "output_type": "stream",
          "name": "stdout",
          "text": [
            "100\n"
          ]
        }
      ]
    },
    {
      "cell_type": "markdown",
      "source": [
        "**##########################################################################################################**"
      ],
      "metadata": {
        "id": "-cZDNwK-lj2I"
      }
    },
    {
      "cell_type": "markdown",
      "source": [
        "**Question 2 -Write a Python Program to find largest element in an array?**\n",
        "\n",
        "\n",
        "**Answer 2 -**"
      ],
      "metadata": {
        "id": "og6cq7volln7"
      }
    },
    {
      "cell_type": "code",
      "source": [
        "arr = [10, 89, 9, 56, 4, 80, 8]\n",
        "print (max(arr))"
      ],
      "metadata": {
        "colab": {
          "base_uri": "https://localhost:8080/"
        },
        "id": "Zata1SABlh4X",
        "outputId": "d1a77eaa-2fa3-4c7b-d001-5161ff20fd37"
      },
      "execution_count": 2,
      "outputs": [
        {
          "output_type": "stream",
          "name": "stdout",
          "text": [
            "89\n"
          ]
        }
      ]
    },
    {
      "cell_type": "markdown",
      "source": [
        "**##########################################################################################################**"
      ],
      "metadata": {
        "id": "GZfoIIXhlmTQ"
      }
    },
    {
      "cell_type": "markdown",
      "source": [
        "**Question 3 -Write a Python Program for array rotation?**\n",
        "\n",
        "\n",
        "**Answer 3 -**"
      ],
      "metadata": {
        "id": "XeVQjsrllnAR"
      }
    },
    {
      "cell_type": "code",
      "source": [
        "def rotateArray(arr, n, d):\n",
        "\ttemp = []\n",
        "\ti = 0\n",
        "\twhile (i < d):\n",
        "\t\ttemp.append(arr[i])\n",
        "\t\ti = i + 1\n",
        "\ti = 0\n",
        "\twhile (d < n):\n",
        "\t\tarr[i] = arr[d]\n",
        "\t\ti = i + 1\n",
        "\t\td = d + 1\n",
        "\tarr[:] = arr[: i] + temp\n",
        "\treturn arr\n",
        "\n",
        "\n",
        "# Driver function to test above function\n",
        "arr = [1, 2, 3, 4, 5, 6, 7, 8, 9, 10]\n",
        "print(\"Array after left rotation is: \", end=' ')\n",
        "print(rotateArray(arr, len(arr), 2))"
      ],
      "metadata": {
        "colab": {
          "base_uri": "https://localhost:8080/"
        },
        "id": "EovQr28mlh_B",
        "outputId": "e6c233c3-f292-4ec8-d708-4c4cce318f6f"
      },
      "execution_count": 3,
      "outputs": [
        {
          "output_type": "stream",
          "name": "stdout",
          "text": [
            "Array after left rotation is:  [3, 4, 5, 6, 7, 1, 2]\n"
          ]
        }
      ]
    },
    {
      "cell_type": "markdown",
      "source": [
        "**##########################################################################################################**"
      ],
      "metadata": {
        "id": "AZUmbWo8loTB"
      }
    },
    {
      "cell_type": "markdown",
      "source": [
        "**Question 4 -Write a Python Program to Split the array and add the first part to the end?**\n",
        "\n",
        "\n",
        "**Answer 4 -**"
      ],
      "metadata": {
        "id": "HaWFwTZClpGm"
      }
    },
    {
      "cell_type": "code",
      "source": [
        "arr = [1, 2, 3, 4, 5, 6, 7, 8, 9, 10]\n",
        "n = len(arr)\n",
        "position = 2\n",
        "x = arr[:position]\n",
        "y = arr[position:]\n",
        "y.extend(x)\n",
        "for i in y:\n",
        "\tprint(i, end=\" \")"
      ],
      "metadata": {
        "colab": {
          "base_uri": "https://localhost:8080/"
        },
        "id": "pgLCxJYIliCH",
        "outputId": "a3dbf670-e81e-409a-8b32-448dafd1ba62"
      },
      "execution_count": 4,
      "outputs": [
        {
          "output_type": "stream",
          "name": "stdout",
          "text": [
            "3 4 5 6 7 8 9 10 1 2 "
          ]
        }
      ]
    },
    {
      "cell_type": "markdown",
      "source": [
        "**##########################################################################################################**"
      ],
      "metadata": {
        "id": "yE6lmWr6lp0i"
      }
    },
    {
      "cell_type": "markdown",
      "source": [
        "**Question 5 -Write a Python Program to check if given array is Monotonic?**\n",
        "\n",
        "\n",
        "**Answer 5 -**"
      ],
      "metadata": {
        "id": "xBzTVbpPlrfk"
      }
    },
    {
      "cell_type": "code",
      "source": [
        "def array_Monotonic(A):\n",
        "\tx, y = [], []\n",
        "\tx.extend(A)\n",
        "\ty.extend(A)\n",
        "\tx.sort()\n",
        "\ty.sort(reverse=True)\n",
        "\tif(x == A or y == A):\n",
        "\t\treturn True\n",
        "\treturn False\n",
        "\n",
        "\n",
        "# Driver program\n",
        "A = [ 4,5,6,7]\n",
        "\n",
        "# Print required result\n",
        "print(array_Monotonic(A))"
      ],
      "metadata": {
        "colab": {
          "base_uri": "https://localhost:8080/"
        },
        "id": "KfjWdI3kliFB",
        "outputId": "4044078e-9e90-40cc-b955-7ddb0a3b46a9"
      },
      "execution_count": 5,
      "outputs": [
        {
          "output_type": "stream",
          "name": "stdout",
          "text": [
            "True\n"
          ]
        }
      ]
    },
    {
      "cell_type": "markdown",
      "source": [
        "**##########################################################################################################**"
      ],
      "metadata": {
        "id": "ciy5IxuqlsEb"
      }
    },
    {
      "cell_type": "markdown",
      "source": [],
      "metadata": {
        "id": "jy4cToDbltSb"
      }
    },
    {
      "cell_type": "code",
      "source": [],
      "metadata": {
        "id": "q2h7B6TFliLc"
      },
      "execution_count": null,
      "outputs": []
    },
    {
      "cell_type": "markdown",
      "source": [
        "**##########################################################################################################**"
      ],
      "metadata": {
        "id": "MrtYXVazluQ6"
      }
    },
    {
      "cell_type": "markdown",
      "source": [],
      "metadata": {
        "id": "l3wGkliFlv5T"
      }
    },
    {
      "cell_type": "code",
      "source": [],
      "metadata": {
        "id": "Jqt30SnlliPG"
      },
      "execution_count": null,
      "outputs": []
    },
    {
      "cell_type": "markdown",
      "source": [
        "**##########################################################################################################**"
      ],
      "metadata": {
        "id": "jWhDFVl-lwpJ"
      }
    }
  ]
}