{
  "nbformat": 4,
  "nbformat_minor": 0,
  "metadata": {
    "colab": {
      "provenance": []
    },
    "kernelspec": {
      "name": "python3",
      "display_name": "Python 3"
    },
    "language_info": {
      "name": "python"
    }
  },
  "cells": [
    {
      "cell_type": "code",
      "execution_count": null,
      "metadata": {
        "id": "x-MwOkstU1jd"
      },
      "outputs": [],
      "source": []
    },
    {
      "cell_type": "markdown",
      "source": [
        "\n",
        "**Question 1 -Define a class with a generator which can iterate the numbers, which are divisible by 7, between a given range 0 and n**\n",
        "\n",
        "\n",
        "**Answer 1 -**"
      ],
      "metadata": {
        "id": "ef_Ks2QCVDP0"
      }
    },
    {
      "cell_type": "code",
      "source": [
        "## Final Result\n",
        "\n",
        "class ABC :\n",
        "  def generator(self):\n",
        "    for i in range(75):\n",
        "      if (i%7 == 0):\n",
        "        yield i\n",
        "obj= ABC()\n",
        "obj.generator()"
      ],
      "metadata": {
        "colab": {
          "base_uri": "https://localhost:8080/"
        },
        "id": "-4C_VG-2ceUw",
        "outputId": "fe8481f9-7996-4103-eb1f-85e125179e1d"
      },
      "execution_count": null,
      "outputs": [
        {
          "output_type": "execute_result",
          "data": {
            "text/plain": [
              "<generator object ABC.generator at 0x7f6182b199e0>"
            ]
          },
          "metadata": {},
          "execution_count": 4
        }
      ]
    },
    {
      "cell_type": "code",
      "source": [
        "a = obj.generator()\n",
        "print(a)"
      ],
      "metadata": {
        "colab": {
          "base_uri": "https://localhost:8080/"
        },
        "id": "FEO9LWXncheH",
        "outputId": "eaf7bcdd-02c3-425a-ea28-7a7c0031756d"
      },
      "execution_count": null,
      "outputs": [
        {
          "output_type": "stream",
          "name": "stdout",
          "text": [
            "<generator object ABC.generator at 0x7f6182b19ac0>\n"
          ]
        }
      ]
    },
    {
      "cell_type": "code",
      "source": [
        "next(a)"
      ],
      "metadata": {
        "colab": {
          "base_uri": "https://localhost:8080/"
        },
        "id": "wZt-ISfychhc",
        "outputId": "2fe77323-cdb6-43a1-bc4e-caf4fdf3e3dd"
      },
      "execution_count": null,
      "outputs": [
        {
          "output_type": "execute_result",
          "data": {
            "text/plain": [
              "0"
            ]
          },
          "metadata": {},
          "execution_count": 6
        }
      ]
    },
    {
      "cell_type": "code",
      "source": [
        "next(a)"
      ],
      "metadata": {
        "colab": {
          "base_uri": "https://localhost:8080/"
        },
        "id": "ODmGDpl9dwmR",
        "outputId": "702dd074-b1e6-4ce2-a355-1b36b5b9ab73"
      },
      "execution_count": null,
      "outputs": [
        {
          "output_type": "execute_result",
          "data": {
            "text/plain": [
              "7"
            ]
          },
          "metadata": {},
          "execution_count": 7
        }
      ]
    },
    {
      "cell_type": "code",
      "source": [
        "next(a)"
      ],
      "metadata": {
        "colab": {
          "base_uri": "https://localhost:8080/"
        },
        "id": "2VlWvR7KdwqV",
        "outputId": "e8afbe2d-9b4e-4dc9-f42c-6f92b765b06f"
      },
      "execution_count": null,
      "outputs": [
        {
          "output_type": "execute_result",
          "data": {
            "text/plain": [
              "14"
            ]
          },
          "metadata": {},
          "execution_count": 8
        }
      ]
    },
    {
      "cell_type": "code",
      "source": [
        "next(a)"
      ],
      "metadata": {
        "colab": {
          "base_uri": "https://localhost:8080/"
        },
        "id": "FmEFpBIjdwtu",
        "outputId": "f21473ce-a386-4854-e244-21b49f5614d8"
      },
      "execution_count": null,
      "outputs": [
        {
          "output_type": "execute_result",
          "data": {
            "text/plain": [
              "21"
            ]
          },
          "metadata": {},
          "execution_count": 9
        }
      ]
    },
    {
      "cell_type": "code",
      "source": [
        "next(a)"
      ],
      "metadata": {
        "colab": {
          "base_uri": "https://localhost:8080/"
        },
        "id": "ls5MHTJfdwwx",
        "outputId": "f6e72aaf-3826-44a4-b8a5-444a3257a5f5"
      },
      "execution_count": null,
      "outputs": [
        {
          "output_type": "execute_result",
          "data": {
            "text/plain": [
              "28"
            ]
          },
          "metadata": {},
          "execution_count": 10
        }
      ]
    },
    {
      "cell_type": "code",
      "source": [
        "next(a)"
      ],
      "metadata": {
        "colab": {
          "base_uri": "https://localhost:8080/"
        },
        "id": "jEmIA3Hsdwz2",
        "outputId": "1a1ff4f2-91fc-42a8-a658-be55f735c00c"
      },
      "execution_count": null,
      "outputs": [
        {
          "output_type": "execute_result",
          "data": {
            "text/plain": [
              "35"
            ]
          },
          "metadata": {},
          "execution_count": 11
        }
      ]
    },
    {
      "cell_type": "code",
      "source": [
        "next(a)"
      ],
      "metadata": {
        "colab": {
          "base_uri": "https://localhost:8080/"
        },
        "id": "AT27BE76dw27",
        "outputId": "172b2ff5-99c6-4208-8909-37e07733a6e5"
      },
      "execution_count": null,
      "outputs": [
        {
          "output_type": "execute_result",
          "data": {
            "text/plain": [
              "42"
            ]
          },
          "metadata": {},
          "execution_count": 12
        }
      ]
    },
    {
      "cell_type": "code",
      "source": [
        "next(a)"
      ],
      "metadata": {
        "colab": {
          "base_uri": "https://localhost:8080/"
        },
        "id": "xTHtUIx_dw6a",
        "outputId": "ddfc094e-b5e6-44a2-dab2-3c20fa2a8bee"
      },
      "execution_count": null,
      "outputs": [
        {
          "output_type": "execute_result",
          "data": {
            "text/plain": [
              "49"
            ]
          },
          "metadata": {},
          "execution_count": 13
        }
      ]
    },
    {
      "cell_type": "code",
      "source": [
        "next(a)"
      ],
      "metadata": {
        "colab": {
          "base_uri": "https://localhost:8080/"
        },
        "id": "qsNXLpOAdw9V",
        "outputId": "680603c7-9653-4dd4-b467-5f1fd3421f5e"
      },
      "execution_count": null,
      "outputs": [
        {
          "output_type": "execute_result",
          "data": {
            "text/plain": [
              "56"
            ]
          },
          "metadata": {},
          "execution_count": 14
        }
      ]
    },
    {
      "cell_type": "code",
      "source": [
        "next(a)"
      ],
      "metadata": {
        "colab": {
          "base_uri": "https://localhost:8080/"
        },
        "id": "1VXk6L5MdxBg",
        "outputId": "0312566c-ebd1-4691-ea17-578c183a9aea"
      },
      "execution_count": null,
      "outputs": [
        {
          "output_type": "execute_result",
          "data": {
            "text/plain": [
              "63"
            ]
          },
          "metadata": {},
          "execution_count": 15
        }
      ]
    },
    {
      "cell_type": "code",
      "source": [
        "next(a)"
      ],
      "metadata": {
        "colab": {
          "base_uri": "https://localhost:8080/"
        },
        "id": "62PD8sXvdz1u",
        "outputId": "046b653a-2539-48a7-b596-78c6395d4783"
      },
      "execution_count": null,
      "outputs": [
        {
          "output_type": "execute_result",
          "data": {
            "text/plain": [
              "70"
            ]
          },
          "metadata": {},
          "execution_count": 16
        }
      ]
    },
    {
      "cell_type": "code",
      "source": [
        "next(a)"
      ],
      "metadata": {
        "colab": {
          "base_uri": "https://localhost:8080/",
          "height": 165
        },
        "id": "mJVzgG66d7T-",
        "outputId": "51985308-6d91-4b97-b5a4-6bf7a8c6a1be"
      },
      "execution_count": null,
      "outputs": [
        {
          "output_type": "error",
          "ename": "StopIteration",
          "evalue": "ignored",
          "traceback": [
            "\u001b[0;31m---------------------------------------------------------------------------\u001b[0m",
            "\u001b[0;31mStopIteration\u001b[0m                             Traceback (most recent call last)",
            "\u001b[0;32m<ipython-input-17-15841f3f11d4>\u001b[0m in \u001b[0;36m<module>\u001b[0;34m\u001b[0m\n\u001b[0;32m----> 1\u001b[0;31m \u001b[0mnext\u001b[0m\u001b[0;34m(\u001b[0m\u001b[0ma\u001b[0m\u001b[0;34m)\u001b[0m\u001b[0;34m\u001b[0m\u001b[0;34m\u001b[0m\u001b[0m\n\u001b[0m",
            "\u001b[0;31mStopIteration\u001b[0m: "
          ]
        }
      ]
    },
    {
      "cell_type": "markdown",
      "source": [
        "**##########################################################################################################**"
      ],
      "metadata": {
        "id": "tja5tnehVDVR"
      }
    },
    {
      "cell_type": "markdown",
      "source": [
        "\n",
        "**Question 2 -Write a program to compute the frequency of the words from the input. The output should output after sorting the key alphanumerically.** \n",
        "\n",
        "Suppose the following input is supplied to the program:\n",
        "\n",
        "New to Python or choosing between Python 2 and Python 3? Read Python 2 or Python 3.\n",
        "\n",
        "Then, the output should be:\n",
        "\n",
        "2:2\n",
        "\n",
        "3.:1\n",
        "\n",
        "3?:1\n",
        "\n",
        "New:1\n",
        "\n",
        "Python:5\n",
        "\n",
        "Read:1\n",
        "\n",
        "and:1\n",
        "\n",
        "between:1\n",
        "\n",
        "choosing:1\n",
        "\n",
        "or:2\n",
        "\n",
        "to:1\n",
        "\n",
        "\n",
        "\n",
        "**Answer 2 -**"
      ],
      "metadata": {
        "id": "k9086y76VDbQ"
      }
    },
    {
      "cell_type": "code",
      "source": [
        "## Final Result \n",
        "\n",
        "\n",
        "str ='New to Python or choosing between Python 2 and Python 3? Read Python 2 or Python 3'\n",
        "list1 = str.split(\" \")\n",
        "for i in range(len(list1)):\n",
        "  print(list1[i] ,\":\", list1.count(list1[i]))"
      ],
      "metadata": {
        "colab": {
          "base_uri": "https://localhost:8080/"
        },
        "id": "pabJ4gykjTzK",
        "outputId": "4df0f8e2-3d0c-474f-b2b3-48c81ddd01e8"
      },
      "execution_count": null,
      "outputs": [
        {
          "output_type": "stream",
          "name": "stdout",
          "text": [
            "New : 1\n",
            "to : 1\n",
            "Python : 5\n",
            "or : 2\n",
            "choosing : 1\n",
            "between : 1\n",
            "Python : 5\n",
            "2 : 2\n",
            "and : 1\n",
            "Python : 5\n",
            "3? : 1\n",
            "Read : 1\n",
            "Python : 5\n",
            "2 : 2\n",
            "or : 2\n",
            "Python : 5\n",
            "3 : 1\n"
          ]
        }
      ]
    },
    {
      "cell_type": "markdown",
      "source": [
        "**##########################################################################################################**"
      ],
      "metadata": {
        "id": "IsO4ZSM-VDgR"
      }
    },
    {
      "cell_type": "markdown",
      "source": [
        "**Question 3 -Define a class Person and its two child classes: Male and Female. All classes have a method \"getGender\" which can print \"Male\" for Male class and \"Female\" for Female class.**\n",
        "\n",
        "\n",
        "**Answer 3 -**"
      ],
      "metadata": {
        "id": "Zx8DvBITVDmA"
      }
    },
    {
      "cell_type": "markdown",
      "source": [
        "**##########################################################################################################**"
      ],
      "metadata": {
        "id": "f07m7nrzVDqj"
      }
    },
    {
      "cell_type": "markdown",
      "source": [
        "**Question 4 -Please write a program to generate all sentences where subject is in [\"I\", \"You\"] and verb is in [\"Play\", \"Love\"] and the object is in [\"Hockey\",\"Football\"].**\n",
        "\n",
        "\n",
        "**Answer 4 -**"
      ],
      "metadata": {
        "id": "2NTU1PUPVDwK"
      }
    },
    {
      "cell_type": "code",
      "source": [
        "## final Result\n",
        "subject = [\"I\", \"You\"] \n",
        "verb = [\"Play\", \"Love\"] \n",
        "object =  [\"Hockey\",\"Football\"]\n",
        "for i in subject:\n",
        "  \n",
        "  for j in verb:\n",
        "    \n",
        "    for k in object :\n",
        "      print(i,j,k)"
      ],
      "metadata": {
        "colab": {
          "base_uri": "https://localhost:8080/"
        },
        "id": "lvEVI_Fdxo3l",
        "outputId": "6054aa15-97e6-40e5-b54a-010e3b97f47a"
      },
      "execution_count": null,
      "outputs": [
        {
          "output_type": "stream",
          "name": "stdout",
          "text": [
            "I Play Hockey\n",
            "I Play Football\n",
            "I Love Hockey\n",
            "I Love Football\n",
            "You Play Hockey\n",
            "You Play Football\n",
            "You Love Hockey\n",
            "You Love Football\n"
          ]
        }
      ]
    },
    {
      "cell_type": "markdown",
      "source": [
        "**##########################################################################################################**"
      ],
      "metadata": {
        "id": "TE_Ji_WDVD0t"
      }
    },
    {
      "cell_type": "markdown",
      "source": [
        "**Question 5 -Please write a program to compress and decompress the string \"hello world!hello world!hello world!hello world!\".**"
      ],
      "metadata": {
        "id": "sUTWVLXeVD5t"
      }
    },
    {
      "cell_type": "code",
      "source": [
        "## Final Result\n",
        "\n",
        "import gzip\n",
        "s = b'hello world!hello world!hello world!hello world!'\n",
        "s = gzip.compress(s)\n",
        "print(s)\n",
        "# using gzip.decompress(s) method\n",
        "t = gzip.decompress(s)\n",
        "print(t)"
      ],
      "metadata": {
        "colab": {
          "base_uri": "https://localhost:8080/"
        },
        "id": "5uFkcgCj0N3u",
        "outputId": "fc92b600-7348-4597-9771-a6d85d2c9011"
      },
      "execution_count": null,
      "outputs": [
        {
          "output_type": "stream",
          "name": "stdout",
          "text": [
            "b'\\x1f\\x8b\\x08\\x00^\\xb0\\x94c\\x02\\xff\\xcbH\\xcd\\xc9\\xc9W(\\xcf/\\xcaIQ\\xcc \\x82\\r\\x00\\xd3\\xe6\\xcf\\xae0\\x00\\x00\\x00'\n",
            "b'hello world!hello world!hello world!hello world!'\n"
          ]
        }
      ]
    },
    {
      "cell_type": "markdown",
      "source": [
        "**##########################################################################################################**"
      ],
      "metadata": {
        "id": "_Hcx1ob_VD-T"
      }
    },
    {
      "cell_type": "markdown",
      "source": [
        "**Question 6 -Please write a binary search function which searches an item in a sorted list. The function should return the index of element to be searched in the list.**\n",
        "\n",
        "\n",
        "**Answer 6 -**"
      ],
      "metadata": {
        "id": "Lz9ah6DlVEDM"
      }
    },
    {
      "cell_type": "code",
      "source": [
        "# final result \n",
        "\n",
        "\n",
        "\n",
        "def binary_search(list1, element):\n",
        "    lowerrange = 0\n",
        "    upperrange = len(list1)\n",
        "    print('list1 Length:',upperrange)\n",
        "    while lowerrange < upperrange:\n",
        "        x = (lowerrange + upperrange) // 2\n",
        "        print('Middle Value:',x)\n",
        "        value = list1[x]\n",
        "        if element == value:\n",
        "            return x\n",
        "        elif element > value:\n",
        "            lowerrange = x\n",
        "        else:\n",
        "          upperrange = x\n",
        "\n",
        "list1 = [1,100,200,800,500,700,40,0,660,880]\n",
        "print('The Value Found at Index:',binary_search(list1, 880))"
      ],
      "metadata": {
        "colab": {
          "base_uri": "https://localhost:8080/"
        },
        "id": "TZKk6Jzz6mzp",
        "outputId": "20127dd6-624f-4ea9-d62e-5db49c736680"
      },
      "execution_count": 8,
      "outputs": [
        {
          "output_type": "stream",
          "name": "stdout",
          "text": [
            "list1 Length: 10\n",
            "Middle Value: 5\n",
            "Middle Value: 7\n",
            "Middle Value: 8\n",
            "Middle Value: 9\n",
            "The Value Found at Index: 9\n"
          ]
        }
      ]
    },
    {
      "cell_type": "markdown",
      "source": [
        "**##########################################################################################################**"
      ],
      "metadata": {
        "id": "n8ToKniUVEII"
      }
    }
  ]
}