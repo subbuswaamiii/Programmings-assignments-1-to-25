{
  "nbformat": 4,
  "nbformat_minor": 0,
  "metadata": {
    "colab": {
      "provenance": []
    },
    "kernelspec": {
      "name": "python3",
      "display_name": "Python 3"
    },
    "language_info": {
      "name": "python"
    }
  },
  "cells": [
    {
      "cell_type": "code",
      "execution_count": null,
      "metadata": {
        "id": "LRnrvG35M0XJ"
      },
      "outputs": [],
      "source": []
    },
    {
      "cell_type": "markdown",
      "source": [
        "**Question 1 -Write a Python program to find words which are greater than given length k?**\n",
        "\n",
        "\n",
        "**Answer 1 -**"
      ],
      "metadata": {
        "id": "O5ULaFJ6M4sl"
      }
    },
    {
      "cell_type": "code",
      "source": [
        "str = input(\"enter string = \")\n",
        "n = int(input(\"enter the length of word =\"))\n",
        "newlist = []\n",
        "for i in str.split(\" \"):\n",
        "  if len(i)>n:\n",
        "    newlist.append(i)\n",
        "print(newlist)"
      ],
      "metadata": {
        "colab": {
          "base_uri": "https://localhost:8080/"
        },
        "id": "4tw-Yy6yUAFw",
        "outputId": "dd9bc96f-bf1e-40a1-90c1-fcee11877373"
      },
      "execution_count": 10,
      "outputs": [
        {
          "output_type": "stream",
          "name": "stdout",
          "text": [
            "enter string = The quick brown fox jumps over the lazy dog\n",
            "enter the length of word =4\n",
            "['quick', 'brown', 'jumps']\n"
          ]
        }
      ]
    },
    {
      "cell_type": "markdown",
      "source": [
        "**##########################################################################################################**"
      ],
      "metadata": {
        "id": "hEoWmMIeM49M"
      }
    },
    {
      "cell_type": "markdown",
      "source": [
        "**Question 2 -Write a Python program for removing i-th character from a string?**\n",
        "\n",
        "\n",
        "**Answer 2 -**"
      ],
      "metadata": {
        "id": "1tyEgV2cM5E6"
      }
    },
    {
      "cell_type": "code",
      "source": [
        "str = \"python developer\"\n",
        "i = int(input(\"enter i-th index = \"))\n",
        "## I want to remove character o means index 4\n",
        "firstpart = str[:i]\n",
        "secondpart = str[i+1:]\n",
        "firstpart + secondpart"
      ],
      "metadata": {
        "colab": {
          "base_uri": "https://localhost:8080/",
          "height": 53
        },
        "id": "8JdRzl_WZZgL",
        "outputId": "528a8987-eeee-479c-8d0b-edabace6b2cc"
      },
      "execution_count": 17,
      "outputs": [
        {
          "name": "stdout",
          "output_type": "stream",
          "text": [
            "enter i-th index = 4\n"
          ]
        },
        {
          "output_type": "execute_result",
          "data": {
            "text/plain": [
              "'pythn developer'"
            ],
            "application/vnd.google.colaboratory.intrinsic+json": {
              "type": "string"
            }
          },
          "metadata": {},
          "execution_count": 17
        }
      ]
    },
    {
      "cell_type": "markdown",
      "source": [
        "**##########################################################################################################**"
      ],
      "metadata": {
        "id": "q5Bp6wmlM5Lw"
      }
    },
    {
      "cell_type": "markdown",
      "source": [
        "**Question 3 -Write a Python program to split and join a string?**\n",
        "\n",
        "\n",
        "**Answer 3 -**"
      ],
      "metadata": {
        "id": "48JGU4i7M5SN"
      }
    },
    {
      "cell_type": "code",
      "source": [
        "str = \"I am python learner\"\n",
        "splitstr =  str.split(\" \")\n",
        "joinstr = \"+\".join(splitstr)\n",
        "joinstr"
      ],
      "metadata": {
        "colab": {
          "base_uri": "https://localhost:8080/",
          "height": 35
        },
        "id": "gXnqYJ3ba-qg",
        "outputId": "64766f24-a9d0-42ed-b997-58279703723d"
      },
      "execution_count": 18,
      "outputs": [
        {
          "output_type": "execute_result",
          "data": {
            "text/plain": [
              "'I+am+python+learner'"
            ],
            "application/vnd.google.colaboratory.intrinsic+json": {
              "type": "string"
            }
          },
          "metadata": {},
          "execution_count": 18
        }
      ]
    },
    {
      "cell_type": "markdown",
      "source": [
        "**##########################################################################################################**"
      ],
      "metadata": {
        "id": "lMJfRm4qM5Yv"
      }
    },
    {
      "cell_type": "markdown",
      "source": [
        "**Question 4 -Write a Python to check if a given string is binary string or not?**\n",
        "\n",
        "\n",
        "**Answer 4 -**"
      ],
      "metadata": {
        "id": "0jmUHcaqM5fA"
      }
    },
    {
      "cell_type": "code",
      "source": [
        "str = \"I am python learner\"\n",
        "if(str.count('0')+str.count('1')==len(str)):\n",
        "\tprint(f\"Yes, string = {str} = is binary\")\n",
        "else:\n",
        "\tprint(f\"No, string = {str} = is not binary\")"
      ],
      "metadata": {
        "colab": {
          "base_uri": "https://localhost:8080/"
        },
        "id": "xvd0JxvwjRBm",
        "outputId": "375798df-6e83-426a-cae1-0ac346dcc733"
      },
      "execution_count": 21,
      "outputs": [
        {
          "output_type": "stream",
          "name": "stdout",
          "text": [
            "No, string = I am python learner = is not binary\n"
          ]
        }
      ]
    },
    {
      "cell_type": "code",
      "source": [
        "str = \"01010101010\"\n",
        "if(str.count('0')+str.count('1')==len(str)):\n",
        "\tprint(f\"Yes, string = {str} = is binary\")\n",
        "else:\n",
        "\tprint(f\"No, string = {str} = is not binary\")"
      ],
      "metadata": {
        "colab": {
          "base_uri": "https://localhost:8080/"
        },
        "id": "RRW2KiLQjRky",
        "outputId": "4d4dad58-f196-47c5-f1f4-a36ffb73f034"
      },
      "execution_count": 22,
      "outputs": [
        {
          "output_type": "stream",
          "name": "stdout",
          "text": [
            "Yes, string = 01010101010 = is binary\n"
          ]
        }
      ]
    },
    {
      "cell_type": "markdown",
      "source": [
        "**##########################################################################################################**"
      ],
      "metadata": {
        "id": "XQs0YLzhM5lc"
      }
    },
    {
      "cell_type": "markdown",
      "source": [
        "**Question 5 -Write a Python program to find uncommon words from two Strings?**\n",
        "\n",
        "\n",
        "**Answer 5 -**"
      ],
      "metadata": {
        "id": "6JOcD2cLM5r4"
      }
    },
    {
      "cell_type": "code",
      "source": [
        "str1 = \" I am Python Programmer\"\n",
        "str2 = \" I am student learn python\"\n",
        "\n",
        "one  = str1.split(\" \")\n",
        "two = str2.split(\" \")\n",
        "x =[]\n",
        "\n",
        "for i in one:\n",
        "  if i not in two:\n",
        "    x.append(i)\n",
        "for j in two:\n",
        "  if j not in one:\n",
        "    x.append(j)\n",
        "print(x)  \n"
      ],
      "metadata": {
        "colab": {
          "base_uri": "https://localhost:8080/"
        },
        "id": "01X4XM73w2Xc",
        "outputId": "38e0de96-18aa-4683-e1b0-209ab2df5ca6"
      },
      "execution_count": 24,
      "outputs": [
        {
          "output_type": "stream",
          "name": "stdout",
          "text": [
            "['Python', 'Programmer', 'student', 'learn', 'python']\n"
          ]
        }
      ]
    },
    {
      "cell_type": "markdown",
      "source": [
        "**##########################################################################################################**"
      ],
      "metadata": {
        "id": "Q1fTDdpeM5xn"
      }
    },
    {
      "cell_type": "markdown",
      "source": [
        "**Question 6 -Write a Python to find all duplicate characters in string?**\n",
        "\n",
        "\n",
        "**Answer 6 -**"
      ],
      "metadata": {
        "id": "xDSmRW0RM54B"
      }
    },
    {
      "cell_type": "code",
      "source": [
        "str1 = \"I am student learn python\"\n",
        "empty=[]\n",
        "for ch in str1:\n",
        "  if str1.count(ch)>1 and ch not in empty:\n",
        "    empty.append(ch)\n",
        "print(f'The duplicate characters are {empty}')"
      ],
      "metadata": {
        "colab": {
          "base_uri": "https://localhost:8080/"
        },
        "id": "pcaZVMnw0eC7",
        "outputId": "1c61ce64-5299-4f4c-c4eb-b99c78dbd1c4"
      },
      "execution_count": 26,
      "outputs": [
        {
          "output_type": "stream",
          "name": "stdout",
          "text": [
            "The duplicate characters are [' ', 'a', 't', 'e', 'n']\n"
          ]
        }
      ]
    },
    {
      "cell_type": "markdown",
      "source": [
        "**##########################################################################################################**"
      ],
      "metadata": {
        "id": "rK66j6_yPF9o"
      }
    },
    {
      "cell_type": "markdown",
      "source": [
        "**Question 7 -Write a Python Program to check if a string contains any special character?**\n",
        "\n",
        "\n",
        "**Answer 7 -**"
      ],
      "metadata": {
        "id": "T4yyRyA4PGup"
      }
    },
    {
      "cell_type": "code",
      "source": [
        "str=\"python  programmer $%^& ++-+\"\n",
        "str.split()\n",
        "c=0\n",
        "specialcharacters_list='[@_!#$%^&*()<>?/\\|}{~:]'\n",
        "for i in range(len(str)):\n",
        "    \n",
        "    if str[i] in specialcharacters_list:\n",
        "      c= c + 1   \n",
        "   \n",
        "if c:\n",
        "    print(\"special characters are present in string\")\n",
        "else:\n",
        "    print(\"special characters are not present in string\")"
      ],
      "metadata": {
        "colab": {
          "base_uri": "https://localhost:8080/"
        },
        "id": "1ebi83kM59Cc",
        "outputId": "34fec86d-c272-4db6-ce38-cc2dbcdd5280"
      },
      "execution_count": 27,
      "outputs": [
        {
          "output_type": "stream",
          "name": "stdout",
          "text": [
            "special characters are present in string\n"
          ]
        }
      ]
    },
    {
      "cell_type": "markdown",
      "source": [
        "**##########################################################################################################**"
      ],
      "metadata": {
        "id": "SJqDlC5ZM5-I"
      }
    }
  ]
}