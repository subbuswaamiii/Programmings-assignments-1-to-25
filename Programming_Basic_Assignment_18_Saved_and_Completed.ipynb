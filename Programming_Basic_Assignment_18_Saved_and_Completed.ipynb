{
  "nbformat": 4,
  "nbformat_minor": 0,
  "metadata": {
    "colab": {
      "provenance": []
    },
    "kernelspec": {
      "name": "python3",
      "display_name": "Python 3"
    },
    "language_info": {
      "name": "python"
    }
  },
  "cells": [
    {
      "cell_type": "code",
      "execution_count": null,
      "metadata": {
        "id": "fpMkH96wiICW"
      },
      "outputs": [],
      "source": []
    },
    {
      "cell_type": "markdown",
      "source": [
        "**Question 1**\n",
        "\n",
        "**Create a function that takes a list of non-negative integers and strings and return a new list without the strings.**\n",
        "\n",
        "**Examples** \n",
        "\n",
        "filter_list([1, 2, \"a\", \"b\"]) ➞ [1, 2]\n",
        "\n",
        "filter_list([1, \"a\", \"b\", 0, 15]) ➞ [1, 0, 15]\n",
        "\n",
        "filter_list([1, 2, \"aasf\", \"1\", \"123\", 123]) ➞ [1, 2, 123]\n"
      ],
      "metadata": {
        "id": "bfakc94Jjrvg"
      }
    },
    {
      "cell_type": "code",
      "source": [
        "## final Result\n",
        "\n",
        "def filter_list(list1) :\n",
        "  #list1 = [1, 2, \"a\", \"b\"]\n",
        "  list2 = []\n",
        "\n",
        "  for i in list1:\n",
        "    if type(i) != str:\n",
        "      list2.append(i)\n",
        "  print(f\"filter_list({list1}) ➞\", list2)"
      ],
      "metadata": {
        "id": "kCBkzaDHkm5a"
      },
      "execution_count": 1,
      "outputs": []
    },
    {
      "cell_type": "code",
      "source": [
        "filter_list([1, 2, \"a\", \"b\"])"
      ],
      "metadata": {
        "colab": {
          "base_uri": "https://localhost:8080/"
        },
        "id": "_b_FjjA3nzZn",
        "outputId": "686a29e8-42dd-48e0-fbad-60791e5e44b2"
      },
      "execution_count": 2,
      "outputs": [
        {
          "output_type": "stream",
          "name": "stdout",
          "text": [
            "filter_list([1, 2, 'a', 'b']) ➞ [1, 2]\n"
          ]
        }
      ]
    },
    {
      "cell_type": "code",
      "source": [
        "filter_list([1, \"a\", \"b\", 0, 15])"
      ],
      "metadata": {
        "colab": {
          "base_uri": "https://localhost:8080/"
        },
        "id": "ub5iQ373nzc0",
        "outputId": "5ba39ab0-cee5-47cb-9ec7-f5405269a662"
      },
      "execution_count": 3,
      "outputs": [
        {
          "output_type": "stream",
          "name": "stdout",
          "text": [
            "filter_list([1, 'a', 'b', 0, 15]) ➞ [1, 0, 15]\n"
          ]
        }
      ]
    },
    {
      "cell_type": "code",
      "source": [
        "filter_list([1, 2, \"aasf\", \"1\", \"123\", 123])"
      ],
      "metadata": {
        "colab": {
          "base_uri": "https://localhost:8080/"
        },
        "id": "uiio1Ohpnzgb",
        "outputId": "b5042e63-bde1-4376-abd6-91fee6d88065"
      },
      "execution_count": 4,
      "outputs": [
        {
          "output_type": "stream",
          "name": "stdout",
          "text": [
            "filter_list([1, 2, 'aasf', '1', '123', 123]) ➞ [1, 2, 123]\n"
          ]
        }
      ]
    },
    {
      "cell_type": "markdown",
      "source": [
        "**##########################################################################################################**"
      ],
      "metadata": {
        "id": "tXV41QI0jrzn"
      }
    },
    {
      "cell_type": "markdown",
      "source": [
        "**Question 2**\n",
        "\n",
        "**The \"Reverser\" takes a string as input and returns that string in reverse order, with the opposite case.**\n",
        "\n",
        "**Examples**\n",
        "\n",
        "reverse(\"Hello World\") ➞ \"DLROw OLLEh\"\n",
        "\n",
        "reverse(\"ReVeRsE\") ➞ \"eSrEvEr\"\n",
        "\n",
        "reverse(\"Radar\") ➞ \"RADAr\"\n"
      ],
      "metadata": {
        "id": "tmF1-1yojr4E"
      }
    },
    {
      "cell_type": "code",
      "source": [
        "## final Result\n",
        "\n",
        "\n",
        "\n",
        "def reverse(s):\n",
        "\n",
        "\n",
        "  #s = \"Hello World\"\n",
        "  print(\"oriinal string is =\",s )\n",
        "\n",
        "  x = s.swapcase()\n",
        "  reverse_x = reversed(x)\n",
        "  join_reversed_x = \"\".join(reverse_x)\n",
        "\n",
        "  print(\"Reversed string is =\",join_reversed_x)"
      ],
      "metadata": {
        "id": "FjeQ0knEkoMn"
      },
      "execution_count": 16,
      "outputs": []
    },
    {
      "cell_type": "code",
      "source": [
        "reverse(\"Hello World\")"
      ],
      "metadata": {
        "colab": {
          "base_uri": "https://localhost:8080/"
        },
        "id": "KNmWh4P9xCi5",
        "outputId": "500aadb4-d93c-4198-8f8e-3e3371d743e3"
      },
      "execution_count": 9,
      "outputs": [
        {
          "output_type": "stream",
          "name": "stdout",
          "text": [
            "oriinal string is = Hello World\n",
            "Reversed string is = DLROw OLLEh\n"
          ]
        }
      ]
    },
    {
      "cell_type": "code",
      "source": [
        "reverse(\"ReVeRsE\") "
      ],
      "metadata": {
        "colab": {
          "base_uri": "https://localhost:8080/"
        },
        "id": "1vDDXA19v-4r",
        "outputId": "44e01109-71b9-4f0b-f09a-718e546c55a6"
      },
      "execution_count": 10,
      "outputs": [
        {
          "output_type": "stream",
          "name": "stdout",
          "text": [
            "oriinal string is = ReVeRsE\n",
            "Reversed string is = eSrEvEr\n"
          ]
        }
      ]
    },
    {
      "cell_type": "code",
      "source": [
        "reverse(\"Radar\")"
      ],
      "metadata": {
        "colab": {
          "base_uri": "https://localhost:8080/"
        },
        "id": "2wj2z0Xkv-8n",
        "outputId": "f3e3cde6-873e-4f85-8aff-a9f4b0f0cf18"
      },
      "execution_count": 11,
      "outputs": [
        {
          "output_type": "stream",
          "name": "stdout",
          "text": [
            "oriinal string is = Radar\n",
            "Reversed string is = RADAr\n"
          ]
        }
      ]
    },
    {
      "cell_type": "code",
      "source": [],
      "metadata": {
        "id": "Lb8Z_WHpv_AE"
      },
      "execution_count": null,
      "outputs": []
    },
    {
      "cell_type": "markdown",
      "source": [
        "**##########################################################################################################**"
      ],
      "metadata": {
        "id": "OCc4lMVJjr7x"
      }
    },
    {
      "cell_type": "markdown",
      "source": [
        "**Question 3**\n",
        "\n",
        "**You can assign variables from lists like this:**\n",
        "\n",
        "lst = [1, 2, 3, 4, 5, 6]\n",
        "\n",
        "first = lst[0]\n",
        "\n",
        "middle = lst[1:-1]\n",
        "\n",
        "last = lst[-1]\n",
        "\n",
        "print(first) ➞ outputs 1\n",
        "\n",
        "print(middle) ➞ outputs [2, 3, 4, 5]\n",
        "\n",
        "print(last) ➞ outputs 6\n",
        "\n",
        "With Python 3, you can assign variables from lists in a much more succinct way. Create variables first, middle and last from the given list using destructuring assignment (check the Resources tab for some examples), where:\n",
        "\n",
        "first  ➞ 1\n",
        "\n",
        "middle ➞ [2, 3, 4, 5]\n",
        "\n",
        "last ➞ 6\n",
        "\n",
        "\n",
        "Your task is to unpack the list writeyourcodehere into three variables, being first, middle, and last, with middle being everything in between the first and last element. Then print all three variables.\n"
      ],
      "metadata": {
        "id": "yfoN0Jp4jr_A"
      }
    },
    {
      "cell_type": "code",
      "source": [
        "lst = [1, 2, 3, 4, 5, 6]\n",
        "\n",
        "first,*middle,last = lst"
      ],
      "metadata": {
        "id": "eTNssgu7ko0R"
      },
      "execution_count": 2,
      "outputs": []
    },
    {
      "cell_type": "code",
      "source": [
        "first"
      ],
      "metadata": {
        "colab": {
          "base_uri": "https://localhost:8080/"
        },
        "id": "suy2T_rSyoVi",
        "outputId": "ca424962-838f-4e72-d75c-84b0636ee76e"
      },
      "execution_count": 3,
      "outputs": [
        {
          "output_type": "execute_result",
          "data": {
            "text/plain": [
              "1"
            ]
          },
          "metadata": {},
          "execution_count": 3
        }
      ]
    },
    {
      "cell_type": "code",
      "source": [
        "middle"
      ],
      "metadata": {
        "colab": {
          "base_uri": "https://localhost:8080/"
        },
        "id": "-7KT9jqhyoZW",
        "outputId": "7dcc0858-c4d5-43ac-c144-ab2a993e6bab"
      },
      "execution_count": 4,
      "outputs": [
        {
          "output_type": "execute_result",
          "data": {
            "text/plain": [
              "[2, 3, 4, 5]"
            ]
          },
          "metadata": {},
          "execution_count": 4
        }
      ]
    },
    {
      "cell_type": "code",
      "source": [
        "last"
      ],
      "metadata": {
        "colab": {
          "base_uri": "https://localhost:8080/"
        },
        "id": "lAAUEQ-eyocw",
        "outputId": "496ddbe1-4186-49e9-cb30-3084c686f007"
      },
      "execution_count": 5,
      "outputs": [
        {
          "output_type": "execute_result",
          "data": {
            "text/plain": [
              "6"
            ]
          },
          "metadata": {},
          "execution_count": 5
        }
      ]
    },
    {
      "cell_type": "markdown",
      "source": [
        "**##########################################################################################################**"
      ],
      "metadata": {
        "id": "3zd8tx38jsCX"
      }
    },
    {
      "cell_type": "markdown",
      "source": [
        "**Question 4**\n",
        "\n",
        "**Write a function that calculates the factorial of a number recursively.**\n",
        "\n",
        "**Examples**\n",
        "\n",
        "factorial(5) ➞ 120\n",
        "\n",
        "factorial(3) ➞ 6\n",
        "\n",
        "factorial(1) ➞ 1\n",
        "\n",
        "factorial(0) ➞ 1\n"
      ],
      "metadata": {
        "id": "sLLMv1QtjsE8"
      }
    },
    {
      "cell_type": "code",
      "source": [
        "## Final Result\n",
        "\n",
        "def factorial(n):\n",
        "\n",
        "  fact0 = 0\n",
        "  fact1 = 1\n",
        "\n",
        "  if n==0 or n==1:\n",
        "\n",
        "    return 1\n",
        "\n",
        "  else :\n",
        "\n",
        "    return n*factorial(n-1)"
      ],
      "metadata": {
        "id": "qWrun46RzUT-"
      },
      "execution_count": 7,
      "outputs": []
    },
    {
      "cell_type": "code",
      "source": [
        "factorial(5)"
      ],
      "metadata": {
        "colab": {
          "base_uri": "https://localhost:8080/"
        },
        "id": "Mkubw8tDzUXL",
        "outputId": "37152a3a-491c-415e-ec69-2ac749df21ef"
      },
      "execution_count": 8,
      "outputs": [
        {
          "output_type": "execute_result",
          "data": {
            "text/plain": [
              "120"
            ]
          },
          "metadata": {},
          "execution_count": 8
        }
      ]
    },
    {
      "cell_type": "code",
      "source": [
        "factorial(3)"
      ],
      "metadata": {
        "colab": {
          "base_uri": "https://localhost:8080/"
        },
        "id": "SWkYnyFFzUaF",
        "outputId": "7364efdf-a9b7-4a29-da49-8c8f1e38decd"
      },
      "execution_count": 9,
      "outputs": [
        {
          "output_type": "execute_result",
          "data": {
            "text/plain": [
              "6"
            ]
          },
          "metadata": {},
          "execution_count": 9
        }
      ]
    },
    {
      "cell_type": "code",
      "source": [
        "factorial(1)"
      ],
      "metadata": {
        "colab": {
          "base_uri": "https://localhost:8080/"
        },
        "id": "AYqN26kbzUdZ",
        "outputId": "c28f64a2-c99e-4402-be83-94bf961baadd"
      },
      "execution_count": 10,
      "outputs": [
        {
          "output_type": "execute_result",
          "data": {
            "text/plain": [
              "1"
            ]
          },
          "metadata": {},
          "execution_count": 10
        }
      ]
    },
    {
      "cell_type": "code",
      "source": [
        "factorial(0)"
      ],
      "metadata": {
        "colab": {
          "base_uri": "https://localhost:8080/"
        },
        "id": "kG7Cucf-zUgO",
        "outputId": "9db0288b-9b6a-446c-fb6f-848cd4ff5741"
      },
      "execution_count": 11,
      "outputs": [
        {
          "output_type": "execute_result",
          "data": {
            "text/plain": [
              "1"
            ]
          },
          "metadata": {},
          "execution_count": 11
        }
      ]
    },
    {
      "cell_type": "markdown",
      "source": [
        "**##########################################################################################################**"
      ],
      "metadata": {
        "id": "a3KormRujsIE"
      }
    },
    {
      "cell_type": "markdown",
      "source": [
        "**Question 5**\n",
        "\n",
        "**Write a function that moves all elements of one type to the end of the list.**\n",
        "\n",
        "**Examples**\n",
        "\n",
        "move_to_end([1, 3, 2, 4, 4, 1], 1) ➞ [3, 2, 4, 4, 1, 1]\n",
        "\n",
        "Move all the 1s to the end of the array.\n",
        "\n",
        "move_to_end([7, 8, 9, 1, 2, 3, 4], 9) ➞ [7, 8, 1, 2, 3, 4, 9]\n",
        "\n",
        "move_to_end([\"a\", \"a\", \"a\", \"b\"], \"a\") ➞ [\"b\", \"a\", \"a\", \"a\"]\n"
      ],
      "metadata": {
        "id": "bfseHKOakTCE"
      }
    },
    {
      "cell_type": "code",
      "source": [
        "## final Result\n",
        "\n",
        "def movingelementatend( list , selectelement) :\n",
        "  \n",
        "\n",
        "  #selectelement = 1\n",
        "\n",
        "  #list = [1, 3, 2, 4, 4, 1]\n",
        "\n",
        "  print(\"Original List =\", list)\n",
        "\n",
        "  ## remove 1 from list\n",
        "\n",
        "  empty = []\n",
        "  commonelementlist = []\n",
        "\n",
        "  for i in list :\n",
        "    if i != selectelement:\n",
        "\n",
        "      empty.append(i)\n",
        "\n",
        "#print(empty)\n",
        "\n",
        "    else:\n",
        "\n",
        "      commonelementlist.append(i)\n",
        "\n",
        "\n",
        "\n",
        "\n",
        "  #print(\"List not having 1 =\",empty)\n",
        "  #print(\"List having 1 =\",commonelementlist)\n",
        "\n",
        "\n",
        "  empty.extend(commonelementlist)\n",
        "  print(f\"move_to_end({list , selectelement}) ➞\", empty)\n",
        "  #list.removeall(1)\n",
        "  #list.remove(1)\n",
        "  #list"
      ],
      "metadata": {
        "id": "YpUiJ8ijkqBR"
      },
      "execution_count": 2,
      "outputs": []
    },
    {
      "cell_type": "code",
      "source": [
        "movingelementatend( [1, 3, 2, 4, 4, 1] , 1)"
      ],
      "metadata": {
        "colab": {
          "base_uri": "https://localhost:8080/"
        },
        "id": "FNFroIDcBETm",
        "outputId": "fe1eb7b4-7784-40a9-eec5-52ee854e5899"
      },
      "execution_count": 3,
      "outputs": [
        {
          "output_type": "stream",
          "name": "stdout",
          "text": [
            "Original List = [1, 3, 2, 4, 4, 1]\n",
            "move_to_end(([1, 3, 2, 4, 4, 1], 1)) ➞ [3, 2, 4, 4, 1, 1]\n"
          ]
        }
      ]
    },
    {
      "cell_type": "code",
      "source": [
        "movingelementatend( [7, 8, 9, 1, 2, 3, 4], 9)"
      ],
      "metadata": {
        "colab": {
          "base_uri": "https://localhost:8080/"
        },
        "id": "EKG3c70CBEWw",
        "outputId": "5652947f-a682-4a11-f970-c90c4ba21755"
      },
      "execution_count": 4,
      "outputs": [
        {
          "output_type": "stream",
          "name": "stdout",
          "text": [
            "Original List = [7, 8, 9, 1, 2, 3, 4]\n",
            "move_to_end(([7, 8, 9, 1, 2, 3, 4], 9)) ➞ [7, 8, 1, 2, 3, 4, 9]\n"
          ]
        }
      ]
    },
    {
      "cell_type": "code",
      "source": [
        "movingelementatend( [\"a\", \"a\", \"a\", \"b\"], \"a\")"
      ],
      "metadata": {
        "colab": {
          "base_uri": "https://localhost:8080/"
        },
        "id": "pdOw2uV_BEZv",
        "outputId": "93891aa7-ab42-4384-fc30-3d742ce76a02"
      },
      "execution_count": 5,
      "outputs": [
        {
          "output_type": "stream",
          "name": "stdout",
          "text": [
            "Original List = ['a', 'a', 'a', 'b']\n",
            "move_to_end((['a', 'a', 'a', 'b'], 'a')) ➞ ['b', 'a', 'a', 'a']\n"
          ]
        }
      ]
    },
    {
      "cell_type": "code",
      "source": [],
      "metadata": {
        "id": "E15AqpSaBEc_"
      },
      "execution_count": null,
      "outputs": []
    },
    {
      "cell_type": "markdown",
      "source": [
        "**##########################################################################################################**"
      ],
      "metadata": {
        "id": "8KHKgOsWkTMG"
      }
    }
  ]
}