{
  "nbformat": 4,
  "nbformat_minor": 0,
  "metadata": {
    "colab": {
      "provenance": []
    },
    "kernelspec": {
      "name": "python3",
      "display_name": "Python 3"
    },
    "language_info": {
      "name": "python"
    }
  },
  "cells": [
    {
      "cell_type": "code",
      "execution_count": null,
      "metadata": {
        "id": "dIP6IshEZZRQ"
      },
      "outputs": [],
      "source": []
    },
    {
      "cell_type": "markdown",
      "source": [
        "**Question 1 -Write a Python Program to Display Fibonacci Sequence Using Recursion?**\n",
        "\n",
        "\n",
        "**Answer 1 -**"
      ],
      "metadata": {
        "id": "9NdQ2rUMZkJU"
      }
    },
    {
      "cell_type": "code",
      "source": [
        "def fibonacci(n):\n",
        "    if(n <= 1):\n",
        "        return n\n",
        "    else:\n",
        "        return(fibonacci(n-1) + fibonacci(n-2))\n",
        "n = int(input(\"Enter number of terms:\"))\n",
        "print(\"Fibonacci sequence:\")\n",
        "for i in range(0,n):\n",
        "    print(fibonacci(i))"
      ],
      "metadata": {
        "id": "_TvDTmjAZgsW"
      },
      "execution_count": null,
      "outputs": []
    },
    {
      "cell_type": "markdown",
      "source": [
        "**##########################################################################################################**"
      ],
      "metadata": {
        "id": "yGodTN1LZg6-"
      }
    },
    {
      "cell_type": "markdown",
      "source": [
        "**Question 2 -Write a Python Program to Find Factorial of Number Using Recursion?**\n",
        "\n",
        "\n",
        "**Answer 2 -**"
      ],
      "metadata": {
        "id": "LOUENgCPZy_U"
      }
    },
    {
      "cell_type": "code",
      "source": [
        "def facto(num):\n",
        "  if num == 1:\n",
        "    return 1\n",
        "  else:\n",
        "    return num * facto(num-1)\n",
        "    \n",
        "num = 5\n",
        "print(f\"Factorial of {num} is\",facto(num))"
      ],
      "metadata": {
        "id": "cZWLFUNDZtNR"
      },
      "execution_count": null,
      "outputs": []
    },
    {
      "cell_type": "markdown",
      "source": [
        "**##########################################################################################################**"
      ],
      "metadata": {
        "id": "uYh1wYAcZtNS"
      }
    },
    {
      "cell_type": "markdown",
      "source": [
        "**Question 3 -Write a Python Program to calculate your Body Mass Index?**\n",
        "\n",
        "\n",
        "**Answer 3 -**"
      ],
      "metadata": {
        "id": "WDKsceBqZ2Fi"
      }
    },
    {
      "cell_type": "code",
      "source": [
        "Height=float(input())\n",
        "Weight=float(input())\n",
        "\n",
        "BMI = Height/Weight ** 2\n",
        "\n",
        "if BMI<18.5:\n",
        " print(\"Underweight\") \n",
        "elif BMI>=30:\n",
        " print(\"Obesity\")\n",
        "elif BMI>=18 and BMI<25: \n",
        " print(\"Normal\") \n",
        "elif BMI<=25 and BMI<30:\n",
        " print(\"Overweight\")"
      ],
      "metadata": {
        "id": "E3Yl_rsnZuNQ"
      },
      "execution_count": null,
      "outputs": []
    },
    {
      "cell_type": "markdown",
      "source": [
        "**##########################################################################################################**"
      ],
      "metadata": {
        "id": "PfmhsZy5ZuNQ"
      }
    },
    {
      "cell_type": "markdown",
      "source": [
        "**Question 4 -Write a Python Program to calculate the natural logarithm of any number?**\n",
        "\n",
        "\n",
        "**Answer 4 -**"
      ],
      "metadata": {
        "id": "qLGLPxO3Z44k"
      }
    },
    {
      "cell_type": "code",
      "source": [
        "import math\n",
        "\n",
        "# Printing the log base e of 14\n",
        "print (\"Natural logarithm of 14 is : \", end=\"\")\n",
        "print (math.log(14))"
      ],
      "metadata": {
        "id": "164Djv6gZujY"
      },
      "execution_count": null,
      "outputs": []
    },
    {
      "cell_type": "markdown",
      "source": [
        "**##########################################################################################################**"
      ],
      "metadata": {
        "id": "KCn5oMMIZujY"
      }
    },
    {
      "cell_type": "markdown",
      "source": [
        "**Question 5 -Write a Python Program for cube sum of first n natural numbers?**\n",
        "\n",
        "\n",
        "**Answer 5 -**"
      ],
      "metadata": {
        "id": "z6EIEPIyZ7gA"
      }
    },
    {
      "cell_type": "code",
      "source": [
        "def sumOfSeries(n):\n",
        "   sum = 0\n",
        "   for i in range(1, n+1):\n",
        "      sum =sum + (i**3)\n",
        "   return sum\n",
        "\n",
        "n = 2\n",
        "print(f\"Cube sum of number {n} is {sumOfSeries(n)}\")"
      ],
      "metadata": {
        "colab": {
          "base_uri": "https://localhost:8080/"
        },
        "id": "sH7zyxQIZvnB",
        "outputId": "a3bbc87a-4f10-4b1f-9e97-e8444ca478c7"
      },
      "execution_count": null,
      "outputs": [
        {
          "output_type": "stream",
          "name": "stdout",
          "text": [
            "Cube sum of number 2 is 9\n"
          ]
        }
      ]
    },
    {
      "cell_type": "markdown",
      "source": [
        "**##########################################################################################################**"
      ],
      "metadata": {
        "id": "WaHhGwxKZvnB"
      }
    }
  ]
}