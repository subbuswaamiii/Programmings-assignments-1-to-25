{
  "nbformat": 4,
  "nbformat_minor": 0,
  "metadata": {
    "colab": {
      "provenance": []
    },
    "kernelspec": {
      "name": "python3",
      "display_name": "Python 3"
    },
    "language_info": {
      "name": "python"
    }
  },
  "cells": [
    {
      "cell_type": "code",
      "execution_count": null,
      "metadata": {
        "id": "39GmlGQ0p61O"
      },
      "outputs": [],
      "source": []
    },
    {
      "cell_type": "code",
      "source": [
        "from google.colab import drive\n",
        "drive.mount('/content/drive')"
      ],
      "metadata": {
        "colab": {
          "base_uri": "https://localhost:8080/"
        },
        "id": "UmLcMZnV8BpF",
        "outputId": "05be16f5-6613-45c2-c0e9-ffcba7e825b2"
      },
      "execution_count": null,
      "outputs": [
        {
          "output_type": "stream",
          "name": "stdout",
          "text": [
            "Mounted at /content/drive\n"
          ]
        }
      ]
    },
    {
      "cell_type": "markdown",
      "source": [],
      "metadata": {
        "id": "gXdHuc3Bp_3s"
      }
    },
    {
      "cell_type": "markdown",
      "source": [
        "**Question 1 - Write a program that calculates and prints the value according to the given formula:**\n",
        "\n",
        "Q = Square root of [(2 * C * D)/H]\n",
        "\n",
        "Following are the fixed values of C and H:\n",
        "\n",
        "C is 50. H is 30.\n",
        "\n",
        "D is the variable whose values should be input to your program in a comma-separated sequence.\n",
        "\n",
        "Example\n",
        "\n",
        "Let us assume the following comma separated input sequence is given to the program:\n",
        "\n",
        "100,150,180\n",
        "\n",
        "The output of the program should be:\n",
        "\n",
        "18,22,24\n",
        "\n",
        "\n",
        "\n",
        "**Answer 1 -**"
      ],
      "metadata": {
        "id": "MDLUrLxDqALa"
      }
    },
    {
      "cell_type": "code",
      "source": [
        "# final Result\n",
        "\n",
        "import math # import math module  \n",
        "D = [ 100,150,180 ]\n",
        "E = []\n",
        "for i in D:\n",
        "  C = 50\n",
        "  H = 30\n",
        "  n = (2 * C * i)/H  \n",
        "  Q = round(math.sqrt(n))\n",
        "  E.append(Q)\n",
        "print(E)"
      ],
      "metadata": {
        "colab": {
          "base_uri": "https://localhost:8080/"
        },
        "id": "PBGXgnmLuy5f",
        "outputId": "c8dbb22a-266e-497b-a2eb-afadc19167a5"
      },
      "execution_count": null,
      "outputs": [
        {
          "output_type": "stream",
          "name": "stdout",
          "text": [
            "[18, 22, 24]\n"
          ]
        }
      ]
    },
    {
      "cell_type": "markdown",
      "source": [
        "**##########################################################################################################**"
      ],
      "metadata": {
        "id": "G9UZzapMqEwZ"
      }
    },
    {
      "cell_type": "markdown",
      "source": [
        "**Question 2 -Write a program which takes 2 digits, X,Y as input and generates a 2-dimensional array. The element value in the i-th row and j-th column of the array should be i*j.**\n",
        "\n",
        "Note: i=0,1.., X-1; j=0,1,¡¬Y-1.\n",
        "\n",
        "Example\n",
        "\n",
        "Suppose the following inputs are given to the program:\n",
        "\n",
        "3,5\n",
        "\n",
        "Then, the output of the program should be:\n",
        "\n",
        "[[0, 0, 0, 0, 0], [0, 1, 2, 3, 4], [0, 2, 4, 6, 8]] \n",
        "\n",
        "\n",
        "\n",
        "**Answer 2 -**"
      ],
      "metadata": {
        "id": "PEmujVJ-qE26"
      }
    },
    {
      "cell_type": "code",
      "source": [
        "## final result \n",
        "\n",
        "\n",
        "x,y = 3,5\n",
        "\n",
        "l = []\n",
        "for i in range(x):\n",
        "  l.append([])\n",
        "  for j in range(y):\n",
        "    l[i].append(j)\n",
        "    l[i][j] = i*j\n",
        "print(l)"
      ],
      "metadata": {
        "colab": {
          "base_uri": "https://localhost:8080/"
        },
        "id": "VBDGNMRQu7Zq",
        "outputId": "9c6eb441-f697-4cac-de7d-9cc5313db2f8"
      },
      "execution_count": null,
      "outputs": [
        {
          "output_type": "stream",
          "name": "stdout",
          "text": [
            "[[0, 0, 0, 0, 0], [0, 1, 2, 3, 4], [0, 2, 4, 6, 8]]\n"
          ]
        }
      ]
    },
    {
      "cell_type": "markdown",
      "source": [
        "**##########################################################################################################**"
      ],
      "metadata": {
        "id": "kAAT70XVqFAt"
      }
    },
    {
      "cell_type": "markdown",
      "source": [
        "**Question 3 -Write a program that accepts a comma separated sequence of words as input and prints the words in a comma-separated sequence after sorting them alphabetically.**\n",
        "\n",
        "Suppose the following input is supplied to the program:\n",
        "\n",
        "without,hello,bag,world\n",
        "\n",
        "Then, the output should be:\n",
        "\n",
        "bag,hello,without,world\n",
        "\n",
        "\n",
        "\n",
        "**Answer 3 -**"
      ],
      "metadata": {
        "id": "iIN3OXAgqFKi"
      }
    },
    {
      "cell_type": "code",
      "source": [
        "list = ['without','hello','bag','world']\n",
        "#list.sort()\n",
        "sorted(list)"
      ],
      "metadata": {
        "colab": {
          "base_uri": "https://localhost:8080/"
        },
        "id": "JK3SEWLTzIj9",
        "outputId": "56bf64a2-98c2-49b9-a82c-34c003361af1"
      },
      "execution_count": null,
      "outputs": [
        {
          "output_type": "execute_result",
          "data": {
            "text/plain": [
              "['bag', 'hello', 'without', 'world']"
            ]
          },
          "metadata": {},
          "execution_count": 31
        }
      ]
    },
    {
      "cell_type": "code",
      "source": [
        "\n",
        "## final Result\n",
        "\n",
        "y= \"without,hello,bag,world\"\n",
        "s = y.split(\",\")\n",
        "sort = sorted(s)\n",
        "print(\",\".join(sort))"
      ],
      "metadata": {
        "colab": {
          "base_uri": "https://localhost:8080/"
        },
        "id": "xOcj_9Qp8sTj",
        "outputId": "071dc352-3a8b-4801-9532-8ad07571e6f5"
      },
      "execution_count": null,
      "outputs": [
        {
          "output_type": "stream",
          "name": "stdout",
          "text": [
            "bag,hello,without,world\n"
          ]
        }
      ]
    },
    {
      "cell_type": "markdown",
      "source": [
        "**##########################################################################################################**"
      ],
      "metadata": {
        "id": "4pzmg5D-qF5I"
      }
    },
    {
      "cell_type": "markdown",
      "source": [
        "**Question 4 -Write a program that accepts a sequence of whitespace separated words as input and prints the words after removing all duplicate words and sorting them alphanumerically.**\n",
        "\n",
        "Suppose the following input is supplied to the program:\n",
        "\n",
        "hello world and practice makes perfect and hello world again\n",
        "\n",
        "Then, the output should be:\n",
        "\n",
        "again and hello makes perfect practice world\n",
        "\n",
        "\n",
        "\n",
        "**Answer 4 -**"
      ],
      "metadata": {
        "id": "Z0oJYwQsqGAa"
      }
    },
    {
      "cell_type": "code",
      "source": [
        "q1= \"hello world and practice makes perfect and hello world again\"\n",
        "sp = q1.split(\" \")\n",
        "set(sp)\n",
        "sorted(set(sp))"
      ],
      "metadata": {
        "colab": {
          "base_uri": "https://localhost:8080/"
        },
        "id": "GRvTL_DRBoWQ",
        "outputId": "79f85afc-9e9b-42c9-cda7-a1cc4622e302"
      },
      "execution_count": null,
      "outputs": [
        {
          "output_type": "execute_result",
          "data": {
            "text/plain": [
              "['again', 'and', 'hello', 'makes', 'perfect', 'practice', 'world']"
            ]
          },
          "metadata": {},
          "execution_count": 26
        }
      ]
    },
    {
      "cell_type": "code",
      "source": [
        "# final Result \n",
        "\n",
        "q1= \"hello world and practice makes perfect and hello world again\"\n",
        "sp = q1.split(\" \")\n",
        "s = set(sp)\n",
        "t = sorted(s)\n",
        "\" \".join(t)"
      ],
      "metadata": {
        "colab": {
          "base_uri": "https://localhost:8080/",
          "height": 35
        },
        "id": "oyVqFfW1-4Bv",
        "outputId": "04d88b8c-4d64-4520-facd-a098b2af862a"
      },
      "execution_count": null,
      "outputs": [
        {
          "output_type": "execute_result",
          "data": {
            "text/plain": [
              "'again and hello makes perfect practice world'"
            ],
            "application/vnd.google.colaboratory.intrinsic+json": {
              "type": "string"
            }
          },
          "metadata": {},
          "execution_count": 17
        }
      ]
    },
    {
      "cell_type": "markdown",
      "source": [
        "**##########################################################################################################**"
      ],
      "metadata": {
        "id": "E9HkPzYNqGIz"
      }
    },
    {
      "cell_type": "markdown",
      "source": [
        "**Question 5 -Write a program that accepts a sentence and calculate the number of letters and digits.**\n",
        "\n",
        "Suppose the following input is supplied to the program:\n",
        "\n",
        "hello world! 123\n",
        "\n",
        "Then, the output should be:\n",
        "\n",
        "LETTERS 10\n",
        "\n",
        "DIGITS 3\n",
        "\n",
        "\n",
        "\n",
        "**Answer 5 -**"
      ],
      "metadata": {
        "id": "eadW_DN5qGPC"
      }
    },
    {
      "cell_type": "code",
      "source": [
        "# Final Result\n",
        "s = \"hello  456\"\n",
        "L = 0\n",
        "D = 0\n",
        "for c in s:\n",
        "  if c.isdigit():\n",
        "    #print(c)\n",
        "    D = D +1\n",
        "      \n",
        "  elif c.isalpha():\n",
        "    #print(c)\n",
        "    L = L +1\n",
        "      \n",
        "  else:\n",
        "    pass\n",
        "   \n",
        "print(\"LETTERS = \",L)\n",
        "print(\"DIGITS = \",D)"
      ],
      "metadata": {
        "id": "-4GSIxUO1eKh",
        "colab": {
          "base_uri": "https://localhost:8080/"
        },
        "outputId": "b0949fde-d444-41ba-ab9c-34561f50c13a"
      },
      "execution_count": 28,
      "outputs": [
        {
          "output_type": "stream",
          "name": "stdout",
          "text": [
            "LETTERS =  5\n",
            "DIGITS =  3\n"
          ]
        }
      ]
    },
    {
      "cell_type": "code",
      "source": [
        "\n",
        "s = \"hello world! 123\"\n",
        "L = 0\n",
        "D = 0\n",
        "for c in s:\n",
        "  if c.isdigit():\n",
        "    #print(c)\n",
        "    D = D +1\n",
        "      \n",
        "  elif c.isalpha():\n",
        "    #print(c)\n",
        "    L = L +1\n",
        "      \n",
        "  else:\n",
        "    pass\n",
        "   \n",
        "print(\"LETTERS = \",L)\n",
        "print(\"DIGITS = \",D)"
      ],
      "metadata": {
        "id": "M6shKUFK1eQ-",
        "colab": {
          "base_uri": "https://localhost:8080/"
        },
        "outputId": "2528cd0d-71ca-4e41-cebd-8113dac477db"
      },
      "execution_count": 29,
      "outputs": [
        {
          "output_type": "stream",
          "name": "stdout",
          "text": [
            "LETTERS =  10\n",
            "DIGITS =  3\n"
          ]
        }
      ]
    },
    {
      "cell_type": "markdown",
      "source": [
        "**##########################################################################################################**"
      ],
      "metadata": {
        "id": "K9RZU-g1qT5_"
      }
    },
    {
      "cell_type": "markdown",
      "source": [
        "**Question 6 -A website requires the users to input username and password to register. Write a program to check the validity of password input by users.**\n",
        "\n",
        "Following are the criteria for checking the password:\n",
        "\n",
        "1. At least 1 letter between [a-z]\n",
        "\n",
        "2. At least 1 number between [0-9]\n",
        "\n",
        "1. At least 1 letter between [A-Z]\n",
        "\n",
        "3. At least 1 character from [$#@]\n",
        "\n",
        "4. Minimum length of transaction password: 6\n",
        "\n",
        "5. Maximum length of transaction password: 12\n",
        "\n",
        "Your program should accept a sequence of comma separated passwords and will check them according to the above criteria. Passwords that match the criteria are to be printed, each separated by a comma.\n",
        "\n",
        "Example\n",
        "\n",
        "If the following passwords are given as input to the program:\n",
        "\n",
        "ABd1234@1,a F1#,2w3E*,2We3345\n",
        "\n",
        "Then, the output of the program should be:\n",
        "\n",
        "ABd1234@1\n",
        "\n",
        "\n",
        "\n",
        "**Answer 6 -**"
      ],
      "metadata": {
        "id": "8LK5noQ2qT9y"
      }
    },
    {
      "cell_type": "code",
      "source": [
        "## Final Result \n",
        "import re\n",
        "password = \"ABd1234@1,a F1#,2w3E*,2We3345\"\n",
        "pattern = \"^.*(?=.{6,12})(?=.*[a-z])(?=.*[0-9])(?=.*[A-Z])(?=.*[$#@]).*$\"\n",
        "list1 = list(password.split(\",\"))\n",
        "for i in list1 :\n",
        "  result = re.findall(pattern,i)\n",
        "  #print(result)\n",
        "  if result  :\n",
        "    print(\"Password maintaining Criteria as per question.That Password is =\",result)\n",
        "    break\n",
        "else:\n",
        "  print(\"Password do not maintain Criteria\")"
      ],
      "metadata": {
        "id": "CMTCCgDd2YMD",
        "colab": {
          "base_uri": "https://localhost:8080/"
        },
        "outputId": "7baddd80-24f0-473a-ca31-dec34127b0b9"
      },
      "execution_count": 53,
      "outputs": [
        {
          "output_type": "stream",
          "name": "stdout",
          "text": [
            "Password maintaining Criteria as per question.That Password is = ['ABd1234@1']\n"
          ]
        }
      ]
    },
    {
      "cell_type": "code",
      "source": [
        "## Final Result \n",
        "import re\n",
        "password = \"a F1#,2w3E*,2We3345\"\n",
        "pattern = \"^.*(?=.{6,12})(?=.*[a-z])(?=.*[0-9])(?=.*[A-Z])(?=.*[$#@]).*$\"\n",
        "list1 = list(password.split(\",\"))\n",
        "for i in list1 :\n",
        "  result = re.findall(pattern,i)\n",
        "  #print(result)\n",
        "  if result  :\n",
        "    print(\"Password maintaining Criteria as per question.That Password is =\",result)\n",
        "    break\n",
        "else:\n",
        "  print(\"Password do not maintain Criteria\")"
      ],
      "metadata": {
        "id": "XSO05bxk2YPJ",
        "colab": {
          "base_uri": "https://localhost:8080/"
        },
        "outputId": "dcd87f66-c552-4230-8d92-ce264a83f137"
      },
      "execution_count": 54,
      "outputs": [
        {
          "output_type": "stream",
          "name": "stdout",
          "text": [
            "Password do not maintain Criteria\n"
          ]
        }
      ]
    },
    {
      "cell_type": "code",
      "source": [],
      "metadata": {
        "id": "iJ9CUh6p2YWM"
      },
      "execution_count": null,
      "outputs": []
    },
    {
      "cell_type": "code",
      "source": [],
      "metadata": {
        "id": "O8zvTVbW2YZT"
      },
      "execution_count": null,
      "outputs": []
    },
    {
      "cell_type": "code",
      "source": [],
      "metadata": {
        "id": "jx1Bld_E2Yb9"
      },
      "execution_count": null,
      "outputs": []
    },
    {
      "cell_type": "code",
      "source": [],
      "metadata": {
        "id": "-JQJlAG32YfL"
      },
      "execution_count": null,
      "outputs": []
    },
    {
      "cell_type": "code",
      "source": [],
      "metadata": {
        "id": "2u_7q55m2YiU"
      },
      "execution_count": null,
      "outputs": []
    },
    {
      "cell_type": "markdown",
      "source": [
        "**##########################################################################################################**"
      ],
      "metadata": {
        "id": "PfYC3laTqUED"
      }
    }
  ]
}