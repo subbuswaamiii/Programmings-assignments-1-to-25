{
  "nbformat": 4,
  "nbformat_minor": 0,
  "metadata": {
    "colab": {
      "provenance": []
    },
    "kernelspec": {
      "name": "python3",
      "display_name": "Python 3"
    },
    "language_info": {
      "name": "python"
    }
  },
  "cells": [
    {
      "cell_type": "code",
      "execution_count": null,
      "metadata": {
        "id": "7Pn7fAmPOZQV"
      },
      "outputs": [],
      "source": []
    },
    {
      "cell_type": "markdown",
      "source": [
        "**Question 1 -Write a Python Program to Find LCM?**\n",
        "\n",
        "\n",
        "**Answer 1 -**\n",
        "\n"
      ],
      "metadata": {
        "id": "o-stEt4eOeAm"
      }
    },
    {
      "cell_type": "code",
      "source": [
        "def lcm(a,b):\n",
        "  \n",
        "  for i in range(max(a,b),(a*b)+1):\n",
        "    if i%a == i%b == 0:\n",
        "      lcm = i\n",
        "      break\n",
        "  print(f\"LCM of {a} and {b} is {lcm}\")\n",
        "\n",
        "\n",
        "\n",
        "lcm(12,14)\n"
      ],
      "metadata": {
        "colab": {
          "base_uri": "https://localhost:8080/"
        },
        "id": "e0zlDRpQQYTZ",
        "outputId": "128e2e6f-2b87-4d96-a8a0-14a5311e93aa"
      },
      "execution_count": 9,
      "outputs": [
        {
          "output_type": "stream",
          "name": "stdout",
          "text": [
            "LCM of 12 and 14 is 84\n"
          ]
        }
      ]
    },
    {
      "cell_type": "markdown",
      "source": [
        "**##########################################################################################################**"
      ],
      "metadata": {
        "id": "rnQaRe_MxJGn"
      }
    },
    {
      "cell_type": "markdown",
      "source": [
        "**Question 2 -Write a Python Program to Find HCF?**\n",
        "\n",
        "\n",
        "**Answer 2 -**"
      ],
      "metadata": {
        "id": "SeH3hz3GOeGX"
      }
    },
    {
      "cell_type": "code",
      "source": [
        "def hcf(a,b):\n",
        "  \n",
        "  hcf = 1\n",
        "\n",
        "  for i in range(1, min(a, b)):\n",
        "    if a % i == 0 and b % i == 0:\n",
        "      hcf = i\n",
        "\n",
        "  print(\"Hcf of\", a, \"and\", b, \"is\", hcf)\n",
        "\n",
        "hcf(36,60)"
      ],
      "metadata": {
        "colab": {
          "base_uri": "https://localhost:8080/"
        },
        "id": "RJQQbJSLgJ_n",
        "outputId": "09be53ca-8b3f-43c7-ee21-6ff1da681877"
      },
      "execution_count": 8,
      "outputs": [
        {
          "output_type": "stream",
          "name": "stdout",
          "text": [
            "Hcf of 36 and 60 is 12\n"
          ]
        }
      ]
    },
    {
      "cell_type": "markdown",
      "source": [
        "**##########################################################################################################**"
      ],
      "metadata": {
        "id": "KTkkVxoWxPSh"
      }
    },
    {
      "cell_type": "markdown",
      "source": [
        "**Question 3 -Write a Python Program to Convert Decimal to Binary, Octal and Hexadecimal?**\n",
        "\n",
        "\n",
        "**Answer 3 -**"
      ],
      "metadata": {
        "id": "Q7hH0amCOeNF"
      }
    },
    {
      "cell_type": "code",
      "source": [
        "n = 32\n",
        "\n",
        "print(\"The decimal value of\", n, \"is:\")\n",
        "print(f\"{n} value is in binary == \",bin(n))\n",
        "print(f\"{n} value is in octal ==\",oct(n))\n",
        "print(f\"{n} value is in hexadecimal ==\",hex(n))"
      ],
      "metadata": {
        "colab": {
          "base_uri": "https://localhost:8080/"
        },
        "id": "WA3CwJ3spY12",
        "outputId": "4a4b6949-3efb-44ba-f1f7-02a6ecf158c0"
      },
      "execution_count": 14,
      "outputs": [
        {
          "output_type": "stream",
          "name": "stdout",
          "text": [
            "The decimal value of 32 is:\n",
            "32 value is in binary ==  0b100000\n",
            "32 value is in octal == 0o40\n",
            "32 value is in hexadecimal == 0x20\n"
          ]
        }
      ]
    },
    {
      "cell_type": "markdown",
      "source": [
        "**##########################################################################################################**"
      ],
      "metadata": {
        "id": "Sik93-HyxQcd"
      }
    },
    {
      "cell_type": "markdown",
      "source": [
        "**Question 4 -Write a Python Program To Find ASCII value of a character?**\n",
        "\n",
        "\n",
        "**Answer 4 -**"
      ],
      "metadata": {
        "id": "PuV8JtT0OeTC"
      }
    },
    {
      "cell_type": "code",
      "source": [
        "def ascii(a):\n",
        "  # user input\n",
        "  #a = str(input())\n",
        "\n",
        "  # convert a to Ascii value\n",
        "  Ascii_val = ord(a)\n",
        "\n",
        "  # print Value\n",
        "  print('The ASCII value of', a, 'is', Ascii_val)\n",
        "\n",
        "ascii('z')"
      ],
      "metadata": {
        "colab": {
          "base_uri": "https://localhost:8080/"
        },
        "id": "FY-RDshHtuQ-",
        "outputId": "a67eaadd-f9e1-401f-94fd-b5d7814ad40b"
      },
      "execution_count": 18,
      "outputs": [
        {
          "output_type": "stream",
          "name": "stdout",
          "text": [
            "The ASCII value of z is 122\n"
          ]
        }
      ]
    },
    {
      "cell_type": "markdown",
      "source": [
        "**##########################################################################################################**"
      ],
      "metadata": {
        "id": "GD1hmT2WxRLr"
      }
    },
    {
      "cell_type": "markdown",
      "source": [
        "**Question 5 -Write a Python Program to Make a Simple Calculator with 4 basic mathematical operations?**\n",
        "\n",
        "\n",
        "**Answer 5 -**"
      ],
      "metadata": {
        "id": "81TPjAT3OeY8"
      }
    },
    {
      "cell_type": "code",
      "source": [
        "# Define our function\n",
        "def calculate():\n",
        "    operation = input('''\n",
        "Please type in the math operation you would like to complete:\n",
        "+ for addition\n",
        "- for subtraction\n",
        "* for multiplication\n",
        "/ for division\n",
        "''')\n",
        "\n",
        "    number_1 = int(input('Please enter the first number: '))\n",
        "    number_2 = int(input('Please enter the second number: '))\n",
        "\n",
        "    if operation == '+':\n",
        "        print('{} + {} = '.format(number_1, number_2))\n",
        "        print(number_1 + number_2)\n",
        "\n",
        "    elif operation == '-':\n",
        "        print('{} - {} = '.format(number_1, number_2))\n",
        "        print(number_1 - number_2)\n",
        "\n",
        "    elif operation == '*':\n",
        "        print('{} * {} = '.format(number_1, number_2))\n",
        "        print(number_1 * number_2)\n",
        "\n",
        "    elif operation == '/':\n",
        "        print('{} / {} = '.format(number_1, number_2))\n",
        "        print(number_1 / number_2)\n",
        "\n",
        "    else:\n",
        "        print('You have not typed a valid operator, please run the program again.')\n",
        "\n",
        "# Call calculate() outside of the function\n",
        "calculate()"
      ],
      "metadata": {
        "colab": {
          "base_uri": "https://localhost:8080/"
        },
        "id": "dZr2ofVgwsn_",
        "outputId": "4e5a5808-2f77-4ced-e32c-dcb5c931e02c"
      },
      "execution_count": 20,
      "outputs": [
        {
          "output_type": "stream",
          "name": "stdout",
          "text": [
            "\n",
            "Please type in the math operation you would like to complete:\n",
            "+ for addition\n",
            "- for subtraction\n",
            "* for multiplication\n",
            "/ for division\n",
            "*\n",
            "Please enter the first number: 2\n",
            "Please enter the second number: 10\n",
            "2 * 10 = \n",
            "20\n"
          ]
        }
      ]
    },
    {
      "cell_type": "markdown",
      "source": [
        "**##########################################################################################################**"
      ],
      "metadata": {
        "id": "7--FFlayxSUB"
      }
    },
    {
      "cell_type": "code",
      "source": [],
      "metadata": {
        "id": "ZQrsCe_ewtVG"
      },
      "execution_count": null,
      "outputs": []
    }
  ]
}