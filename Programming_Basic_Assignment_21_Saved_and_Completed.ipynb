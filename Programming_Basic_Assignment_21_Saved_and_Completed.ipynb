{
  "nbformat": 4,
  "nbformat_minor": 0,
  "metadata": {
    "colab": {
      "provenance": []
    },
    "kernelspec": {
      "name": "python3",
      "display_name": "Python 3"
    },
    "language_info": {
      "name": "python"
    }
  },
  "cells": [
    {
      "cell_type": "code",
      "execution_count": null,
      "metadata": {
        "id": "W3mKSakoxcqI"
      },
      "outputs": [],
      "source": []
    },
    {
      "cell_type": "markdown",
      "source": [
        "**Question1**\n",
        "\n",
        "**Write a function that takes a list and a number as arguments. Add the number to the end of the list, then remove the first element of the list. The function should then return the updated list.**\n",
        "\n",
        "**Examples**\n",
        "\n",
        "next_in_line([5, 6, 7, 8, 9], 1) ➞ [6, 7, 8, 9, 1]\n",
        "\n",
        "next_in_line([7, 6, 3, 23, 17], 10) ➞ [6, 3, 23, 17, 10]\n",
        "\n",
        "next_in_line([1, 10, 20, 42 ], 6) ➞ [10, 20, 42, 6]\n",
        "\n",
        "next_in_line([], 6) ➞ \"No list has been selected\"\n"
      ],
      "metadata": {
        "id": "tCcQifAsxu0X"
      }
    },
    {
      "cell_type": "code",
      "source": [
        "## Final Result \n",
        "\n",
        "def addremove_element1( list, n):\n",
        "\n",
        "    if list != []:\n",
        "\n",
        "      \n",
        "\n",
        "      list.append(n)\n",
        "\n",
        "      \n",
        "\n",
        "      list.pop(0)\n",
        "\n",
        "      print(f\" next_in_line({list,n}) ➞ \", list)\n",
        "\n",
        "    else:\n",
        "        print(f\" next_in_line({list,n}) ➞ \", end = \" \")\n",
        "        return \"No list has been selected\""
      ],
      "metadata": {
        "id": "tL6ejvyEyeIo"
      },
      "execution_count": 10,
      "outputs": []
    },
    {
      "cell_type": "code",
      "source": [
        "addremove_element1([5, 6, 7, 8, 9], 1)"
      ],
      "metadata": {
        "colab": {
          "base_uri": "https://localhost:8080/"
        },
        "id": "Wy0k_PmU59wf",
        "outputId": "23ba2ab6-fc8a-4116-fe20-e258908cae56"
      },
      "execution_count": 11,
      "outputs": [
        {
          "output_type": "stream",
          "name": "stdout",
          "text": [
            " next_in_line(([6, 7, 8, 9, 1], 1)) ➞  [6, 7, 8, 9, 1]\n"
          ]
        }
      ]
    },
    {
      "cell_type": "code",
      "source": [
        "addremove_element1([7, 6, 3, 23, 17], 10)"
      ],
      "metadata": {
        "colab": {
          "base_uri": "https://localhost:8080/"
        },
        "id": "kGrUqCS-59zf",
        "outputId": "bda11fdc-e2c2-415c-c6c8-ffc9101210a2"
      },
      "execution_count": 12,
      "outputs": [
        {
          "output_type": "stream",
          "name": "stdout",
          "text": [
            " next_in_line(([6, 3, 23, 17, 10], 10)) ➞  [6, 3, 23, 17, 10]\n"
          ]
        }
      ]
    },
    {
      "cell_type": "code",
      "source": [
        "addremove_element1([1, 10, 20, 42 ], 6)"
      ],
      "metadata": {
        "colab": {
          "base_uri": "https://localhost:8080/"
        },
        "id": "KjQ6Sxn3592o",
        "outputId": "b301232f-3a41-42aa-cee4-ca448946a7ba"
      },
      "execution_count": 13,
      "outputs": [
        {
          "output_type": "stream",
          "name": "stdout",
          "text": [
            " next_in_line(([10, 20, 42, 6], 6)) ➞  [10, 20, 42, 6]\n"
          ]
        }
      ]
    },
    {
      "cell_type": "code",
      "source": [
        "addremove_element1([], 6)"
      ],
      "metadata": {
        "colab": {
          "base_uri": "https://localhost:8080/",
          "height": 35
        },
        "id": "ZZ-clzin595g",
        "outputId": "be1fdd9c-2a74-4b94-c115-671efbf0c2b0"
      },
      "execution_count": 14,
      "outputs": [
        {
          "output_type": "stream",
          "name": "stdout",
          "text": [
            " next_in_line(([], 6)) ➞  "
          ]
        },
        {
          "output_type": "execute_result",
          "data": {
            "text/plain": [
              "'No list has been selected'"
            ],
            "application/vnd.google.colaboratory.intrinsic+json": {
              "type": "string"
            }
          },
          "metadata": {},
          "execution_count": 14
        }
      ]
    },
    {
      "cell_type": "code",
      "source": [],
      "metadata": {
        "id": "RHoUVd7i598q"
      },
      "execution_count": null,
      "outputs": []
    },
    {
      "cell_type": "markdown",
      "source": [
        "**##########################################################################################################**"
      ],
      "metadata": {
        "id": "yTpc44ogyebU"
      }
    },
    {
      "cell_type": "markdown",
      "source": [
        "**Question2**\n",
        "\n",
        "**Create the function that takes a list of dictionaries and returns the sum of people's budgets.**\n",
        "\n",
        "**Examples**\n",
        "\n",
        "get_budgets([\n",
        "  { \"name\": \"John\", \"age\": 21, \"budget\": 23000 },\n",
        "  { \"name\": \"Steve\",  \"age\": 32, \"budget\": 40000 },\n",
        "  { \"name\": \"Martin\",  \"age\": 16, \"budget\": 2700 }\n",
        "]) ➞ 65700\n",
        "\n",
        "\n",
        "get_budgets([\n",
        "  { \"name\": \"John\",  \"age\": 21, \"budget\": 29000 },\n",
        "  { \"name\": \"Steve\",  \"age\": 32, \"budget\": 32000 },\n",
        "  { \"name\": \"Martin\",  \"age\": 16, \"budget\": 1600 }\n",
        "]) ➞ 62600\n",
        "\n"
      ],
      "metadata": {
        "id": "M0-rjqImxu4T"
      }
    },
    {
      "cell_type": "code",
      "source": [
        "## final Result\n",
        "\n",
        "def addbudget(list):\n",
        "\n",
        "  #list = [ { \"name\": \"John\", \"age\": 21, \"budget\": 23000 }, { \"name\": \"Steve\", \"age\": 32, \"budget\": 40000 }, { \"name\": \"Martin\", \"age\": 16, \"budget\": 2700 } ]\n",
        "  empty = []\n",
        "  for i in list:\n",
        "    #print(i[\"budget\"])\n",
        "    empty.append(i[\"budget\"])\n",
        "\n",
        "  print(f\"get_budgets({list}) ➞\", end = \" \")\n",
        "  print(sum(empty))"
      ],
      "metadata": {
        "id": "kI6NLwu88xbA"
      },
      "execution_count": 15,
      "outputs": []
    },
    {
      "cell_type": "code",
      "source": [
        "addbudget([ { \"name\": \"John\", \"age\": 21, \"budget\": 23000 }, { \"name\": \"Steve\", \"age\": 32, \"budget\": 40000 }, { \"name\": \"Martin\", \"age\": 16, \"budget\": 2700 } ])  \n"
      ],
      "metadata": {
        "colab": {
          "base_uri": "https://localhost:8080/"
        },
        "id": "ZHo45Lth8409",
        "outputId": "e4a20e40-585e-42c4-b698-090cd0ad9ac7"
      },
      "execution_count": 16,
      "outputs": [
        {
          "output_type": "stream",
          "name": "stdout",
          "text": [
            "get_budgets([{'name': 'John', 'age': 21, 'budget': 23000}, {'name': 'Steve', 'age': 32, 'budget': 40000}, {'name': 'Martin', 'age': 16, 'budget': 2700}]) ➞ 65700\n"
          ]
        }
      ]
    },
    {
      "cell_type": "code",
      "source": [
        "addbudget([ { \"name\": \"John\", \"age\": 21, \"budget\": 29000 }, { \"name\": \"Steve\", \"age\": 32, \"budget\": 32000 }, { \"name\": \"Martin\", \"age\": 16, \"budget\": 1600 } ])  \n"
      ],
      "metadata": {
        "colab": {
          "base_uri": "https://localhost:8080/"
        },
        "id": "cz6ZcwQd8xf7",
        "outputId": "e4c09494-a394-4e63-b22d-4b9aab7f5b3d"
      },
      "execution_count": 17,
      "outputs": [
        {
          "output_type": "stream",
          "name": "stdout",
          "text": [
            "get_budgets([{'name': 'John', 'age': 21, 'budget': 29000}, {'name': 'Steve', 'age': 32, 'budget': 32000}, {'name': 'Martin', 'age': 16, 'budget': 1600}]) ➞ 62600\n"
          ]
        }
      ]
    },
    {
      "cell_type": "code",
      "source": [],
      "metadata": {
        "id": "w1fxq7nD8xlD"
      },
      "execution_count": null,
      "outputs": []
    },
    {
      "cell_type": "markdown",
      "source": [
        "**##########################################################################################################**"
      ],
      "metadata": {
        "id": "_BMBboUMygt4"
      }
    },
    {
      "cell_type": "markdown",
      "source": [
        "**Question3**\n",
        "\n",
        "**Create a function that takes a string and returns a string with its letters in alphabetical order.**\n",
        "\n",
        "**Examples**\n",
        "\n",
        "alphabet_soup(\"hello\") ➞ \"ehllo\"\n",
        "\n",
        "alphabet_soup(\"edabit\") ➞ \"abdeit\"\n",
        "\n",
        "alphabet_soup(\"hacker\") ➞ \"acehkr\"\n",
        "\n",
        "alphabet_soup(\"geek\") ➞ \"eegk\"\n",
        "\n",
        "alphabet_soup(\"javascript\") ➞ \"aacijprstv\"\n"
      ],
      "metadata": {
        "id": "WeqL8Ke6xvAu"
      }
    },
    {
      "cell_type": "code",
      "source": [
        "## Final Result\n",
        "\n",
        "def sort(s):\n",
        "\n",
        "  #s = \"hello\"\n",
        "  sort = sorted(s)\n",
        "  print(f\"alphabet_soup({s}) ➞ \", end=\" \")\n",
        "  return ''.join(sort)"
      ],
      "metadata": {
        "id": "wX_HIM-eArmB"
      },
      "execution_count": 18,
      "outputs": []
    },
    {
      "cell_type": "code",
      "source": [
        "sort(\"hello\")"
      ],
      "metadata": {
        "colab": {
          "base_uri": "https://localhost:8080/",
          "height": 35
        },
        "id": "hjk0wdgpArpR",
        "outputId": "5a626851-9084-498c-d427-5dd955955a58"
      },
      "execution_count": 19,
      "outputs": [
        {
          "output_type": "stream",
          "name": "stdout",
          "text": [
            "alphabet_soup(hello) ➞  "
          ]
        },
        {
          "output_type": "execute_result",
          "data": {
            "text/plain": [
              "'ehllo'"
            ],
            "application/vnd.google.colaboratory.intrinsic+json": {
              "type": "string"
            }
          },
          "metadata": {},
          "execution_count": 19
        }
      ]
    },
    {
      "cell_type": "code",
      "source": [
        "sort(\"edabit\")"
      ],
      "metadata": {
        "colab": {
          "base_uri": "https://localhost:8080/",
          "height": 35
        },
        "id": "du95qDrMArsj",
        "outputId": "053acb77-9999-4a56-9bdf-d232e104cb16"
      },
      "execution_count": 20,
      "outputs": [
        {
          "output_type": "stream",
          "name": "stdout",
          "text": [
            "alphabet_soup(edabit) ➞  "
          ]
        },
        {
          "output_type": "execute_result",
          "data": {
            "text/plain": [
              "'abdeit'"
            ],
            "application/vnd.google.colaboratory.intrinsic+json": {
              "type": "string"
            }
          },
          "metadata": {},
          "execution_count": 20
        }
      ]
    },
    {
      "cell_type": "code",
      "source": [
        "sort(\"hacker\")"
      ],
      "metadata": {
        "colab": {
          "base_uri": "https://localhost:8080/",
          "height": 35
        },
        "id": "WTaWDyByArvh",
        "outputId": "226a9bd4-44cf-4956-a351-1bdc87e2c27b"
      },
      "execution_count": 21,
      "outputs": [
        {
          "output_type": "stream",
          "name": "stdout",
          "text": [
            "alphabet_soup(hacker) ➞  "
          ]
        },
        {
          "output_type": "execute_result",
          "data": {
            "text/plain": [
              "'acehkr'"
            ],
            "application/vnd.google.colaboratory.intrinsic+json": {
              "type": "string"
            }
          },
          "metadata": {},
          "execution_count": 21
        }
      ]
    },
    {
      "cell_type": "code",
      "source": [
        "sort(\"geek\")"
      ],
      "metadata": {
        "colab": {
          "base_uri": "https://localhost:8080/",
          "height": 35
        },
        "id": "Trjf2_7FAryx",
        "outputId": "32a30f67-d608-4228-f21a-f0f982f4ea0c"
      },
      "execution_count": 22,
      "outputs": [
        {
          "output_type": "stream",
          "name": "stdout",
          "text": [
            "alphabet_soup(geek) ➞  "
          ]
        },
        {
          "output_type": "execute_result",
          "data": {
            "text/plain": [
              "'eegk'"
            ],
            "application/vnd.google.colaboratory.intrinsic+json": {
              "type": "string"
            }
          },
          "metadata": {},
          "execution_count": 22
        }
      ]
    },
    {
      "cell_type": "code",
      "source": [
        "sort(\"javascript\")"
      ],
      "metadata": {
        "colab": {
          "base_uri": "https://localhost:8080/",
          "height": 35
        },
        "id": "nfiiUQK2Aw7w",
        "outputId": "762fc4e3-58b6-46cc-db1f-aa2cbbb0b66c"
      },
      "execution_count": 23,
      "outputs": [
        {
          "output_type": "stream",
          "name": "stdout",
          "text": [
            "alphabet_soup(javascript) ➞  "
          ]
        },
        {
          "output_type": "execute_result",
          "data": {
            "text/plain": [
              "'aacijprstv'"
            ],
            "application/vnd.google.colaboratory.intrinsic+json": {
              "type": "string"
            }
          },
          "metadata": {},
          "execution_count": 23
        }
      ]
    },
    {
      "cell_type": "markdown",
      "source": [
        "**##########################################################################################################**"
      ],
      "metadata": {
        "id": "16qRoaHTyh8d"
      }
    },
    {
      "cell_type": "markdown",
      "source": [
        "**Question4**\n",
        "\n",
        "**Suppose that you invest $10,000 for 10 years at an interest rate of 6% compounded monthly. What will be the value of your investment at the end of the 10 year period?**\n",
        "\n",
        "**Create a function that accepts the principal p, the term in years t, the interest rate r, and the number of compounding periods per year n. The function returns the value at the end of term rounded to the nearest cent.**\n",
        "\n",
        "**For the example above:**\n",
        "\n",
        "compound_interest(10000, 10, 0.06, 12) ➞ 18193.97\n",
        "Note that the interest rate is given as a decimal and n=12 because with monthly compounding there are 12 periods per year. Compounding can also be done annually, quarterly, weekly, or daily \n",
        "\n",
        "\n",
        "**Examples**\n",
        "\n",
        "compound_interest(100, 1, 0.05, 1) ➞ 105.0\n",
        "\n",
        "compound_interest(3500, 15, 0.1, 4) ➞ 15399.26\n",
        "\n",
        "compound_interest(100000, 20, 0.15, 365) ➞ 2007316.26\n"
      ],
      "metadata": {
        "id": "zOTcMNnixvGF"
      }
    },
    {
      "cell_type": "code",
      "source": [
        "## Final Result \n",
        "\n",
        "def compound(p,t,r,m) :\n",
        "  #p = 100\n",
        "  #t = 1\n",
        "  #r = 0.05\n",
        "  #m =  1\n",
        "  a = p * (1 + (r/m)) ** (t *m)\n",
        "  print(f\"compound_interest({p,t,r,m}) ➞ \", end= \" \")\n",
        "  print(round(a))"
      ],
      "metadata": {
        "id": "6g7p8bctGsSV"
      },
      "execution_count": 29,
      "outputs": []
    },
    {
      "cell_type": "code",
      "source": [
        "compound(10000, 10, 0.06, 12)"
      ],
      "metadata": {
        "colab": {
          "base_uri": "https://localhost:8080/"
        },
        "id": "eZnpOCoeGutf",
        "outputId": "1064db59-e5ed-4434-870a-f6124ccfb057"
      },
      "execution_count": 30,
      "outputs": [
        {
          "output_type": "stream",
          "name": "stdout",
          "text": [
            "compound_interest((10000, 10, 0.06, 12)) ➞  18194\n"
          ]
        }
      ]
    },
    {
      "cell_type": "code",
      "source": [
        "compound(100, 1, 0.05, 1)"
      ],
      "metadata": {
        "colab": {
          "base_uri": "https://localhost:8080/"
        },
        "id": "agWW2YFCGuw2",
        "outputId": "299defc4-743a-4a32-98cc-a6763ec2c379"
      },
      "execution_count": 31,
      "outputs": [
        {
          "output_type": "stream",
          "name": "stdout",
          "text": [
            "compound_interest((100, 1, 0.05, 1)) ➞  105\n"
          ]
        }
      ]
    },
    {
      "cell_type": "code",
      "source": [
        "compound(3500, 15, 0.1, 4)"
      ],
      "metadata": {
        "colab": {
          "base_uri": "https://localhost:8080/"
        },
        "id": "_9wmQNc2Gu0A",
        "outputId": "9b54968a-32e6-4dfc-9b9c-ecbb6eb81a8e"
      },
      "execution_count": 32,
      "outputs": [
        {
          "output_type": "stream",
          "name": "stdout",
          "text": [
            "compound_interest((3500, 15, 0.1, 4)) ➞  15399\n"
          ]
        }
      ]
    },
    {
      "cell_type": "code",
      "source": [
        "compound(100000, 20, 0.15, 365)"
      ],
      "metadata": {
        "colab": {
          "base_uri": "https://localhost:8080/"
        },
        "id": "rpuWyug7Gu3V",
        "outputId": "16ce6d83-bb29-45cb-aeaa-f16a1d43712e"
      },
      "execution_count": 33,
      "outputs": [
        {
          "output_type": "stream",
          "name": "stdout",
          "text": [
            "compound_interest((100000, 20, 0.15, 365)) ➞  2007316\n"
          ]
        }
      ]
    },
    {
      "cell_type": "markdown",
      "source": [
        "**##########################################################################################################**"
      ],
      "metadata": {
        "id": "XAPJ-U98yitP"
      }
    },
    {
      "cell_type": "markdown",
      "source": [
        "**Question5**\n",
        "\n",
        "**Write a function that takes a list of elements and returns only the integers**.\n",
        "\n",
        "**Examples**\n",
        "\n",
        "return_only_integer([9, 2, \"space\", \"car\", \"lion\", 16]) ➞ [9, 2, 16]\n",
        "\n",
        "return_only_integer([\"hello\", 81, \"basketball\", 123, \"fox\"]) ➞ [81, 123]\n",
        "\n",
        "return_only_integer([10, \"121\", 56, 20, \"car\", 3, \"lion\"]) ➞ [10, 56, 20, 3]\n",
        "\n",
        "return_only_integer([\"String\",  True,  3.3,  1]) ➞ [1]\n"
      ],
      "metadata": {
        "id": "aDrxr5zFxvNr"
      }
    },
    {
      "cell_type": "code",
      "source": [
        "## Final Result\n",
        "\n",
        "def numbersonly(list):\n",
        "  #list = [1, 2, 3, \"a\", \"b\", 4]\n",
        "\n",
        "  newlist =[]\n",
        "\n",
        "  for i in list:\n",
        "    if type(i) == int :\n",
        "\n",
        "      newlist.append(i)\n",
        "\n",
        "  print(f\"return_only_integer({list}) ➞\", end = \" \")\n",
        "  print(newlist)\n",
        "\n"
      ],
      "metadata": {
        "id": "Crpagl_YDsVE"
      },
      "execution_count": 24,
      "outputs": []
    },
    {
      "cell_type": "code",
      "source": [
        "numbersonly([9, 2, \"space\", \"car\", \"lion\", 16])"
      ],
      "metadata": {
        "colab": {
          "base_uri": "https://localhost:8080/"
        },
        "id": "O5FRsGPUEK8k",
        "outputId": "f6aec913-6bd3-4939-ff03-33a1eb3eef40"
      },
      "execution_count": 25,
      "outputs": [
        {
          "output_type": "stream",
          "name": "stdout",
          "text": [
            "return_only_integer([9, 2, 'space', 'car', 'lion', 16]) ➞ [9, 2, 16]\n"
          ]
        }
      ]
    },
    {
      "cell_type": "code",
      "source": [
        "numbersonly([\"hello\", 81, \"basketball\", 123, \"fox\"])"
      ],
      "metadata": {
        "colab": {
          "base_uri": "https://localhost:8080/"
        },
        "id": "wyP6gqqGEK_n",
        "outputId": "c388265d-5473-4585-91b1-1f2e5f25f97c"
      },
      "execution_count": 26,
      "outputs": [
        {
          "output_type": "stream",
          "name": "stdout",
          "text": [
            "return_only_integer(['hello', 81, 'basketball', 123, 'fox']) ➞ [81, 123]\n"
          ]
        }
      ]
    },
    {
      "cell_type": "code",
      "source": [
        "numbersonly([10, \"121\", 56, 20, \"car\", 3, \"lion\"])"
      ],
      "metadata": {
        "colab": {
          "base_uri": "https://localhost:8080/"
        },
        "id": "S7rmm7ZMELCi",
        "outputId": "5b833f14-659a-4dda-a615-3d5ab9507a8c"
      },
      "execution_count": 27,
      "outputs": [
        {
          "output_type": "stream",
          "name": "stdout",
          "text": [
            "return_only_integer([10, '121', 56, 20, 'car', 3, 'lion']) ➞ [10, 56, 20, 3]\n"
          ]
        }
      ]
    },
    {
      "cell_type": "code",
      "source": [
        "numbersonly([\"String\", True, 3.3, 1])"
      ],
      "metadata": {
        "colab": {
          "base_uri": "https://localhost:8080/"
        },
        "id": "GZ8UBSwGELFd",
        "outputId": "016d1a8c-304d-4f71-b3b5-ec5c191d8454"
      },
      "execution_count": 28,
      "outputs": [
        {
          "output_type": "stream",
          "name": "stdout",
          "text": [
            "return_only_integer(['String', True, 3.3, 1]) ➞ [1]\n"
          ]
        }
      ]
    },
    {
      "cell_type": "code",
      "source": [],
      "metadata": {
        "id": "odHoKsVNELMK"
      },
      "execution_count": null,
      "outputs": []
    },
    {
      "cell_type": "markdown",
      "source": [
        "**##########################################################################################################**"
      ],
      "metadata": {
        "id": "JRlGp_A9yjbv"
      }
    }
  ]
}