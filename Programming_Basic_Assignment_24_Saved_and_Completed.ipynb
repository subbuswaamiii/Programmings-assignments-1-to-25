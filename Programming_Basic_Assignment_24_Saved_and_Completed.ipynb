{
  "nbformat": 4,
  "nbformat_minor": 0,
  "metadata": {
    "colab": {
      "provenance": []
    },
    "kernelspec": {
      "name": "python3",
      "display_name": "Python 3"
    },
    "language_info": {
      "name": "python"
    }
  },
  "cells": [
    {
      "cell_type": "code",
      "execution_count": null,
      "metadata": {
        "id": "EK4VeR5wO43K"
      },
      "outputs": [],
      "source": []
    },
    {
      "cell_type": "markdown",
      "source": [
        "**Question1**\n",
        "\n",
        "Create a function that takes an integer and returns a list from 1 to the given number, where:\n",
        "\n",
        "1.\tIf the number can be divided evenly by 4, amplify it by 10 (i.e. return 10 times the number).\n",
        "\n",
        "2.\tIf the number cannot be divided evenly by 4, simply return the number.\n",
        "\n",
        "\n",
        "**Examples**\n",
        "amplify(4) ➞ [1, 2, 3, 40]\n",
        "\n",
        "amplify(3) ➞ [1, 2, 3]\n",
        "\n",
        "amplify(25) ➞ [1, 2, 3, 40, 5, 6, 7, 80, 9, 10, 11, 120, 13, 14, 15, 160, 17, 18, 19, 200, 21, 22, 23, 240, 25]\n",
        "\n",
        "**Notes**\n",
        "\n",
        "•\tThe given integer will always be equal to or greater than 1.\n",
        "\n",
        "•\tInclude the number (see example above).\n",
        "\n",
        "•\tTo perform this problem with its intended purpose, try doing it with list comprehensions. \n",
        "\n",
        "If that's too difficult, just solve the challenge any way you can.\n"
      ],
      "metadata": {
        "id": "BzcZYo1sO80B"
      }
    },
    {
      "cell_type": "code",
      "source": [
        "## final Result\n",
        "\n",
        "def func(n):\n",
        "\n",
        "  #n = 25\n",
        "\n",
        "  empty = []\n",
        "  list2 = []\n",
        "\n",
        "  for i in range(1, n+1):\n",
        "\n",
        "    empty.append(i)\n",
        "\n",
        "  #print(\"Original List = \",end=\" \")\n",
        "  #print(empty)\n",
        "  print(f\"amplify({n}) ➞\", end=\" \")\n",
        "  for j in empty :\n",
        "    if j%4 != 0:\n",
        "      #print(j*10)\n",
        "      list2.append(j)\n",
        "  #print(list2)\n",
        "    elif j%4 == 0:\n",
        "      list2.append(j*10)\n",
        "      #print(list2)\n",
        "  else:\n",
        "    print(list2)"
      ],
      "metadata": {
        "id": "HOqLCTr8XWht"
      },
      "execution_count": null,
      "outputs": []
    },
    {
      "cell_type": "code",
      "source": [
        "func(25) "
      ],
      "metadata": {
        "colab": {
          "base_uri": "https://localhost:8080/"
        },
        "id": "nGIoMpihXWkf",
        "outputId": "1c150aac-8734-406c-ea14-d39abc181893"
      },
      "execution_count": null,
      "outputs": [
        {
          "output_type": "stream",
          "name": "stdout",
          "text": [
            "amplify(25) ➞ [1, 2, 3, 40, 5, 6, 7, 80, 9, 10, 11, 120, 13, 14, 15, 160, 17, 18, 19, 200, 21, 22, 23, 240, 25]\n"
          ]
        }
      ]
    },
    {
      "cell_type": "code",
      "source": [
        "func(4)"
      ],
      "metadata": {
        "colab": {
          "base_uri": "https://localhost:8080/"
        },
        "id": "tFadOAcqXWnf",
        "outputId": "5f31bdad-03fd-4d9a-cf5f-1a4bcdd8b28b"
      },
      "execution_count": null,
      "outputs": [
        {
          "output_type": "stream",
          "name": "stdout",
          "text": [
            "amplify(4) ➞ [1, 2, 3, 40]\n"
          ]
        }
      ]
    },
    {
      "cell_type": "code",
      "source": [
        "func(3)"
      ],
      "metadata": {
        "colab": {
          "base_uri": "https://localhost:8080/"
        },
        "id": "gPfagwE6XWqf",
        "outputId": "e3133603-e185-47a9-a8ce-1170628bd629"
      },
      "execution_count": null,
      "outputs": [
        {
          "output_type": "stream",
          "name": "stdout",
          "text": [
            "amplify(3) ➞ [1, 2, 3]\n"
          ]
        }
      ]
    },
    {
      "cell_type": "markdown",
      "source": [
        "**##########################################################################################################**"
      ],
      "metadata": {
        "id": "yG6HNOzaO827"
      }
    },
    {
      "cell_type": "markdown",
      "source": [
        "**Question2**\n",
        "\n",
        "Create a function that takes a list of numbers and return the number that's unique.\n",
        "\n",
        "**Examples**\n",
        "\n",
        "unique([3, 3, 3, 7, 3, 3]) ➞ 7\n",
        "\n",
        "unique([0, 0, 0.77, 0, 0]) ➞ 0.77\n",
        "\n",
        "unique([0, 1, 1, 1, 1, 1, 1, 1]) ➞ 0\n",
        "\n",
        "**Notes**\n",
        "\n",
        "Test cases will always have exactly one unique number while all others are the same.\n"
      ],
      "metadata": {
        "id": "xvYNS-SIO86T"
      }
    },
    {
      "cell_type": "code",
      "source": [
        "## final Result\n",
        "\n",
        "def abc(list1):\n",
        "\n",
        "  #list1 = [3, 3, 3, 7, 3, 3]\n",
        "  print(f\"unique({list1}) ➞\", end=\" \")\n",
        "  for i in list1:\n",
        "    if list1.count(i) == 1:\n",
        "      print(i)"
      ],
      "metadata": {
        "id": "E_mfhJR6P3Sp"
      },
      "execution_count": null,
      "outputs": []
    },
    {
      "cell_type": "code",
      "source": [
        "abc([3, 3, 3, 7, 3, 3]) "
      ],
      "metadata": {
        "colab": {
          "base_uri": "https://localhost:8080/"
        },
        "id": "e9gVJtguYZoz",
        "outputId": "b392705c-ec93-46cf-b7c8-95b2159f32ad"
      },
      "execution_count": null,
      "outputs": [
        {
          "output_type": "stream",
          "name": "stdout",
          "text": [
            "unique([3, 3, 3, 7, 3, 3]) ➞ 7\n"
          ]
        }
      ]
    },
    {
      "cell_type": "code",
      "source": [
        "abc([0, 0, 0.77, 0, 0]) "
      ],
      "metadata": {
        "colab": {
          "base_uri": "https://localhost:8080/"
        },
        "id": "5vx678TqYZru",
        "outputId": "6511b51f-e9d3-47a1-b6b6-9bc5b15d59da"
      },
      "execution_count": null,
      "outputs": [
        {
          "output_type": "stream",
          "name": "stdout",
          "text": [
            "unique([0, 0, 0.77, 0, 0]) ➞ 0.77\n"
          ]
        }
      ]
    },
    {
      "cell_type": "code",
      "source": [
        "abc([0, 1, 1, 1, 1, 1, 1, 1]) "
      ],
      "metadata": {
        "colab": {
          "base_uri": "https://localhost:8080/"
        },
        "id": "t5W6-GTsYZvV",
        "outputId": "f8649903-8be1-4048-feb1-b161b4a201a1"
      },
      "execution_count": null,
      "outputs": [
        {
          "output_type": "stream",
          "name": "stdout",
          "text": [
            "unique([0, 1, 1, 1, 1, 1, 1, 1]) ➞ 0\n"
          ]
        }
      ]
    },
    {
      "cell_type": "markdown",
      "source": [
        "**##########################################################################################################**"
      ],
      "metadata": {
        "id": "sREtUvbpO89D"
      }
    },
    {
      "cell_type": "markdown",
      "source": [
        "**Question3**\n",
        "\n",
        "Your task is to create a Circle constructor that creates a circle with a radius provided by an argument. The circles constructed must have two getters getArea() (PIr^2) and getPerimeter() (2PI*r) which give both respective areas and perimeter (circumference).\n",
        "\n",
        "For help with this class, I have provided you with a Rectangle constructor which you can use as a base example.\n",
        "\n",
        "**Examples**\n",
        "\n",
        "circy = Circle(11)\n",
        "circy.getArea()\n",
        "\n",
        "# Should return 380.132711084365\n",
        "\n",
        "circy = Circle(4.44)\n",
        "circy.getPerimeter()\n",
        "\n",
        "# Should return 27.897342763877365\n",
        "\n",
        "**Notes**\n",
        "\n",
        "Round results up to the nearest integer.\n"
      ],
      "metadata": {
        "id": "INQiQcSOO9AQ"
      }
    },
    {
      "cell_type": "code",
      "source": [
        "## final Result\n",
        "\n",
        "\n",
        "class circle:\n",
        "\n",
        "  def __init__(self, r =0):\n",
        "    self.r = r \n",
        "\n",
        "  def get_area(self):\n",
        "    area = (22/7)*(self.r**2)\n",
        "    self.area = area\n",
        "    print(\"Area of circle is =\", end=\" \")\n",
        "    return self.area\n",
        "\n",
        "  def get_perimeter(self)  :\n",
        "    perimeter = 2*(22/7)*self.r\n",
        "    self.perimeter = perimeter\n",
        "    print(\"Perimeter of circle is =\", end=\" \")\n",
        "    return self.perimeter\n",
        "\n",
        "\n",
        "circy =circle(11) \n",
        "print(circy.get_area())  \n",
        "print(circy.get_perimeter())"
      ],
      "metadata": {
        "id": "NXYWsv0qP1rN",
        "colab": {
          "base_uri": "https://localhost:8080/"
        },
        "outputId": "32dcdebc-33f6-48bc-841a-c8d67cc924be"
      },
      "execution_count": 1,
      "outputs": [
        {
          "output_type": "stream",
          "name": "stdout",
          "text": [
            "Area of circle is = 380.2857142857143\n",
            "Perimeter of circle is = 69.14285714285714\n"
          ]
        }
      ]
    },
    {
      "cell_type": "code",
      "source": [
        "circy =circle(4.44) \n",
        "print(circy.get_area())  \n",
        "print(circy.get_perimeter())"
      ],
      "metadata": {
        "colab": {
          "base_uri": "https://localhost:8080/"
        },
        "id": "V3tfTWAwsCxo",
        "outputId": "aed603d6-75fb-4d18-f671-21f91b595b1c"
      },
      "execution_count": 2,
      "outputs": [
        {
          "output_type": "stream",
          "name": "stdout",
          "text": [
            "Area of circle is = 61.95702857142858\n",
            "Perimeter of circle is = 27.90857142857143\n"
          ]
        }
      ]
    },
    {
      "cell_type": "markdown",
      "source": [
        "**##########################################################################################################**"
      ],
      "metadata": {
        "id": "f3LRsw9gO9DI"
      }
    },
    {
      "cell_type": "markdown",
      "source": [
        "**Question4**\n",
        "\n",
        "Create a function that takes a list of strings and return a list, sorted from shortest to longest.\n",
        "\n",
        "**Examples**\n",
        "\n",
        "sort_by_length([\"Google\", \"Apple\", \"Microsoft\"])\n",
        "➞ [\"Apple\", \"Google\", \"Microsoft\"]\n",
        "\n",
        "sort_by_length([\"Leonardo\", \"Michelangelo\", \"Raphael\", \"Donatello\"])\n",
        "➞ [\"Raphael\", \"Leonardo\", \"Donatello\", \"Michelangelo\"]\n",
        "\n",
        "sort_by_length([\"Turing\", \"Einstein\", \"Jung\"])\n",
        "➞ [\"Jung\", \"Turing\", \"Einstein\"]\n",
        "\n",
        "**Notes**\n",
        "\n",
        "All test cases contain lists with strings of different lengths, so you won't have to deal with multiple strings of the same length.\n"
      ],
      "metadata": {
        "id": "-J490GHMO9GA"
      }
    },
    {
      "cell_type": "code",
      "source": [
        "# Final  Result\n",
        "\n",
        "def sort(list1):\n",
        "\n",
        "  #list1 = [\"Google\", \"Apple\", \"Microsoft\"]\n",
        "  list1.sort(key = len)\n",
        "  print(list1)"
      ],
      "metadata": {
        "id": "ujzwGJFGP0AV"
      },
      "execution_count": 13,
      "outputs": []
    },
    {
      "cell_type": "code",
      "source": [
        "sort([\"Google\", \"Apple\", \"Microsoft\"])"
      ],
      "metadata": {
        "colab": {
          "base_uri": "https://localhost:8080/"
        },
        "id": "gi5jCdWl4eKF",
        "outputId": "17f24859-67ed-495d-e037-a0b144ef87a0"
      },
      "execution_count": 14,
      "outputs": [
        {
          "output_type": "stream",
          "name": "stdout",
          "text": [
            "['Apple', 'Google', 'Microsoft']\n"
          ]
        }
      ]
    },
    {
      "cell_type": "code",
      "source": [
        "sort([\"Leonardo\", \"Michelangelo\", \"Raphael\", \"Donatello\"])"
      ],
      "metadata": {
        "colab": {
          "base_uri": "https://localhost:8080/"
        },
        "id": "ib6s7OYf4eNK",
        "outputId": "e3dce660-0e9e-4301-f4a7-95f38673e5a6"
      },
      "execution_count": 15,
      "outputs": [
        {
          "output_type": "stream",
          "name": "stdout",
          "text": [
            "['Raphael', 'Leonardo', 'Donatello', 'Michelangelo']\n"
          ]
        }
      ]
    },
    {
      "cell_type": "code",
      "source": [
        "sort([\"Turing\", \"Einstein\", \"Jung\"])"
      ],
      "metadata": {
        "colab": {
          "base_uri": "https://localhost:8080/"
        },
        "id": "tntu85ER4eQQ",
        "outputId": "20e48eb1-6f57-43e2-c1ab-94381420d540"
      },
      "execution_count": 16,
      "outputs": [
        {
          "output_type": "stream",
          "name": "stdout",
          "text": [
            "['Jung', 'Turing', 'Einstein']\n"
          ]
        }
      ]
    },
    {
      "cell_type": "markdown",
      "source": [
        "**##########################################################################################################**"
      ],
      "metadata": {
        "id": "NkmCzdR7O9I3"
      }
    },
    {
      "cell_type": "markdown",
      "source": [
        "**Question5**\n",
        "\n",
        "Create a function that validates whether three given integers form a Pythagorean triplet. The sum of the squares of the two smallest integers must equal the square of the largest number to be validated.\n",
        "\n",
        "\n",
        "**Examples**\n",
        "\n",
        "is_triplet(3, 4, 5) ➞ True\n",
        "# 3² + 4² = 25\n",
        "# 5² = 25\n",
        "\n",
        "is_triplet(13, 5, 12) ➞ True\n",
        "# 5² + 12² = 169\n",
        "# 13² = 169\n",
        "\n",
        "is_triplet(1, 2, 3) ➞ False\n",
        "# 1² + 2² = 5\n",
        "# 3² = 9\n",
        "\n",
        "**Notes**\n",
        "\n",
        "Numbers may not be given in a sorted order.\n"
      ],
      "metadata": {
        "id": "u484CTueO9MJ"
      }
    },
    {
      "cell_type": "code",
      "source": [
        "## final Result\n",
        "\n",
        "\n",
        "def func(a,b,c):\n",
        "\n",
        "  \n",
        "  empty = []\n",
        "  empty.append(a)\n",
        "  empty.append(b)\n",
        "  empty.append(c)\n",
        "\n",
        "  \n",
        "  empty.sort()\n",
        "  sorted_list = empty\n",
        "  \n",
        "  sum_of_square_of_1_and_2_elements = ((sorted_list[0])**2) + ((sorted_list[1])**2)\n",
        "  \n",
        "  square_of_large_element = ((sorted_list[2])**2)\n",
        "  \n",
        "\n",
        "  print(f\"is_triplet({a,b,c}) ➞ \", end=\" \")\n",
        "\n",
        "  if sum_of_square_of_1_and_2_elements == square_of_large_element :\n",
        "    print(\"True\")\n",
        "\n",
        "  else:\n",
        "    print(\"False\")"
      ],
      "metadata": {
        "id": "U5bHQ4EXPyjO"
      },
      "execution_count": 9,
      "outputs": []
    },
    {
      "cell_type": "code",
      "source": [
        "func(13,5,12)"
      ],
      "metadata": {
        "colab": {
          "base_uri": "https://localhost:8080/"
        },
        "id": "MS7kt0hl2H6V",
        "outputId": "6de3aa7c-f8a6-49b4-dbd5-5cd98ee98eaa"
      },
      "execution_count": 10,
      "outputs": [
        {
          "output_type": "stream",
          "name": "stdout",
          "text": [
            "is_triplet((13, 5, 12)) ➞  True\n"
          ]
        }
      ]
    },
    {
      "cell_type": "code",
      "source": [
        "func(3,4,5)"
      ],
      "metadata": {
        "colab": {
          "base_uri": "https://localhost:8080/"
        },
        "id": "kg44gX7z2H9e",
        "outputId": "6fb62c22-5dc0-45bd-8bee-bd8cb38f8ed5"
      },
      "execution_count": 11,
      "outputs": [
        {
          "output_type": "stream",
          "name": "stdout",
          "text": [
            "is_triplet((3, 4, 5)) ➞  True\n"
          ]
        }
      ]
    },
    {
      "cell_type": "code",
      "source": [
        "func(1,2,3)"
      ],
      "metadata": {
        "colab": {
          "base_uri": "https://localhost:8080/"
        },
        "id": "hL2_vvxm2IBY",
        "outputId": "31d4f89d-2f9b-42ad-b9b0-c07bb4aa31c7"
      },
      "execution_count": 12,
      "outputs": [
        {
          "output_type": "stream",
          "name": "stdout",
          "text": [
            "is_triplet((1, 2, 3)) ➞  False\n"
          ]
        }
      ]
    },
    {
      "cell_type": "markdown",
      "source": [
        "**##########################################################################################################**"
      ],
      "metadata": {
        "id": "fh36zuIMO9QX"
      }
    }
  ]
}