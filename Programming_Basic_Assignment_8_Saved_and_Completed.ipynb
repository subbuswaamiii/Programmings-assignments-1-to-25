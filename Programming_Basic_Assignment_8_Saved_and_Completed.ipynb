{
  "nbformat": 4,
  "nbformat_minor": 0,
  "metadata": {
    "colab": {
      "provenance": []
    },
    "kernelspec": {
      "name": "python3",
      "display_name": "Python 3"
    },
    "language_info": {
      "name": "python"
    }
  },
  "cells": [
    {
      "cell_type": "code",
      "execution_count": null,
      "metadata": {
        "id": "V6XZXrUYlTQ1"
      },
      "outputs": [],
      "source": []
    },
    {
      "cell_type": "markdown",
      "source": [
        "**Question 1 -Write a Python Program to Add Two Matrices?**\n",
        "\n",
        "\n",
        "**Answer 1 -**"
      ],
      "metadata": {
        "id": "vCFa36lBlhJg"
      }
    },
    {
      "cell_type": "code",
      "source": [
        "import numpy as np\n",
        "\n",
        "X = [[1,2,3],\t[1,2,3],[1,2,3]]\n",
        "\n",
        "Y = [[1,2,3], [1,2,3], [1,2,3]]\n",
        "\n",
        "result = np.array(X) + np.array(Y)\n",
        "\n",
        "print(result)"
      ],
      "metadata": {
        "id": "-xyZgRVhlhwP",
        "colab": {
          "base_uri": "https://localhost:8080/"
        },
        "outputId": "8ab668f2-be0d-48f9-edbe-089f0dc6601d"
      },
      "execution_count": 1,
      "outputs": [
        {
          "output_type": "stream",
          "name": "stdout",
          "text": [
            "[[2 4 6]\n",
            " [2 4 6]\n",
            " [2 4 6]]\n"
          ]
        }
      ]
    },
    {
      "cell_type": "markdown",
      "source": [
        "**##########################################################################################################**"
      ],
      "metadata": {
        "id": "-cZDNwK-lj2I"
      }
    },
    {
      "cell_type": "markdown",
      "source": [
        "**Question 2 -Write a Python Program to Multiply Two Matrices?**\n",
        "\n",
        "\n",
        "**Answer 2 -**"
      ],
      "metadata": {
        "id": "og6cq7volln7"
      }
    },
    {
      "cell_type": "code",
      "source": [
        "A = [[1,2,3],\t[1,2,3],[1,2,3]]\n",
        "\n",
        "# take a 3x3 matrix\n",
        "B = [[1,2,3],\t[1,2,3],[1,2,3]]\n",
        "\n",
        "# result will be 3x4\n",
        "\n",
        "result= [[0,0,0],\n",
        "\t\t[0,0,0],\n",
        "\t\t[0,0,0]]\n",
        "\n",
        "result = np.dot(A,B)\n",
        "print(\"Multiplication of Matrix A and Matrix B is  = \", end=\" \")\n",
        "for r in result:\n",
        "\tprint(r)"
      ],
      "metadata": {
        "id": "Zata1SABlh4X",
        "colab": {
          "base_uri": "https://localhost:8080/"
        },
        "outputId": "07b31cc5-581e-479c-abde-ffe74c24a4c5"
      },
      "execution_count": 2,
      "outputs": [
        {
          "output_type": "stream",
          "name": "stdout",
          "text": [
            "Multiplication of Matrix A and Matrix B is  =  [ 6 12 18]\n",
            "[ 6 12 18]\n",
            "[ 6 12 18]\n"
          ]
        }
      ]
    },
    {
      "cell_type": "markdown",
      "source": [
        "**##########################################################################################################**"
      ],
      "metadata": {
        "id": "GZfoIIXhlmTQ"
      }
    },
    {
      "cell_type": "markdown",
      "source": [
        "**Question 3 -Write a Python Program to Transpose a Matrix?**\n",
        "\n",
        "\n",
        "**Answer 3 -**"
      ],
      "metadata": {
        "id": "XeVQjsrllnAR"
      }
    },
    {
      "cell_type": "code",
      "source": [
        "n = 3\n",
        "\n",
        "\n",
        "def trans(M):\n",
        "  for i in range(n):\n",
        "    for j in range(i+1, n):\n",
        "     M[i][j],M[j][i] =M[j][i],M[i][j]\n",
        "\n",
        "\n",
        "\n",
        "\n",
        "# driver code\n",
        "M = [ [1, 1, 1],\n",
        "[2, 2, 2],\n",
        "[3, 3, 3],\n",
        "[4, 4, 4]]\n",
        "\n",
        "trans(M)\n",
        "\n",
        "print(\"Modified matrix is\")\n",
        "for i in range(n):\n",
        "  for j in range(n):\n",
        "    print(M[i][j], \" \", end='')\n",
        "  print()"
      ],
      "metadata": {
        "id": "EovQr28mlh_B",
        "colab": {
          "base_uri": "https://localhost:8080/"
        },
        "outputId": "1845d01c-25e2-4c33-cd26-ea5e3da6e020"
      },
      "execution_count": 4,
      "outputs": [
        {
          "output_type": "stream",
          "name": "stdout",
          "text": [
            "Modified matrix is\n",
            "1  2  3  \n",
            "1  2  3  \n",
            "1  2  3  \n"
          ]
        }
      ]
    },
    {
      "cell_type": "markdown",
      "source": [],
      "metadata": {
        "id": "AXMKNwTl81Bk"
      }
    },
    {
      "cell_type": "markdown",
      "source": [
        "**##########################################################################################################**"
      ],
      "metadata": {
        "id": "AZUmbWo8loTB"
      }
    },
    {
      "cell_type": "markdown",
      "source": [
        "**Question 4 -Write a Python Program to Sort Words in Alphabetic Order?**\n",
        "\n",
        "\n",
        "**Answer 4 -**"
      ],
      "metadata": {
        "id": "HaWFwTZClpGm"
      }
    },
    {
      "cell_type": "code",
      "source": [
        "def sort(Str):\n",
        "\twords = Str.split(\" \")\n",
        "\tfor i in range(len(words)):\n",
        "\t\twords[i] = words[i].lower()\n",
        "\twords.sort()\n",
        "\n",
        "\t# return the sorted words\n",
        "\treturn ' '.join(words)\n",
        "\n",
        "# Driver code\n",
        "Str = \"Python Program to Sort Words in Alphabetic Order\"\n",
        "print(sort(Str))"
      ],
      "metadata": {
        "id": "pgLCxJYIliCH",
        "colab": {
          "base_uri": "https://localhost:8080/"
        },
        "outputId": "92da9074-89b6-425d-aa30-a8718acc0d48"
      },
      "execution_count": 6,
      "outputs": [
        {
          "output_type": "stream",
          "name": "stdout",
          "text": [
            "alphabetic in order program python sort to words\n"
          ]
        }
      ]
    },
    {
      "cell_type": "markdown",
      "source": [
        "**##########################################################################################################**"
      ],
      "metadata": {
        "id": "yE6lmWr6lp0i"
      }
    },
    {
      "cell_type": "markdown",
      "source": [
        "**Question 5 -Write a Python Program to Remove Punctuation From a String?**\n",
        "\n",
        "\n",
        "**Answer 5 -**"
      ],
      "metadata": {
        "id": "xBzTVbpPlrfk"
      }
    },
    {
      "cell_type": "code",
      "source": [
        "punctuations = '''!()-[]{};:'\"\\,<>./?@#$%^&*_~'''\n",
        "\n",
        "str = \"Question 5 -Write a Python Program to Remove Punctuation From a String? Answer 5 -\"\n",
        "\n",
        "new_str = \"\"\n",
        "for char in str:\n",
        "   if char not in punctuations:\n",
        "       new_str = new_str + char\n",
        "\n",
        "\n",
        "print(new_str)"
      ],
      "metadata": {
        "id": "KfjWdI3kliFB",
        "colab": {
          "base_uri": "https://localhost:8080/"
        },
        "outputId": "8ade6a0d-b784-4dfe-9b71-07edae85fa1d"
      },
      "execution_count": 9,
      "outputs": [
        {
          "output_type": "stream",
          "name": "stdout",
          "text": [
            "Question 5 Write a Python Program to Remove Punctuation From a String Answer 5 \n"
          ]
        }
      ]
    },
    {
      "cell_type": "markdown",
      "source": [
        "**##########################################################################################################**"
      ],
      "metadata": {
        "id": "ciy5IxuqlsEb"
      }
    }
  ]
}